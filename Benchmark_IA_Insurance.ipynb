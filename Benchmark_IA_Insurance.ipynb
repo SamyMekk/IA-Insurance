{
 "cells": [
  {
   "cell_type": "markdown",
   "id": "b9cb9ae3",
   "metadata": {},
   "source": [
    "# 1 Data and libraries"
   ]
  },
  {
   "cell_type": "code",
   "execution_count": 1,
   "id": "2f80e521",
   "metadata": {},
   "outputs": [],
   "source": [
    "# Base\n",
    "import numpy as np\n",
    "import pandas as pd\n",
    "from tqdm import tqdm\n",
    "\n",
    "# Nice plots\n",
    "import matplotlib.pyplot as plt\n",
    "import seaborn as sns\n",
    "\n",
    "# Machine learning\n",
    "from sklearn.model_selection import train_test_split, GridSearchCV\n",
    "from sklearn.preprocessing import StandardScaler\n",
    "from imblearn.under_sampling import RandomUnderSampler\n",
    "from imblearn.over_sampling import RandomOverSampler\n",
    "from sklearn.metrics import confusion_matrix, accuracy_score, precision_score, recall_score, f1_score,balanced_accuracy_score\n",
    "from sklearn.ensemble import RandomForestClassifier\n",
    "from xgboost import XGBClassifier\n",
    "\n",
    "import torch\n",
    "import torch.optim as optim\n",
    "import torch.nn as nn\n",
    "import torch.nn.functional as F\n",
    "from torch.utils.data import DataLoader, TensorDataset"
   ]
  },
  {
   "cell_type": "markdown",
   "id": "c0d6d668",
   "metadata": {},
   "source": [
    "## 1.1 Presentation"
   ]
  },
  {
   "cell_type": "code",
   "execution_count": 36,
   "id": "14887966",
   "metadata": {},
   "outputs": [
    {
     "data": {
      "text/html": [
       "<div>\n",
       "<style scoped>\n",
       "    .dataframe tbody tr th:only-of-type {\n",
       "        vertical-align: middle;\n",
       "    }\n",
       "\n",
       "    .dataframe tbody tr th {\n",
       "        vertical-align: top;\n",
       "    }\n",
       "\n",
       "    .dataframe thead th {\n",
       "        text-align: right;\n",
       "    }\n",
       "</style>\n",
       "<table border=\"1\" class=\"dataframe\">\n",
       "  <thead>\n",
       "    <tr style=\"text-align: right;\">\n",
       "      <th></th>\n",
       "      <th>id</th>\n",
       "      <th>Gender</th>\n",
       "      <th>Age</th>\n",
       "      <th>Driving_License</th>\n",
       "      <th>Region_Code</th>\n",
       "      <th>Previously_Insured</th>\n",
       "      <th>Vehicle_Age</th>\n",
       "      <th>Vehicle_Damage</th>\n",
       "      <th>Annual_Premium</th>\n",
       "      <th>Policy_Sales_Channel</th>\n",
       "      <th>Vintage</th>\n",
       "      <th>Response</th>\n",
       "    </tr>\n",
       "  </thead>\n",
       "  <tbody>\n",
       "    <tr>\n",
       "      <th>0</th>\n",
       "      <td>1</td>\n",
       "      <td>Male</td>\n",
       "      <td>44</td>\n",
       "      <td>1</td>\n",
       "      <td>28.0</td>\n",
       "      <td>0</td>\n",
       "      <td>&gt; 2 Years</td>\n",
       "      <td>Yes</td>\n",
       "      <td>40454.0</td>\n",
       "      <td>26.0</td>\n",
       "      <td>217</td>\n",
       "      <td>1</td>\n",
       "    </tr>\n",
       "    <tr>\n",
       "      <th>1</th>\n",
       "      <td>2</td>\n",
       "      <td>Male</td>\n",
       "      <td>76</td>\n",
       "      <td>1</td>\n",
       "      <td>3.0</td>\n",
       "      <td>0</td>\n",
       "      <td>1-2 Year</td>\n",
       "      <td>No</td>\n",
       "      <td>33536.0</td>\n",
       "      <td>26.0</td>\n",
       "      <td>183</td>\n",
       "      <td>0</td>\n",
       "    </tr>\n",
       "    <tr>\n",
       "      <th>2</th>\n",
       "      <td>3</td>\n",
       "      <td>Male</td>\n",
       "      <td>47</td>\n",
       "      <td>1</td>\n",
       "      <td>28.0</td>\n",
       "      <td>0</td>\n",
       "      <td>&gt; 2 Years</td>\n",
       "      <td>Yes</td>\n",
       "      <td>38294.0</td>\n",
       "      <td>26.0</td>\n",
       "      <td>27</td>\n",
       "      <td>1</td>\n",
       "    </tr>\n",
       "    <tr>\n",
       "      <th>3</th>\n",
       "      <td>4</td>\n",
       "      <td>Male</td>\n",
       "      <td>21</td>\n",
       "      <td>1</td>\n",
       "      <td>11.0</td>\n",
       "      <td>1</td>\n",
       "      <td>&lt; 1 Year</td>\n",
       "      <td>No</td>\n",
       "      <td>28619.0</td>\n",
       "      <td>152.0</td>\n",
       "      <td>203</td>\n",
       "      <td>0</td>\n",
       "    </tr>\n",
       "    <tr>\n",
       "      <th>4</th>\n",
       "      <td>5</td>\n",
       "      <td>Female</td>\n",
       "      <td>29</td>\n",
       "      <td>1</td>\n",
       "      <td>41.0</td>\n",
       "      <td>1</td>\n",
       "      <td>&lt; 1 Year</td>\n",
       "      <td>No</td>\n",
       "      <td>27496.0</td>\n",
       "      <td>152.0</td>\n",
       "      <td>39</td>\n",
       "      <td>0</td>\n",
       "    </tr>\n",
       "    <tr>\n",
       "      <th>...</th>\n",
       "      <td>...</td>\n",
       "      <td>...</td>\n",
       "      <td>...</td>\n",
       "      <td>...</td>\n",
       "      <td>...</td>\n",
       "      <td>...</td>\n",
       "      <td>...</td>\n",
       "      <td>...</td>\n",
       "      <td>...</td>\n",
       "      <td>...</td>\n",
       "      <td>...</td>\n",
       "      <td>...</td>\n",
       "    </tr>\n",
       "    <tr>\n",
       "      <th>381104</th>\n",
       "      <td>381105</td>\n",
       "      <td>Male</td>\n",
       "      <td>74</td>\n",
       "      <td>1</td>\n",
       "      <td>26.0</td>\n",
       "      <td>1</td>\n",
       "      <td>1-2 Year</td>\n",
       "      <td>No</td>\n",
       "      <td>30170.0</td>\n",
       "      <td>26.0</td>\n",
       "      <td>88</td>\n",
       "      <td>0</td>\n",
       "    </tr>\n",
       "    <tr>\n",
       "      <th>381105</th>\n",
       "      <td>381106</td>\n",
       "      <td>Male</td>\n",
       "      <td>30</td>\n",
       "      <td>1</td>\n",
       "      <td>37.0</td>\n",
       "      <td>1</td>\n",
       "      <td>&lt; 1 Year</td>\n",
       "      <td>No</td>\n",
       "      <td>40016.0</td>\n",
       "      <td>152.0</td>\n",
       "      <td>131</td>\n",
       "      <td>0</td>\n",
       "    </tr>\n",
       "    <tr>\n",
       "      <th>381106</th>\n",
       "      <td>381107</td>\n",
       "      <td>Male</td>\n",
       "      <td>21</td>\n",
       "      <td>1</td>\n",
       "      <td>30.0</td>\n",
       "      <td>1</td>\n",
       "      <td>&lt; 1 Year</td>\n",
       "      <td>No</td>\n",
       "      <td>35118.0</td>\n",
       "      <td>160.0</td>\n",
       "      <td>161</td>\n",
       "      <td>0</td>\n",
       "    </tr>\n",
       "    <tr>\n",
       "      <th>381107</th>\n",
       "      <td>381108</td>\n",
       "      <td>Female</td>\n",
       "      <td>68</td>\n",
       "      <td>1</td>\n",
       "      <td>14.0</td>\n",
       "      <td>0</td>\n",
       "      <td>&gt; 2 Years</td>\n",
       "      <td>Yes</td>\n",
       "      <td>44617.0</td>\n",
       "      <td>124.0</td>\n",
       "      <td>74</td>\n",
       "      <td>0</td>\n",
       "    </tr>\n",
       "    <tr>\n",
       "      <th>381108</th>\n",
       "      <td>381109</td>\n",
       "      <td>Male</td>\n",
       "      <td>46</td>\n",
       "      <td>1</td>\n",
       "      <td>29.0</td>\n",
       "      <td>0</td>\n",
       "      <td>1-2 Year</td>\n",
       "      <td>No</td>\n",
       "      <td>41777.0</td>\n",
       "      <td>26.0</td>\n",
       "      <td>237</td>\n",
       "      <td>0</td>\n",
       "    </tr>\n",
       "  </tbody>\n",
       "</table>\n",
       "<p>381109 rows × 12 columns</p>\n",
       "</div>"
      ],
      "text/plain": [
       "            id  Gender  Age  Driving_License  Region_Code  Previously_Insured  \\\n",
       "0            1    Male   44                1         28.0                   0   \n",
       "1            2    Male   76                1          3.0                   0   \n",
       "2            3    Male   47                1         28.0                   0   \n",
       "3            4    Male   21                1         11.0                   1   \n",
       "4            5  Female   29                1         41.0                   1   \n",
       "...        ...     ...  ...              ...          ...                 ...   \n",
       "381104  381105    Male   74                1         26.0                   1   \n",
       "381105  381106    Male   30                1         37.0                   1   \n",
       "381106  381107    Male   21                1         30.0                   1   \n",
       "381107  381108  Female   68                1         14.0                   0   \n",
       "381108  381109    Male   46                1         29.0                   0   \n",
       "\n",
       "       Vehicle_Age Vehicle_Damage  Annual_Premium  Policy_Sales_Channel  \\\n",
       "0        > 2 Years            Yes         40454.0                  26.0   \n",
       "1         1-2 Year             No         33536.0                  26.0   \n",
       "2        > 2 Years            Yes         38294.0                  26.0   \n",
       "3         < 1 Year             No         28619.0                 152.0   \n",
       "4         < 1 Year             No         27496.0                 152.0   \n",
       "...            ...            ...             ...                   ...   \n",
       "381104    1-2 Year             No         30170.0                  26.0   \n",
       "381105    < 1 Year             No         40016.0                 152.0   \n",
       "381106    < 1 Year             No         35118.0                 160.0   \n",
       "381107   > 2 Years            Yes         44617.0                 124.0   \n",
       "381108    1-2 Year             No         41777.0                  26.0   \n",
       "\n",
       "        Vintage  Response  \n",
       "0           217         1  \n",
       "1           183         0  \n",
       "2            27         1  \n",
       "3           203         0  \n",
       "4            39         0  \n",
       "...         ...       ...  \n",
       "381104       88         0  \n",
       "381105      131         0  \n",
       "381106      161         0  \n",
       "381107       74         0  \n",
       "381108      237         0  \n",
       "\n",
       "[381109 rows x 12 columns]"
      ]
     },
     "metadata": {},
     "output_type": "display_data"
    },
    {
     "name": "stdout",
     "output_type": "stream",
     "text": [
      "<class 'pandas.core.frame.DataFrame'>\n",
      "RangeIndex: 381109 entries, 0 to 381108\n",
      "Data columns (total 12 columns):\n",
      " #   Column                Non-Null Count   Dtype  \n",
      "---  ------                --------------   -----  \n",
      " 0   id                    381109 non-null  int64  \n",
      " 1   Gender                381109 non-null  object \n",
      " 2   Age                   381109 non-null  int64  \n",
      " 3   Driving_License       381109 non-null  int64  \n",
      " 4   Region_Code           381109 non-null  float64\n",
      " 5   Previously_Insured    381109 non-null  int64  \n",
      " 6   Vehicle_Age           381109 non-null  object \n",
      " 7   Vehicle_Damage        381109 non-null  object \n",
      " 8   Annual_Premium        381109 non-null  float64\n",
      " 9   Policy_Sales_Channel  381109 non-null  float64\n",
      " 10  Vintage               381109 non-null  int64  \n",
      " 11  Response              381109 non-null  int64  \n",
      "dtypes: float64(3), int64(6), object(3)\n",
      "memory usage: 34.9+ MB\n"
     ]
    }
   ],
   "source": [
    "train = pd.read_csv('train.csv')\n",
    "test = pd.read_csv('test.csv')\n",
    "\n",
    "display(train)\n",
    "\n",
    "train.info()"
   ]
  },
  {
   "cell_type": "markdown",
   "id": "efe39b23",
   "metadata": {},
   "source": [
    "Our goal will be to predict the target `Response`."
   ]
  },
  {
   "cell_type": "markdown",
   "id": "cb1c6fa1",
   "metadata": {},
   "source": [
    "## 1.2 Exploratory analysis"
   ]
  },
  {
   "cell_type": "markdown",
   "id": "19b80745",
   "metadata": {},
   "source": [
    "First, let us have a look at the correlations between our regressors."
   ]
  },
  {
   "cell_type": "code",
   "execution_count": 37,
   "id": "46b651ef",
   "metadata": {},
   "outputs": [
    {
     "data": {
      "text/html": [
       "<div>\n",
       "<style scoped>\n",
       "    .dataframe tbody tr th:only-of-type {\n",
       "        vertical-align: middle;\n",
       "    }\n",
       "\n",
       "    .dataframe tbody tr th {\n",
       "        vertical-align: top;\n",
       "    }\n",
       "\n",
       "    .dataframe thead th {\n",
       "        text-align: right;\n",
       "    }\n",
       "</style>\n",
       "<table border=\"1\" class=\"dataframe\">\n",
       "  <thead>\n",
       "    <tr style=\"text-align: right;\">\n",
       "      <th></th>\n",
       "      <th>id</th>\n",
       "      <th>Gender</th>\n",
       "      <th>Age</th>\n",
       "      <th>Driving_License</th>\n",
       "      <th>Region_Code</th>\n",
       "      <th>Previously_Insured</th>\n",
       "      <th>Vehicle_Age</th>\n",
       "      <th>Vehicle_Damage</th>\n",
       "      <th>Annual_Premium</th>\n",
       "      <th>Policy_Sales_Channel</th>\n",
       "      <th>Vintage</th>\n",
       "      <th>Response</th>\n",
       "    </tr>\n",
       "  </thead>\n",
       "  <tbody>\n",
       "    <tr>\n",
       "      <th>0</th>\n",
       "      <td>1</td>\n",
       "      <td>Male</td>\n",
       "      <td>44</td>\n",
       "      <td>1</td>\n",
       "      <td>28.0</td>\n",
       "      <td>0</td>\n",
       "      <td>&gt; 2 Years</td>\n",
       "      <td>Yes</td>\n",
       "      <td>40454.0</td>\n",
       "      <td>26.0</td>\n",
       "      <td>217</td>\n",
       "      <td>1</td>\n",
       "    </tr>\n",
       "    <tr>\n",
       "      <th>1</th>\n",
       "      <td>2</td>\n",
       "      <td>Male</td>\n",
       "      <td>76</td>\n",
       "      <td>1</td>\n",
       "      <td>3.0</td>\n",
       "      <td>0</td>\n",
       "      <td>1-2 Year</td>\n",
       "      <td>No</td>\n",
       "      <td>33536.0</td>\n",
       "      <td>26.0</td>\n",
       "      <td>183</td>\n",
       "      <td>0</td>\n",
       "    </tr>\n",
       "    <tr>\n",
       "      <th>2</th>\n",
       "      <td>3</td>\n",
       "      <td>Male</td>\n",
       "      <td>47</td>\n",
       "      <td>1</td>\n",
       "      <td>28.0</td>\n",
       "      <td>0</td>\n",
       "      <td>&gt; 2 Years</td>\n",
       "      <td>Yes</td>\n",
       "      <td>38294.0</td>\n",
       "      <td>26.0</td>\n",
       "      <td>27</td>\n",
       "      <td>1</td>\n",
       "    </tr>\n",
       "    <tr>\n",
       "      <th>3</th>\n",
       "      <td>4</td>\n",
       "      <td>Male</td>\n",
       "      <td>21</td>\n",
       "      <td>1</td>\n",
       "      <td>11.0</td>\n",
       "      <td>1</td>\n",
       "      <td>&lt; 1 Year</td>\n",
       "      <td>No</td>\n",
       "      <td>28619.0</td>\n",
       "      <td>152.0</td>\n",
       "      <td>203</td>\n",
       "      <td>0</td>\n",
       "    </tr>\n",
       "    <tr>\n",
       "      <th>4</th>\n",
       "      <td>5</td>\n",
       "      <td>Female</td>\n",
       "      <td>29</td>\n",
       "      <td>1</td>\n",
       "      <td>41.0</td>\n",
       "      <td>1</td>\n",
       "      <td>&lt; 1 Year</td>\n",
       "      <td>No</td>\n",
       "      <td>27496.0</td>\n",
       "      <td>152.0</td>\n",
       "      <td>39</td>\n",
       "      <td>0</td>\n",
       "    </tr>\n",
       "    <tr>\n",
       "      <th>...</th>\n",
       "      <td>...</td>\n",
       "      <td>...</td>\n",
       "      <td>...</td>\n",
       "      <td>...</td>\n",
       "      <td>...</td>\n",
       "      <td>...</td>\n",
       "      <td>...</td>\n",
       "      <td>...</td>\n",
       "      <td>...</td>\n",
       "      <td>...</td>\n",
       "      <td>...</td>\n",
       "      <td>...</td>\n",
       "    </tr>\n",
       "    <tr>\n",
       "      <th>381104</th>\n",
       "      <td>381105</td>\n",
       "      <td>Male</td>\n",
       "      <td>74</td>\n",
       "      <td>1</td>\n",
       "      <td>26.0</td>\n",
       "      <td>1</td>\n",
       "      <td>1-2 Year</td>\n",
       "      <td>No</td>\n",
       "      <td>30170.0</td>\n",
       "      <td>26.0</td>\n",
       "      <td>88</td>\n",
       "      <td>0</td>\n",
       "    </tr>\n",
       "    <tr>\n",
       "      <th>381105</th>\n",
       "      <td>381106</td>\n",
       "      <td>Male</td>\n",
       "      <td>30</td>\n",
       "      <td>1</td>\n",
       "      <td>37.0</td>\n",
       "      <td>1</td>\n",
       "      <td>&lt; 1 Year</td>\n",
       "      <td>No</td>\n",
       "      <td>40016.0</td>\n",
       "      <td>152.0</td>\n",
       "      <td>131</td>\n",
       "      <td>0</td>\n",
       "    </tr>\n",
       "    <tr>\n",
       "      <th>381106</th>\n",
       "      <td>381107</td>\n",
       "      <td>Male</td>\n",
       "      <td>21</td>\n",
       "      <td>1</td>\n",
       "      <td>30.0</td>\n",
       "      <td>1</td>\n",
       "      <td>&lt; 1 Year</td>\n",
       "      <td>No</td>\n",
       "      <td>35118.0</td>\n",
       "      <td>160.0</td>\n",
       "      <td>161</td>\n",
       "      <td>0</td>\n",
       "    </tr>\n",
       "    <tr>\n",
       "      <th>381107</th>\n",
       "      <td>381108</td>\n",
       "      <td>Female</td>\n",
       "      <td>68</td>\n",
       "      <td>1</td>\n",
       "      <td>14.0</td>\n",
       "      <td>0</td>\n",
       "      <td>&gt; 2 Years</td>\n",
       "      <td>Yes</td>\n",
       "      <td>44617.0</td>\n",
       "      <td>124.0</td>\n",
       "      <td>74</td>\n",
       "      <td>0</td>\n",
       "    </tr>\n",
       "    <tr>\n",
       "      <th>381108</th>\n",
       "      <td>381109</td>\n",
       "      <td>Male</td>\n",
       "      <td>46</td>\n",
       "      <td>1</td>\n",
       "      <td>29.0</td>\n",
       "      <td>0</td>\n",
       "      <td>1-2 Year</td>\n",
       "      <td>No</td>\n",
       "      <td>41777.0</td>\n",
       "      <td>26.0</td>\n",
       "      <td>237</td>\n",
       "      <td>0</td>\n",
       "    </tr>\n",
       "  </tbody>\n",
       "</table>\n",
       "<p>381109 rows × 12 columns</p>\n",
       "</div>"
      ],
      "text/plain": [
       "            id  Gender  Age  Driving_License  Region_Code  Previously_Insured  \\\n",
       "0            1    Male   44                1         28.0                   0   \n",
       "1            2    Male   76                1          3.0                   0   \n",
       "2            3    Male   47                1         28.0                   0   \n",
       "3            4    Male   21                1         11.0                   1   \n",
       "4            5  Female   29                1         41.0                   1   \n",
       "...        ...     ...  ...              ...          ...                 ...   \n",
       "381104  381105    Male   74                1         26.0                   1   \n",
       "381105  381106    Male   30                1         37.0                   1   \n",
       "381106  381107    Male   21                1         30.0                   1   \n",
       "381107  381108  Female   68                1         14.0                   0   \n",
       "381108  381109    Male   46                1         29.0                   0   \n",
       "\n",
       "       Vehicle_Age Vehicle_Damage  Annual_Premium  Policy_Sales_Channel  \\\n",
       "0        > 2 Years            Yes         40454.0                  26.0   \n",
       "1         1-2 Year             No         33536.0                  26.0   \n",
       "2        > 2 Years            Yes         38294.0                  26.0   \n",
       "3         < 1 Year             No         28619.0                 152.0   \n",
       "4         < 1 Year             No         27496.0                 152.0   \n",
       "...            ...            ...             ...                   ...   \n",
       "381104    1-2 Year             No         30170.0                  26.0   \n",
       "381105    < 1 Year             No         40016.0                 152.0   \n",
       "381106    < 1 Year             No         35118.0                 160.0   \n",
       "381107   > 2 Years            Yes         44617.0                 124.0   \n",
       "381108    1-2 Year             No         41777.0                  26.0   \n",
       "\n",
       "        Vintage  Response  \n",
       "0           217         1  \n",
       "1           183         0  \n",
       "2            27         1  \n",
       "3           203         0  \n",
       "4            39         0  \n",
       "...         ...       ...  \n",
       "381104       88         0  \n",
       "381105      131         0  \n",
       "381106      161         0  \n",
       "381107       74         0  \n",
       "381108      237         0  \n",
       "\n",
       "[381109 rows x 12 columns]"
      ]
     },
     "execution_count": 37,
     "metadata": {},
     "output_type": "execute_result"
    }
   ],
   "source": [
    "train"
   ]
  },
  {
   "cell_type": "code",
   "execution_count": 42,
   "id": "9b8ccec5",
   "metadata": {},
   "outputs": [
    {
     "data": {
      "text/plain": [
       "<Axes: xlabel='Previously_Insured', ylabel='count'>"
      ]
     },
     "execution_count": 42,
     "metadata": {},
     "output_type": "execute_result"
    },
    {
     "data": {
      "image/png": "[encoded data removed]",
      "text/plain": [
       "<Figure size 640x480 with 1 Axes>"
      ]
     },
     "metadata": {},
     "output_type": "display_data"
    }
   ],
   "source": [
    "sns.countplot(train,x=\"Previously_Insured\",hue=\"Response\")"
   ]
  },
  {
   "cell_type": "code",
   "execution_count": 7,
   "id": "43bdaf52",
   "metadata": {},
   "outputs": [
    {
     "data": {
      "image/png": "[encoded data removed]",
      "text/plain": [
       "<Figure size 640x480 with 2 Axes>"
      ]
     },
     "metadata": {},
     "output_type": "display_data"
    }
   ],
   "source": [
    "correlations = train.drop(['Response'], axis=1).corr(numeric_only=True)\n",
    "sns.heatmap(correlations, annot=True, fmt='.2f')\n",
    "plt.title(\"Correlation matrix\")\n",
    "plt.show()"
   ]
  },
  {
   "cell_type": "markdown",
   "id": "c6b42359",
   "metadata": {},
   "source": [
    "What can we say about the correlations of the regressors with the targets?"
   ]
  },
  {
   "cell_type": "code",
   "execution_count": 8,
   "id": "5671abdf",
   "metadata": {
    "scrolled": true
   },
   "outputs": [
    {
     "data": {
      "text/plain": [
       "id                     -0.001368\n",
       "Age                     0.111147\n",
       "Driving_License         0.010155\n",
       "Region_Code             0.010570\n",
       "Previously_Insured     -0.341170\n",
       "Annual_Premium          0.022575\n",
       "Policy_Sales_Channel   -0.139042\n",
       "Vintage                -0.001050\n",
       "Name: Response, dtype: float64"
      ]
     },
     "execution_count": 8,
     "metadata": {},
     "output_type": "execute_result"
    }
   ],
   "source": [
    "train.corr(numeric_only=True).iloc[:-1, -1]"
   ]
  },
  {
   "cell_type": "markdown",
   "id": "266728e5",
   "metadata": {},
   "source": [
    "What can we say about the target in itself?"
   ]
  },
  {
   "cell_type": "code",
   "execution_count": 9,
   "id": "493281f6",
   "metadata": {
    "scrolled": true
   },
   "outputs": [
    {
     "name": "stdout",
     "output_type": "stream",
     "text": [
      "There are 46710 responses (Response = 1) for a total training set of size 381109. This corresponds to a ratio of 0.12256336113815208.\n",
      "This means that a dumb classifier would at least show an accuracy of at least 0.877436638861848\n"
     ]
    }
   ],
   "source": [
    "counts = train['Response'].value_counts()\n",
    "print(f'There are {counts[1]} responses (Response = 1) for a total training set of size {counts.sum()}. This corresponds to a ratio of {counts[1]/counts.sum()}.')\n",
    "print(f'This means that a dumb classifier would at least show an accuracy of at least {counts[0]/counts.sum()}')"
   ]
  },
  {
   "cell_type": "markdown",
   "id": "16b6342c",
   "metadata": {},
   "source": [
    "## 1.3 Features engineering"
   ]
  },
  {
   "cell_type": "code",
   "execution_count": 10,
   "id": "96b1ebdc",
   "metadata": {
    "scrolled": true
   },
   "outputs": [
    {
     "name": "stdout",
     "output_type": "stream",
     "text": [
      "<class 'pandas.core.frame.DataFrame'>\n",
      "RangeIndex: 381109 entries, 0 to 381108\n",
      "Data columns (total 11 columns):\n",
      " #   Column                Non-Null Count   Dtype  \n",
      "---  ------                --------------   -----  \n",
      " 0   Gender                381109 non-null  int64  \n",
      " 1   Age                   381109 non-null  int64  \n",
      " 2   Driving_License       381109 non-null  int64  \n",
      " 3   Region_Code           381109 non-null  float64\n",
      " 4   Previously_Insured    381109 non-null  int64  \n",
      " 5   Vehicle_Age           381109 non-null  int64  \n",
      " 6   Vehicle_Damage        381109 non-null  int64  \n",
      " 7   Annual_Premium        381109 non-null  float64\n",
      " 8   Policy_Sales_Channel  381109 non-null  float64\n",
      " 9   Vintage               381109 non-null  int64  \n",
      " 10  Response              381109 non-null  int64  \n",
      "dtypes: float64(3), int64(8)\n",
      "memory usage: 32.0 MB\n"
     ]
    }
   ],
   "source": [
    "train = train.drop(['id'], axis=1)\n",
    "\n",
    "train['Gender'] = train['Gender'].map({'Male': 1, 'Female': 0})\n",
    "train['Vehicle_Damage'] = train['Vehicle_Damage'].map({'Yes': 1, 'No': 0})\n",
    "train['Vehicle_Age'] = train['Vehicle_Age'].map({'> 2 Years': 2, '1-2 Year': 1, '< 1 Year': 0})\n",
    "\n",
    "\n",
    "train.info()"
   ]
  },
  {
   "cell_type": "code",
   "execution_count": 11,
   "id": "28a611a6",
   "metadata": {},
   "outputs": [],
   "source": [
    "def remove_outliers(df, col_name):\n",
    "    q25 = df[col_name].quantile(0.25)\n",
    "    q75 = df[col_name].quantile(0.75)\n",
    "    \n",
    "    cut_off = 1.5 * (q75 - q25)\n",
    "    lower, upper = max(0, q25 - cut_off), q75 + cut_off\n",
    "    \n",
    "    df.loc[df[col_name] > upper, col_name] = upper\n",
    "    df.loc[df[col_name] < lower, col_name] = lower\n",
    "    \n",
    "    return df[col_name]\n",
    "\n",
    "train['Annual_Premium'] = remove_outliers(train, 'Annual_Premium')"
   ]
  },
  {
   "cell_type": "code",
   "execution_count": 12,
   "id": "21b8804a",
   "metadata": {},
   "outputs": [
    {
     "data": {
      "text/plain": [
       "<Axes: xlabel='Annual_Premium'>"
      ]
     },
     "execution_count": 12,
     "metadata": {},
     "output_type": "execute_result"
    },
    {
     "data": {
      "image/png": "[encoded data removed]",
      "text/plain": [
       "<Figure size 640x480 with 1 Axes>"
      ]
     },
     "metadata": {},
     "output_type": "display_data"
    }
   ],
   "source": [
    "sns.boxplot(train,x=\"Annual_Premium\")"
   ]
  },
  {
   "cell_type": "code",
   "execution_count": 13,
   "id": "3b112643",
   "metadata": {},
   "outputs": [
    {
     "data": {
      "text/plain": [
       "count    381109.000000\n",
       "mean      30148.169353\n",
       "std       15476.398118\n",
       "min        2630.000000\n",
       "25%       24405.000000\n",
       "50%       31669.000000\n",
       "75%       39400.000000\n",
       "max       61892.500000\n",
       "Name: Annual_Premium, dtype: float64"
      ]
     },
     "execution_count": 13,
     "metadata": {},
     "output_type": "execute_result"
    }
   ],
   "source": [
    "train[\"Annual_Premium\"].describe()"
   ]
  },
  {
   "cell_type": "code",
   "execution_count": 14,
   "id": "94340c5b",
   "metadata": {},
   "outputs": [
    {
     "data": {
      "text/plain": [
       "2630.0     64877\n",
       "61892.5    10320\n",
       "39008.0       41\n",
       "38287.0       38\n",
       "45179.0       38\n",
       "           ...  \n",
       "18146.0        1\n",
       "49718.0        1\n",
       "52976.0        1\n",
       "16380.0        1\n",
       "20706.0        1\n",
       "Name: Annual_Premium, Length: 41668, dtype: int64"
      ]
     },
     "execution_count": 14,
     "metadata": {},
     "output_type": "execute_result"
    }
   ],
   "source": [
    "train[\"Annual_Premium\"].value_counts()"
   ]
  },
  {
   "cell_type": "code",
   "execution_count": 15,
   "id": "d51c6a0f",
   "metadata": {},
   "outputs": [
    {
     "data": {
      "text/plain": [
       "2630.0     64877\n",
       "61892.5    10320\n",
       "39008.0       41\n",
       "38287.0       38\n",
       "45179.0       38\n",
       "           ...  \n",
       "18146.0        1\n",
       "49718.0        1\n",
       "52976.0        1\n",
       "16380.0        1\n",
       "20706.0        1\n",
       "Name: Annual_Premium, Length: 41668, dtype: int64"
      ]
     },
     "execution_count": 15,
     "metadata": {},
     "output_type": "execute_result"
    }
   ],
   "source": [
    "train['Annual_Premium'].value_counts()"
   ]
  },
  {
   "cell_type": "markdown",
   "id": "3ab307d4",
   "metadata": {},
   "source": [
    "# 2 Model selection "
   ]
  },
  {
   "cell_type": "markdown",
   "id": "d53fa8d0",
   "metadata": {},
   "source": [
    "## 2.1 Random forest / XGBoost"
   ]
  },
  {
   "cell_type": "code",
   "execution_count": 16,
   "id": "39126d5c",
   "metadata": {},
   "outputs": [],
   "source": [
    "    def print_metrics(y_true, y_pred):\n",
    "        acc = accuracy_score(y_true, y_pred)\n",
    "        rec = recall_score(y_true, y_pred)\n",
    "        pre = precision_score(y_true, y_pred)\n",
    "        bal=balanced_accuracy_score(y_true,y_pred)\n",
    "        f1 = f1_score(y_true, y_pred)\n",
    "        print(f'Accuracy: {acc}\\nRecall: {rec}\\nPrecision: {pre}\\nF1-score: {f1}\\nBalanced-Accuracy-Score: {bal}')"
   ]
  },
  {
   "cell_type": "code",
   "execution_count": 17,
   "id": "960ec848",
   "metadata": {},
   "outputs": [],
   "source": [
    "X = train.drop(['Response'], axis=1).values\n",
    "y = train['Response'].values\n",
    "\n",
    "X_train, X_test, y_train, y_test = train_test_split(X, y, test_size=0.2)\n",
    "\n",
    "scaler = StandardScaler()\n",
    "\n",
    "X_train_scaled = scaler.fit_transform(X_train)\n",
    "X_test_scaled = scaler.transform(X_test)\n",
    "\n",
    "sampler = RandomUnderSampler()\n",
    "X_train_resampled, y_train_resampled = sampler.fit_resample(X_train_scaled, y_train)"
   ]
  },
  {
   "cell_type": "code",
   "execution_count": 59,
   "id": "42d8f7db",
   "metadata": {},
   "outputs": [
    {
     "data": {
      "image/png": "[encoded data removed]",
      "text/plain": [
       "<Figure size 640x480 with 1 Axes>"
      ]
     },
     "metadata": {},
     "output_type": "display_data"
    }
   ],
   "source": [
    "test=sns.countplot(train,x=\"Previously_Insured\",hue=\"Response\")\n",
    "\n",
    "\n",
    "#sns.heatmap(train.corr(),cmap=\"viridis\",annot=True)"
   ]
  },
  {
   "cell_type": "code",
   "execution_count": 61,
   "id": "a9ff0459",
   "metadata": {},
   "outputs": [
    {
     "name": "stderr",
     "output_type": "stream",
     "text": [
      "C:\\Users\\samym\\AppData\\Local\\Temp\\ipykernel_15692\\4177783059.py:1: FutureWarning: The default value of numeric_only in DataFrame.corr is deprecated. In a future version, it will default to False. Select only valid columns or specify the value of numeric_only to silence this warning.\n",
      "  sns.heatmap(train.corr().round(2),cmap=\"viridis\",annot=True)\n"
     ]
    },
    {
     "data": {
      "text/plain": [
       "<Axes: >"
      ]
     },
     "execution_count": 61,
     "metadata": {},
     "output_type": "execute_result"
    },
    {
     "data": {
      "image/png": "[encoded data removed]",
      "text/plain": [
       "<Figure size 640x480 with 2 Axes>"
      ]
     },
     "metadata": {},
     "output_type": "display_data"
    }
   ],
   "source": [
    "sns.heatmap(train.corr().round(2),cmap=\"viridis\",annot=True)\n"
   ]
  },
  {
   "cell_type": "code",
   "execution_count": 52,
   "id": "f02bed66",
   "metadata": {},
   "outputs": [
    {
     "name": "stderr",
     "output_type": "stream",
     "text": [
      "C:\\Users\\samym\\AppData\\Local\\Temp\\ipykernel_15692\\267331650.py:2: FutureWarning: The default value of numeric_only in DataFrame.corr is deprecated. In a future version, it will default to False. Select only valid columns or specify the value of numeric_only to silence this warning.\n",
      "  plot2= sns.heatmap(train.corr().round(2),cmap=\"viridis\",annot=True)\n"
     ]
    },
    {
     "ename": "NameError",
     "evalue": "name 'st' is not defined",
     "output_type": "error",
     "traceback": [
      "\u001b[1;31m---------------------------------------------------------------------------\u001b[0m",
      "\u001b[1;31mNameError\u001b[0m                                 Traceback (most recent call last)",
      "Cell \u001b[1;32mIn[52], line 4\u001b[0m\n\u001b[0;32m      1\u001b[0m plot\u001b[38;5;241m=\u001b[39msns\u001b[38;5;241m.\u001b[39mcountplot(train,x\u001b[38;5;241m=\u001b[39m\u001b[38;5;124m\"\u001b[39m\u001b[38;5;124mPreviously_Insured\u001b[39m\u001b[38;5;124m\"\u001b[39m,hue\u001b[38;5;241m=\u001b[39m\u001b[38;5;124m\"\u001b[39m\u001b[38;5;124mResponse\u001b[39m\u001b[38;5;124m\"\u001b[39m)\n\u001b[0;32m      2\u001b[0m plot2\u001b[38;5;241m=\u001b[39m sns\u001b[38;5;241m.\u001b[39mheatmap(train\u001b[38;5;241m.\u001b[39mcorr()\u001b[38;5;241m.\u001b[39mround(\u001b[38;5;241m2\u001b[39m),cmap\u001b[38;5;241m=\u001b[39m\u001b[38;5;124m\"\u001b[39m\u001b[38;5;124mviridis\u001b[39m\u001b[38;5;124m\"\u001b[39m,annot\u001b[38;5;241m=\u001b[39m\u001b[38;5;28;01mTrue\u001b[39;00m)\n\u001b[1;32m----> 4\u001b[0m \u001b[43mst\u001b[49m\u001b[38;5;241m.\u001b[39mmarkdown(\u001b[38;5;124m\"\u001b[39m\u001b[38;5;124m<h3 style=\u001b[39m\u001b[38;5;124m'\u001b[39m\u001b[38;5;124mcolor: black;\u001b[39m\u001b[38;5;124m'\u001b[39m\u001b[38;5;124m> Quelques graphiques :  </h3>\u001b[39m\u001b[38;5;124m\"\u001b[39m, unsafe_allow_html\u001b[38;5;241m=\u001b[39m\u001b[38;5;28;01mTrue\u001b[39;00m)\n\u001b[0;32m     10\u001b[0m plot2\u001b[38;5;241m=\u001b[39m sns\u001b[38;5;241m.\u001b[39mheatmap(train\u001b[38;5;241m.\u001b[39mcorr()\u001b[38;5;241m.\u001b[39mround(\u001b[38;5;241m2\u001b[39m),cmap\u001b[38;5;241m=\u001b[39m\u001b[38;5;124m\"\u001b[39m\u001b[38;5;124mviridis\u001b[39m\u001b[38;5;124m\"\u001b[39m,annot\u001b[38;5;241m=\u001b[39m\u001b[38;5;28;01mTrue\u001b[39;00m)\n\u001b[0;32m     11\u001b[0m plt\u001b[38;5;241m.\u001b[39mplot(\u001b[38;5;241m2\u001b[39m)\n",
      "\u001b[1;31mNameError\u001b[0m: name 'st' is not defined"
     ]
    },
    {
     "data": {
      "image/png": "[encoded data removed]",
      "text/plain": [
       "<Figure size 640x480 with 2 Axes>"
      ]
     },
     "metadata": {},
     "output_type": "display_data"
    }
   ],
   "source": [
    "\n",
    "\n",
    "plot=sns.countplot(train,x=\"Previously_Insured\",hue=\"Response\")\n",
    "plot2= sns.heatmap(train.corr().round(2),cmap=\"viridis\",annot=True)\n",
    "\n",
    "st.markdown(\"<h3 style='color: black;'> Quelques graphiques :  </h3>\", unsafe_allow_html=True)\n",
    "\n",
    "\n",
    "\n",
    "\n",
    "\n",
    "plot2= sns.heatmap(train.corr().round(2),cmap=\"viridis\",annot=True)\n",
    "plt.plot(2)\n",
    "st.pyplot(plot2.get_figure())\n"
   ]
  },
  {
   "cell_type": "code",
   "execution_count": 18,
   "id": "80c34772",
   "metadata": {},
   "outputs": [
    {
     "name": "stdout",
     "output_type": "stream",
     "text": [
      "--- Metrics for the Random Forest ---\n",
      "tn = 44449, fp = 22284, fn = 794, tp = 8695\n",
      "Accuracy: 0.6972265225263048\n",
      "Recall: 0.916324164822426\n",
      "Precision: 0.28067400497110945\n",
      "F1-score: 0.42972224967875855\n",
      "Balanced-Accuracy-Score: 0.7911982114628067\n"
     ]
    }
   ],
   "source": [
    "forest = RandomForestClassifier(n_estimators=100, max_depth=3)\n",
    "forest.fit(X_train_resampled, y_train_resampled)\n",
    "y_forest = forest.predict(X_test_scaled)\n",
    "tn_forest, fp_forest, fn_forest, tp_forest = confusion_matrix(y_test, y_forest).ravel()\n",
    "print(\"--- Metrics for the Random Forest ---\")\n",
    "print(f'tn = {tn_forest}, fp = {fp_forest}, fn = {fn_forest}, tp = {tp_forest}')\n",
    "print_metrics(y_test, y_forest)"
   ]
  },
  {
   "cell_type": "code",
   "execution_count": 19,
   "id": "95208bff",
   "metadata": {},
   "outputs": [
    {
     "name": "stdout",
     "output_type": "stream",
     "text": [
      "--- Metrics for the XGBoost ---\n",
      "tn = 45089, fp = 21644, fn = 779, tp = 8710\n",
      "Accuracy: 0.7058198420403557\n",
      "Recall: 0.9179049425650754\n",
      "Precision: 0.2869473545496475\n",
      "F1-score: 0.43721607308686594\n",
      "Balanced-Accuracy-Score: 0.7967838290815277\n"
     ]
    }
   ],
   "source": [
    "booster = XGBClassifier()\n",
    "booster.fit(X_train_resampled, y_train_resampled)\n",
    "y_booster = booster.predict(X_test_scaled)\n",
    "tn_booster, fp_booster, fn_booster, tp_booster = confusion_matrix(y_test, y_booster).ravel()\n",
    "print(\"--- Metrics for the XGBoost ---\")\n",
    "print(f'tn = {tn_booster}, fp = {fp_booster}, fn = {fn_booster}, tp = {tp_booster}')\n",
    "print_metrics(y_test, y_booster)"
   ]
  },
  {
   "cell_type": "markdown",
   "id": "ac5eec78",
   "metadata": {},
   "source": [
    "## Deep Learning"
   ]
  },
  {
   "cell_type": "code",
   "execution_count": 20,
   "id": "3a705417",
   "metadata": {},
   "outputs": [],
   "source": [
    "# Training consists of gradient steps over mini batch of data\n",
    "def train(model, trainloader, criterion, optimizer, epoch, num_epochs):\n",
    "    # We enter train mode. This is useless for the linear model\n",
    "    # but is important for layers such as dropout, batchnorm, ...\n",
    "    model.train()\n",
    "\n",
    "    loop = tqdm(trainloader)\n",
    "#     loop.set_description(f'Training Epoch [{epoch + 1}/{num_epochs}]')\n",
    "\n",
    "    # We iterate over the mini batches of our data\n",
    "    for inputs, targets in loop:\n",
    "\n",
    "        optimizer.zero_grad() # Erase any previously stored gradient\n",
    "        outputs = model(inputs) # Forwards stage (prediction with current weights)\n",
    "        targets = targets.view(-1, 1) # Reshape targets to match the output size\n",
    "        loss = criterion(outputs, targets) # loss evaluation\n",
    "        loss.backward() # Back propagation (evaluate gradients)\n",
    "\n",
    "        # Making gradient step on the batch (this function takes care of the gradient step for us)\n",
    "        optimizer.step()\n",
    "\n",
    "def validation(model, valloader, criterion):\n",
    "    # Do not compute gradient, since we do not need it for validation step\n",
    "    with torch.no_grad():\n",
    "        \n",
    "        model.eval() # We enter evaluation mode.\n",
    "\n",
    "        total, correct = 0, 0 # Keep track of currently used samples\n",
    "        running_loss = 0.0 # Accumulated loss without averaging\n",
    "\n",
    "        loop = tqdm(valloader) # This is for the progress bar\n",
    "#         loop.set_description('Validation in progress')\n",
    "\n",
    "        # We again iterate over the batches of validation data. batch_size does not play any role here\n",
    "        for inputs, targets in loop:\n",
    "            outputs = model(inputs) # Run samples through our net\n",
    "            total += inputs.shape[0] # Total number of used samples\n",
    "            predicted = torch.round(outputs)\n",
    "            targets = targets.view(-1, 1)\n",
    "            correct += (predicted == targets).sum().item()\n",
    "            \n",
    "            # Multiply loss by the batch size to erase averagind on the batch\n",
    "            batch_loss = criterion(outputs, targets).item()\n",
    "            running_loss += batch_loss * inputs.shape[0]\n",
    "            \n",
    "#             loop.set_postfix(val_loss=(running_loss / total), val_acc=(correct / total)) # Set nice progress message\n",
    "        return running_loss / total, correct / total"
   ]
  },
  {
   "cell_type": "code",
   "execution_count": 21,
   "id": "751a7e77",
   "metadata": {},
   "outputs": [
    {
     "name": "stdout",
     "output_type": "stream",
     "text": [
      "Requirement already satisfied: torchviz in c:\\users\\samym\\anaconda3\\lib\\site-packages (0.0.2)\n",
      "Requirement already satisfied: torch in c:\\users\\samym\\anaconda3\\lib\\site-packages (from torchviz) (2.1.1)\n",
      "Requirement already satisfied: graphviz in c:\\users\\samym\\anaconda3\\lib\\site-packages (from torchviz) (0.20.1)\n",
      "Requirement already satisfied: filelock in c:\\users\\samym\\anaconda3\\lib\\site-packages (from torch->torchviz) (3.9.0)\n",
      "Requirement already satisfied: fsspec in c:\\users\\samym\\anaconda3\\lib\\site-packages (from torch->torchviz) (2022.11.0)\n",
      "Requirement already satisfied: jinja2 in c:\\users\\samym\\anaconda3\\lib\\site-packages (from torch->torchviz) (3.1.2)\n",
      "Requirement already satisfied: networkx in c:\\users\\samym\\anaconda3\\lib\\site-packages (from torch->torchviz) (2.8.4)\n",
      "Requirement already satisfied: sympy in c:\\users\\samym\\anaconda3\\lib\\site-packages (from torch->torchviz) (1.11.1)\n",
      "Requirement already satisfied: typing-extensions in c:\\users\\samym\\anaconda3\\lib\\site-packages (from torch->torchviz) (4.4.0)\n",
      "Requirement already satisfied: MarkupSafe>=2.0 in c:\\users\\samym\\anaconda3\\lib\\site-packages (from jinja2->torch->torchviz) (2.1.1)\n",
      "Requirement already satisfied: mpmath>=0.19 in c:\\users\\samym\\anaconda3\\lib\\site-packages (from sympy->torch->torchviz) (1.2.1)\n",
      "Note: you may need to restart the kernel to use updated packages.\n"
     ]
    }
   ],
   "source": [
    "pip install torchviz"
   ]
  },
  {
   "cell_type": "code",
   "execution_count": null,
   "id": "843d7391",
   "metadata": {},
   "outputs": [],
   "source": []
  },
  {
   "cell_type": "code",
   "execution_count": 22,
   "id": "7297d105",
   "metadata": {},
   "outputs": [],
   "source": [
    "class FeedForwardNet(nn.Module):\n",
    "    def __init__(self, input_size, hidden_sizes, dropout_prob=0.5):\n",
    "        super(FeedForwardNet, self).__init__()\n",
    "        self.fc1 = nn.Linear(input_size, hidden_sizes[0])\n",
    "        self.relu = nn.ReLU()\n",
    "        self.dropout1 = nn.Dropout(dropout_prob)  # Dropout layer after first hidden layer\n",
    "        self.fc2 = nn.Linear(hidden_sizes[0], hidden_sizes[1])\n",
    "        self.dropout2 = nn.Dropout(dropout_prob)  # Dropout layer after second hidden layer\n",
    "        self.fc3 = nn.Linear(hidden_sizes[1], 1)\n",
    "        self.sigmoid = nn.Sigmoid()  # Use sigmoid activation for binary classification\n",
    "\n",
    "    def forward(self, x):\n",
    "        out = self.fc1(x)\n",
    "        out = self.relu(out)\n",
    "        out = self.dropout1(out)  # Applying dropout after first hidden layer\n",
    "        out = self.fc2(out)\n",
    "        out = self.relu(out)\n",
    "        out = self.dropout2(out)  # Applying dropout after second hidden layer\n",
    "        out = self.fc3(out)\n",
    "        out = self.sigmoid(out)\n",
    "        return out"
   ]
  },
  {
   "cell_type": "code",
   "execution_count": 23,
   "id": "58ca9bc9",
   "metadata": {},
   "outputs": [],
   "source": [
    "# Convert data to PyTorch DataLoader\n",
    "X_train_tensor = torch.tensor(X_train_resampled, dtype=torch.float32)\n",
    "y_train_tensor = torch.tensor(y_train_resampled, dtype=torch.float32)\n",
    "X_test_tensor = torch.tensor(X_test_scaled, dtype=torch.float32)\n",
    "y_test_tensor = torch.tensor(y_test, dtype=torch.float32)\n",
    "\n",
    "train_dataset = TensorDataset(X_train_tensor, y_train_tensor)\n",
    "train_loader = DataLoader(train_dataset, batch_size=32, shuffle=True)\n",
    "val_dataset = TensorDataset(X_test_tensor, y_test_tensor)\n",
    "val_loader = DataLoader(val_dataset, batch_size=16, shuffle=False)  # No need to shuffle for validation"
   ]
  },
  {
   "cell_type": "code",
   "execution_count": 24,
   "id": "c9768bd6",
   "metadata": {},
   "outputs": [],
   "source": [
    "# Set training parameters\n",
    "num_epochs = 5 # num_epochs indicates the number of passes over the data\n",
    "criterion = nn.BCELoss()\n",
    "learning_rate = 0.001"
   ]
  },
  {
   "cell_type": "code",
   "execution_count": 47,
   "id": "71f7aee5",
   "metadata": {},
   "outputs": [
    {
     "data": {
      "text/plain": [
       "10"
      ]
     },
     "execution_count": 47,
     "metadata": {},
     "output_type": "execute_result"
    }
   ],
   "source": [
    "input_size"
   ]
  },
  {
   "cell_type": "code",
   "execution_count": 48,
   "id": "1e6f28ed",
   "metadata": {
    "scrolled": false
   },
   "outputs": [
    {
     "name": "stdout",
     "output_type": "stream",
     "text": [
      "\n",
      "[hidden_sizes = [64, 32]][dropout_prob = 0.001]\n"
     ]
    },
    {
     "name": "stderr",
     "output_type": "stream",
     "text": [
      "100%|█████████████████████████████████████████████████████████████████████████████| 2334/2334 [00:04<00:00, 559.30it/s]\n",
      "100%|████████████████████████████████████████████████████████████████████████████| 4764/4764 [00:02<00:00, 1956.60it/s]\n",
      "100%|█████████████████████████████████████████████████████████████████████████████| 2334/2334 [00:04<00:00, 567.02it/s]\n",
      "100%|████████████████████████████████████████████████████████████████████████████| 4764/4764 [00:02<00:00, 2212.54it/s]\n",
      "100%|█████████████████████████████████████████████████████████████████████████████| 2334/2334 [00:04<00:00, 582.07it/s]\n",
      "100%|████████████████████████████████████████████████████████████████████████████| 4764/4764 [00:02<00:00, 2008.48it/s]\n",
      "100%|█████████████████████████████████████████████████████████████████████████████| 2334/2334 [00:04<00:00, 553.95it/s]\n",
      "100%|████████████████████████████████████████████████████████████████████████████| 4764/4764 [00:02<00:00, 2074.05it/s]\n",
      "100%|█████████████████████████████████████████████████████████████████████████████| 2334/2334 [00:04<00:00, 557.07it/s]\n",
      "100%|████████████████████████████████████████████████████████████████████████████| 4764/4764 [00:02<00:00, 2229.96it/s]\n"
     ]
    },
    {
     "name": "stdout",
     "output_type": "stream",
     "text": [
      "Accuracy: 0.682362047702763\n",
      "Recall: 0.9481212638770282\n",
      "Precision: 0.27239549789922407\n",
      "F1-score: 0.4232042882668255\n",
      "Balanced-Accuracy-Score: 0.7966217352382419\n",
      "\n",
      "[hidden_sizes = [64, 32]][dropout_prob = 0.0016681005372000592]\n"
     ]
    },
    {
     "name": "stderr",
     "output_type": "stream",
     "text": [
      "100%|█████████████████████████████████████████████████████████████████████████████| 2334/2334 [00:04<00:00, 549.95it/s]\n",
      "100%|████████████████████████████████████████████████████████████████████████████| 4764/4764 [00:02<00:00, 2212.35it/s]\n",
      "100%|█████████████████████████████████████████████████████████████████████████████| 2334/2334 [00:03<00:00, 600.85it/s]\n",
      "100%|████████████████████████████████████████████████████████████████████████████| 4764/4764 [00:02<00:00, 2088.90it/s]\n",
      "100%|█████████████████████████████████████████████████████████████████████████████| 2334/2334 [00:04<00:00, 546.60it/s]\n",
      "100%|████████████████████████████████████████████████████████████████████████████| 4764/4764 [00:02<00:00, 2048.48it/s]\n",
      "100%|█████████████████████████████████████████████████████████████████████████████| 2334/2334 [00:04<00:00, 556.90it/s]\n",
      "100%|████████████████████████████████████████████████████████████████████████████| 4764/4764 [00:02<00:00, 2263.12it/s]\n",
      "100%|█████████████████████████████████████████████████████████████████████████████| 2334/2334 [00:04<00:00, 569.21it/s]\n",
      "100%|████████████████████████████████████████████████████████████████████████████| 4764/4764 [00:02<00:00, 2152.04it/s]\n"
     ]
    },
    {
     "name": "stdout",
     "output_type": "stream",
     "text": [
      "Accuracy: 0.6815223951090237\n",
      "Recall: 0.9453458582408198\n",
      "Precision: 0.2714982065667249\n",
      "F1-score: 0.42184485674137234\n",
      "Balanced-Accuracy-Score: 0.794949831026055\n",
      "\n",
      "[hidden_sizes = [64, 32]][dropout_prob = 0.0027825594022071257]\n"
     ]
    },
    {
     "name": "stderr",
     "output_type": "stream",
     "text": [
      "100%|█████████████████████████████████████████████████████████████████████████████| 2334/2334 [00:04<00:00, 565.78it/s]\n",
      "100%|████████████████████████████████████████████████████████████████████████████| 4764/4764 [00:02<00:00, 2034.53it/s]\n",
      "100%|█████████████████████████████████████████████████████████████████████████████| 2334/2334 [00:03<00:00, 604.43it/s]\n",
      "100%|████████████████████████████████████████████████████████████████████████████| 4764/4764 [00:02<00:00, 2035.26it/s]\n",
      "100%|█████████████████████████████████████████████████████████████████████████████| 2334/2334 [00:04<00:00, 545.87it/s]\n",
      "100%|████████████████████████████████████████████████████████████████████████████| 4764/4764 [00:02<00:00, 1918.84it/s]\n",
      "100%|█████████████████████████████████████████████████████████████████████████████| 2334/2334 [00:04<00:00, 574.04it/s]\n",
      "100%|████████████████████████████████████████████████████████████████████████████| 4764/4764 [00:02<00:00, 1801.54it/s]\n",
      "100%|█████████████████████████████████████████████████████████████████████████████| 2334/2334 [00:03<00:00, 601.27it/s]\n",
      "100%|█████████████████████████████████████████████████████████████████████████████| 4764/4764 [00:05<00:00, 858.62it/s]\n"
     ]
    },
    {
     "name": "stdout",
     "output_type": "stream",
     "text": [
      "Accuracy: 0.7054918527459264\n",
      "Recall: 0.9175918018787361\n",
      "Precision: 0.2839587737843552\n",
      "F1-score: 0.43370332996972755\n",
      "Balanced-Accuracy-Score: 0.7966814425673934\n",
      "\n",
      "[hidden_sizes = [64, 32]][dropout_prob = 0.004641588833612777]\n"
     ]
    },
    {
     "name": "stderr",
     "output_type": "stream",
     "text": [
      "100%|██████████████████████████████████████████████████████████████████████████████| 2334/2334 [01:46<00:00, 21.92it/s]\n",
      "100%|████████████████████████████████████████████████████████████████████████████| 4764/4764 [00:02<00:00, 1825.90it/s]\n",
      "100%|█████████████████████████████████████████████████████████████████████████████| 2334/2334 [00:12<00:00, 189.98it/s]\n",
      "100%|█████████████████████████████████████████████████████████████████████████████| 4764/4764 [00:05<00:00, 859.34it/s]\n",
      "100%|█████████████████████████████████████████████████████████████████████████████| 2334/2334 [00:13<00:00, 175.00it/s]\n",
      "100%|█████████████████████████████████████████████████████████████████████████████| 4764/4764 [00:06<00:00, 760.30it/s]\n",
      "100%|█████████████████████████████████████████████████████████████████████████████| 2334/2334 [00:12<00:00, 180.62it/s]\n",
      "100%|█████████████████████████████████████████████████████████████████████████████| 4764/4764 [00:05<00:00, 797.07it/s]\n",
      "100%|█████████████████████████████████████████████████████████████████████████████| 2334/2334 [00:12<00:00, 183.62it/s]\n",
      "100%|█████████████████████████████████████████████████████████████████████████████| 4764/4764 [00:05<00:00, 827.98it/s]\n"
     ]
    },
    {
     "name": "stdout",
     "output_type": "stream",
     "text": [
      "Accuracy: 0.7048227545852903\n",
      "Recall: 0.9209009393680615\n",
      "Precision: 0.28392298831660356\n",
      "F1-score: 0.43403013609035795\n",
      "Balanced-Accuracy-Score: 0.7977227346195619\n",
      "\n",
      "[hidden_sizes = [64, 32]][dropout_prob = 0.007742636826811269]\n"
     ]
    },
    {
     "name": "stderr",
     "output_type": "stream",
     "text": [
      "100%|█████████████████████████████████████████████████████████████████████████████| 2334/2334 [00:12<00:00, 186.36it/s]\n",
      "100%|█████████████████████████████████████████████████████████████████████████████| 4764/4764 [00:05<00:00, 798.63it/s]\n",
      "100%|█████████████████████████████████████████████████████████████████████████████| 2334/2334 [00:12<00:00, 189.00it/s]\n",
      "100%|█████████████████████████████████████████████████████████████████████████████| 4764/4764 [00:05<00:00, 838.42it/s]\n",
      "100%|█████████████████████████████████████████████████████████████████████████████| 2334/2334 [00:12<00:00, 190.25it/s]\n",
      "100%|█████████████████████████████████████████████████████████████████████████████| 4764/4764 [00:05<00:00, 804.70it/s]\n",
      "100%|█████████████████████████████████████████████████████████████████████████████| 2334/2334 [00:11<00:00, 196.19it/s]\n",
      "100%|█████████████████████████████████████████████████████████████████████████████| 4764/4764 [00:05<00:00, 807.70it/s]\n",
      "100%|█████████████████████████████████████████████████████████████████████████████| 2334/2334 [00:12<00:00, 186.24it/s]\n",
      "100%|█████████████████████████████████████████████████████████████████████████████| 4764/4764 [00:05<00:00, 820.17it/s]\n"
     ]
    },
    {
     "name": "stdout",
     "output_type": "stream",
     "text": [
      "Accuracy: 0.7124845845031618\n",
      "Recall: 0.9064901793339026\n",
      "Precision: 0.28756222274897564\n",
      "F1-score: 0.4366179079153706\n",
      "Balanced-Accuracy-Score: 0.795894744137888\n",
      "\n",
      "[hidden_sizes = [64, 32]][dropout_prob = 0.01291549665014884]\n"
     ]
    },
    {
     "name": "stderr",
     "output_type": "stream",
     "text": [
      "100%|█████████████████████████████████████████████████████████████████████████████| 2334/2334 [00:12<00:00, 188.71it/s]\n",
      "100%|█████████████████████████████████████████████████████████████████████████████| 4764/4764 [00:05<00:00, 846.13it/s]\n",
      "100%|█████████████████████████████████████████████████████████████████████████████| 2334/2334 [00:11<00:00, 196.48it/s]\n",
      "100%|█████████████████████████████████████████████████████████████████████████████| 4764/4764 [00:05<00:00, 848.99it/s]\n",
      "100%|█████████████████████████████████████████████████████████████████████████████| 2334/2334 [00:12<00:00, 188.15it/s]\n",
      "100%|█████████████████████████████████████████████████████████████████████████████| 4764/4764 [00:05<00:00, 823.37it/s]\n",
      "100%|█████████████████████████████████████████████████████████████████████████████| 2334/2334 [00:12<00:00, 187.92it/s]\n",
      "100%|█████████████████████████████████████████████████████████████████████████████| 4764/4764 [00:05<00:00, 807.07it/s]\n",
      "100%|█████████████████████████████████████████████████████████████████████████████| 2334/2334 [00:12<00:00, 188.41it/s]\n",
      "100%|█████████████████████████████████████████████████████████████████████████████| 4764/4764 [00:05<00:00, 908.37it/s]\n"
     ]
    },
    {
     "name": "stdout",
     "output_type": "stream",
     "text": [
      "Accuracy: 0.6993650127259846\n",
      "Recall: 0.9264517506404782\n",
      "Precision: 0.2808283449280052\n",
      "F1-score: 0.43100836788915653\n",
      "Balanced-Accuracy-Score: 0.7969979757181211\n",
      "\n",
      "[hidden_sizes = [64, 32]][dropout_prob = 0.021544346900318832]\n"
     ]
    },
    {
     "name": "stderr",
     "output_type": "stream",
     "text": [
      "100%|█████████████████████████████████████████████████████████████████████████████| 2334/2334 [00:12<00:00, 188.74it/s]\n",
      "100%|█████████████████████████████████████████████████████████████████████████████| 4764/4764 [00:05<00:00, 860.69it/s]\n",
      "100%|█████████████████████████████████████████████████████████████████████████████| 2334/2334 [00:12<00:00, 189.41it/s]\n",
      "100%|█████████████████████████████████████████████████████████████████████████████| 4764/4764 [00:05<00:00, 823.88it/s]\n",
      "100%|█████████████████████████████████████████████████████████████████████████████| 2334/2334 [00:12<00:00, 187.28it/s]\n",
      "100%|█████████████████████████████████████████████████████████████████████████████| 4764/4764 [00:05<00:00, 853.04it/s]\n",
      "100%|█████████████████████████████████████████████████████████████████████████████| 2334/2334 [00:11<00:00, 196.41it/s]\n",
      "100%|█████████████████████████████████████████████████████████████████████████████| 4764/4764 [00:05<00:00, 804.17it/s]\n",
      "100%|█████████████████████████████████████████████████████████████████████████████| 2334/2334 [00:12<00:00, 187.25it/s]\n",
      "100%|█████████████████████████████████████████████████████████████████████████████| 4764/4764 [00:05<00:00, 801.35it/s]\n"
     ]
    },
    {
     "name": "stdout",
     "output_type": "stream",
     "text": [
      "Accuracy: 0.7017527747894309\n",
      "Recall: 0.923462852263023\n",
      "Precision: 0.28209475983956694\n",
      "F1-score: 0.43217184963157235\n",
      "Balanced-Accuracy-Score: 0.7970741131809027\n",
      "\n",
      "[hidden_sizes = [64, 32]][dropout_prob = 0.03593813663804626]\n"
     ]
    },
    {
     "name": "stderr",
     "output_type": "stream",
     "text": [
      "100%|█████████████████████████████████████████████████████████████████████████████| 2334/2334 [00:12<00:00, 187.05it/s]\n",
      "100%|█████████████████████████████████████████████████████████████████████████████| 4764/4764 [00:05<00:00, 805.92it/s]\n",
      "100%|█████████████████████████████████████████████████████████████████████████████| 2334/2334 [00:11<00:00, 194.78it/s]\n",
      "100%|█████████████████████████████████████████████████████████████████████████████| 4764/4764 [00:05<00:00, 820.79it/s]\n",
      "100%|█████████████████████████████████████████████████████████████████████████████| 2334/2334 [00:11<00:00, 198.67it/s]\n",
      "100%|█████████████████████████████████████████████████████████████████████████████| 4764/4764 [00:05<00:00, 805.90it/s]\n",
      "100%|█████████████████████████████████████████████████████████████████████████████| 2334/2334 [00:12<00:00, 181.55it/s]\n",
      "100%|█████████████████████████████████████████████████████████████████████████████| 4764/4764 [00:06<00:00, 758.60it/s]\n",
      "100%|█████████████████████████████████████████████████████████████████████████████| 2334/2334 [00:12<00:00, 185.88it/s]\n",
      "100%|█████████████████████████████████████████████████████████████████████████████| 4764/4764 [00:05<00:00, 811.91it/s]\n"
     ]
    },
    {
     "name": "stdout",
     "output_type": "stream",
     "text": [
      "Accuracy: 0.6944976515966519\n",
      "Recall: 0.9310418445772843\n",
      "Precision: 0.27810726356737453\n",
      "F1-score: 0.428283820279892\n",
      "Balanced-Accuracy-Score: 0.7961967232878344\n",
      "\n",
      "[hidden_sizes = [64, 32]][dropout_prob = 0.05994842503189409]\n"
     ]
    },
    {
     "name": "stderr",
     "output_type": "stream",
     "text": [
      "100%|█████████████████████████████████████████████████████████████████████████████| 2334/2334 [00:12<00:00, 186.74it/s]\n",
      "100%|█████████████████████████████████████████████████████████████████████████████| 4764/4764 [00:05<00:00, 823.58it/s]\n",
      "100%|█████████████████████████████████████████████████████████████████████████████| 2334/2334 [00:12<00:00, 187.44it/s]\n",
      "100%|█████████████████████████████████████████████████████████████████████████████| 4764/4764 [00:05<00:00, 834.64it/s]\n",
      "100%|█████████████████████████████████████████████████████████████████████████████| 2334/2334 [00:12<00:00, 186.99it/s]\n",
      "100%|█████████████████████████████████████████████████████████████████████████████| 4764/4764 [00:05<00:00, 870.67it/s]\n",
      "100%|█████████████████████████████████████████████████████████████████████████████| 2334/2334 [00:12<00:00, 191.59it/s]\n",
      "100%|█████████████████████████████████████████████████████████████████████████████| 4764/4764 [00:05<00:00, 805.61it/s]\n",
      "100%|█████████████████████████████████████████████████████████████████████████████| 2334/2334 [00:12<00:00, 182.24it/s]\n",
      "100%|█████████████████████████████████████████████████████████████████████████████| 4764/4764 [00:06<00:00, 792.98it/s]\n"
     ]
    },
    {
     "name": "stdout",
     "output_type": "stream",
     "text": [
      "Accuracy: 0.679187111332686\n",
      "Recall: 0.9511101622544833\n",
      "Precision: 0.2707795167907613\n",
      "F1-score: 0.4215456674473068\n",
      "Balanced-Accuracy-Score: 0.7960968587321717\n",
      "\n",
      "[hidden_sizes = [64, 32]][dropout_prob = 0.1]\n"
     ]
    },
    {
     "name": "stderr",
     "output_type": "stream",
     "text": [
      "100%|█████████████████████████████████████████████████████████████████████████████| 2334/2334 [00:12<00:00, 187.07it/s]\n",
      "100%|█████████████████████████████████████████████████████████████████████████████| 4764/4764 [00:05<00:00, 828.26it/s]\n",
      "100%|█████████████████████████████████████████████████████████████████████████████| 2334/2334 [00:11<00:00, 206.97it/s]\n",
      "100%|█████████████████████████████████████████████████████████████████████████████| 4764/4764 [00:05<00:00, 814.60it/s]\n",
      "100%|█████████████████████████████████████████████████████████████████████████████| 2334/2334 [00:12<00:00, 186.83it/s]\n",
      "100%|█████████████████████████████████████████████████████████████████████████████| 4764/4764 [00:05<00:00, 830.54it/s]\n",
      "100%|█████████████████████████████████████████████████████████████████████████████| 2334/2334 [00:12<00:00, 186.45it/s]\n",
      "100%|█████████████████████████████████████████████████████████████████████████████| 4764/4764 [00:05<00:00, 808.93it/s]\n",
      "100%|█████████████████████████████████████████████████████████████████████████████| 2334/2334 [00:11<00:00, 197.05it/s]\n",
      "100%|█████████████████████████████████████████████████████████████████████████████| 4764/4764 [00:05<00:00, 834.90it/s]\n"
     ]
    },
    {
     "name": "stdout",
     "output_type": "stream",
     "text": [
      "Accuracy: 0.7061609509065624\n",
      "Recall: 0.9181255337318531\n",
      "Precision: 0.28450927855512553\n",
      "F1-score: 0.4344049092148792\n",
      "Balanced-Accuracy-Score: 0.7972923417604729\n",
      "\n",
      "[hidden_sizes = [64, 16]][dropout_prob = 0.001]\n"
     ]
    },
    {
     "name": "stderr",
     "output_type": "stream",
     "text": [
      "100%|█████████████████████████████████████████████████████████████████████████████| 2334/2334 [00:12<00:00, 191.96it/s]\n",
      "100%|█████████████████████████████████████████████████████████████████████████████| 4764/4764 [00:05<00:00, 812.21it/s]\n",
      "100%|█████████████████████████████████████████████████████████████████████████████| 2334/2334 [00:12<00:00, 189.73it/s]\n",
      "100%|█████████████████████████████████████████████████████████████████████████████| 4764/4764 [00:05<00:00, 810.44it/s]\n",
      "100%|█████████████████████████████████████████████████████████████████████████████| 2334/2334 [00:12<00:00, 193.41it/s]\n",
      "100%|█████████████████████████████████████████████████████████████████████████████| 4764/4764 [00:05<00:00, 877.38it/s]\n",
      "100%|█████████████████████████████████████████████████████████████████████████████| 2334/2334 [00:12<00:00, 193.41it/s]\n",
      "100%|█████████████████████████████████████████████████████████████████████████████| 4764/4764 [00:05<00:00, 836.77it/s]\n",
      "100%|█████████████████████████████████████████████████████████████████████████████| 2334/2334 [00:12<00:00, 192.02it/s]\n",
      "100%|█████████████████████████████████████████████████████████████████████████████| 4764/4764 [00:05<00:00, 863.65it/s]\n"
     ]
    },
    {
     "name": "stdout",
     "output_type": "stream",
     "text": [
      "Accuracy: 0.7028023405316051\n",
      "Recall: 0.9231426131511529\n",
      "Precision: 0.2827899676269579\n",
      "F1-score: 0.43295201381761744\n",
      "Balanced-Accuracy-Score: 0.7975347493015166\n",
      "\n",
      "[hidden_sizes = [64, 16]][dropout_prob = 0.0016681005372000592]\n"
     ]
    },
    {
     "name": "stderr",
     "output_type": "stream",
     "text": [
      "100%|█████████████████████████████████████████████████████████████████████████████| 2334/2334 [00:12<00:00, 192.18it/s]\n",
      "100%|█████████████████████████████████████████████████████████████████████████████| 4764/4764 [00:05<00:00, 870.92it/s]\n",
      "100%|█████████████████████████████████████████████████████████████████████████████| 2334/2334 [00:11<00:00, 197.63it/s]\n",
      "100%|█████████████████████████████████████████████████████████████████████████████| 4764/4764 [00:05<00:00, 798.06it/s]\n",
      "100%|█████████████████████████████████████████████████████████████████████████████| 2334/2334 [00:12<00:00, 187.28it/s]\n",
      "100%|█████████████████████████████████████████████████████████████████████████████| 4764/4764 [00:05<00:00, 797.96it/s]\n",
      "100%|█████████████████████████████████████████████████████████████████████████████| 2334/2334 [00:12<00:00, 186.93it/s]\n",
      "100%|█████████████████████████████████████████████████████████████████████████████| 4764/4764 [00:05<00:00, 814.36it/s]\n",
      "100%|█████████████████████████████████████████████████████████████████████████████| 2334/2334 [00:11<00:00, 198.60it/s]\n",
      "100%|█████████████████████████████████████████████████████████████████████████████| 4764/4764 [00:05<00:00, 898.78it/s]\n"
     ]
    },
    {
     "name": "stdout",
     "output_type": "stream",
     "text": [
      "Accuracy: 0.7007425677625883\n",
      "Recall: 0.9250640478223741\n",
      "Precision: 0.28160135179047247\n",
      "F1-score: 0.43176722634647\n",
      "Balanced-Accuracy-Score: 0.7971866444275361\n",
      "\n",
      "[hidden_sizes = [64, 16]][dropout_prob = 0.0027825594022071257]\n"
     ]
    },
    {
     "name": "stderr",
     "output_type": "stream",
     "text": [
      "100%|█████████████████████████████████████████████████████████████████████████████| 2334/2334 [00:09<00:00, 234.38it/s]\n",
      "100%|█████████████████████████████████████████████████████████████████████████████| 4764/4764 [00:04<00:00, 977.32it/s]\n",
      "100%|█████████████████████████████████████████████████████████████████████████████| 2334/2334 [00:12<00:00, 191.39it/s]\n",
      "100%|█████████████████████████████████████████████████████████████████████████████| 4764/4764 [00:05<00:00, 806.50it/s]\n",
      "100%|█████████████████████████████████████████████████████████████████████████████| 2334/2334 [00:12<00:00, 190.63it/s]\n",
      "100%|█████████████████████████████████████████████████████████████████████████████| 4764/4764 [00:05<00:00, 839.06it/s]\n",
      "100%|█████████████████████████████████████████████████████████████████████████████| 2334/2334 [00:11<00:00, 196.20it/s]\n",
      "100%|█████████████████████████████████████████████████████████████████████████████| 4764/4764 [00:05<00:00, 810.42it/s]\n",
      "100%|█████████████████████████████████████████████████████████████████████████████| 2334/2334 [00:12<00:00, 188.57it/s]\n",
      "100%|█████████████████████████████████████████████████████████████████████████████| 4764/4764 [00:05<00:00, 836.72it/s]\n"
     ]
    },
    {
     "name": "stdout",
     "output_type": "stream",
     "text": [
      "Accuracy: 0.6783999370260555\n",
      "Recall: 0.9533518360375747\n",
      "Precision: 0.27057896809767623\n",
      "F1-score: 0.42152212389380533\n",
      "Balanced-Accuracy-Score: 0.7966118979152782\n",
      "\n",
      "[hidden_sizes = [64, 16]][dropout_prob = 0.004641588833612777]\n"
     ]
    },
    {
     "name": "stderr",
     "output_type": "stream",
     "text": [
      "100%|█████████████████████████████████████████████████████████████████████████████| 2334/2334 [00:12<00:00, 188.24it/s]\n",
      "100%|█████████████████████████████████████████████████████████████████████████████| 4764/4764 [00:05<00:00, 823.16it/s]\n",
      "100%|█████████████████████████████████████████████████████████████████████████████| 2334/2334 [00:11<00:00, 196.15it/s]\n",
      "100%|█████████████████████████████████████████████████████████████████████████████| 4764/4764 [00:05<00:00, 815.00it/s]\n",
      "100%|█████████████████████████████████████████████████████████████████████████████| 2334/2334 [00:12<00:00, 189.38it/s]\n",
      "100%|█████████████████████████████████████████████████████████████████████████████| 4764/4764 [00:05<00:00, 809.76it/s]\n",
      "100%|█████████████████████████████████████████████████████████████████████████████| 2334/2334 [00:12<00:00, 188.42it/s]\n",
      "100%|█████████████████████████████████████████████████████████████████████████████| 4764/4764 [00:05<00:00, 806.30it/s]\n",
      "100%|█████████████████████████████████████████████████████████████████████████████| 2334/2334 [00:11<00:00, 194.74it/s]\n",
      "100%|█████████████████████████████████████████████████████████████████████████████| 4764/4764 [00:05<00:00, 874.20it/s]\n"
     ]
    },
    {
     "name": "stdout",
     "output_type": "stream",
     "text": [
      "Accuracy: 0.7120647582062921\n",
      "Recall: 0.9056362083689155\n",
      "Precision: 0.287135749822317\n",
      "F1-score: 0.43602723885391237\n",
      "Balanced-Accuracy-Score: 0.7952882630380791\n",
      "\n",
      "[hidden_sizes = [64, 16]][dropout_prob = 0.007742636826811269]\n"
     ]
    },
    {
     "name": "stderr",
     "output_type": "stream",
     "text": [
      "100%|█████████████████████████████████████████████████████████████████████████████| 2334/2334 [00:12<00:00, 190.76it/s]\n",
      "100%|█████████████████████████████████████████████████████████████████████████████| 4764/4764 [00:05<00:00, 816.46it/s]\n",
      "100%|█████████████████████████████████████████████████████████████████████████████| 2334/2334 [00:12<00:00, 190.37it/s]\n",
      "100%|█████████████████████████████████████████████████████████████████████████████| 4764/4764 [00:05<00:00, 809.61it/s]\n",
      "100%|█████████████████████████████████████████████████████████████████████████████| 2334/2334 [00:12<00:00, 190.23it/s]\n",
      "100%|█████████████████████████████████████████████████████████████████████████████| 4764/4764 [00:05<00:00, 873.06it/s]\n",
      "100%|█████████████████████████████████████████████████████████████████████████████| 2334/2334 [00:12<00:00, 193.22it/s]\n",
      "100%|█████████████████████████████████████████████████████████████████████████████| 4764/4764 [00:05<00:00, 800.73it/s]\n",
      "100%|█████████████████████████████████████████████████████████████████████████████| 2334/2334 [00:12<00:00, 190.77it/s]\n",
      "100%|█████████████████████████████████████████████████████████████████████████████| 4764/4764 [00:06<00:00, 786.63it/s]\n"
     ]
    },
    {
     "name": "stdout",
     "output_type": "stream",
     "text": [
      "Accuracy: 0.7040355802786598\n",
      "Recall: 0.922395388556789\n",
      "Precision: 0.283562497949004\n",
      "F1-score: 0.43377425265430086\n",
      "Balanced-Accuracy-Score: 0.79791651439387\n",
      "\n",
      "[hidden_sizes = [64, 16]][dropout_prob = 0.01291549665014884]\n"
     ]
    },
    {
     "name": "stderr",
     "output_type": "stream",
     "text": [
      "100%|█████████████████████████████████████████████████████████████████████████████| 2334/2334 [00:12<00:00, 187.78it/s]\n",
      "100%|█████████████████████████████████████████████████████████████████████████████| 4764/4764 [00:05<00:00, 825.78it/s]\n",
      "100%|█████████████████████████████████████████████████████████████████████████████| 2334/2334 [00:11<00:00, 199.19it/s]\n",
      "100%|█████████████████████████████████████████████████████████████████████████████| 4764/4764 [00:05<00:00, 839.62it/s]\n",
      "100%|█████████████████████████████████████████████████████████████████████████████| 2334/2334 [00:12<00:00, 189.42it/s]\n",
      "100%|█████████████████████████████████████████████████████████████████████████████| 4764/4764 [00:05<00:00, 863.10it/s]\n",
      "100%|█████████████████████████████████████████████████████████████████████████████| 2334/2334 [00:11<00:00, 194.68it/s]\n",
      "100%|█████████████████████████████████████████████████████████████████████████████| 4764/4764 [00:05<00:00, 838.62it/s]\n",
      "100%|█████████████████████████████████████████████████████████████████████████████| 2334/2334 [00:11<00:00, 198.98it/s]\n",
      "100%|█████████████████████████████████████████████████████████████████████████████| 4764/4764 [00:05<00:00, 854.00it/s]\n"
     ]
    },
    {
     "name": "stdout",
     "output_type": "stream",
     "text": [
      "Accuracy: 0.6841725486080135\n",
      "Recall: 0.9454526046114432\n",
      "Precision: 0.2732039853172522\n",
      "F1-score: 0.42391174288654365\n",
      "Balanced-Accuracy-Score: 0.7965064800063828\n",
      "\n",
      "[hidden_sizes = [64, 16]][dropout_prob = 0.021544346900318832]\n"
     ]
    },
    {
     "name": "stderr",
     "output_type": "stream",
     "text": [
      "100%|█████████████████████████████████████████████████████████████████████████████| 2334/2334 [00:12<00:00, 187.72it/s]\n",
      "100%|█████████████████████████████████████████████████████████████████████████████| 4764/4764 [00:06<00:00, 789.32it/s]\n",
      "100%|█████████████████████████████████████████████████████████████████████████████| 2334/2334 [00:12<00:00, 186.14it/s]\n",
      "100%|█████████████████████████████████████████████████████████████████████████████| 4764/4764 [00:05<00:00, 811.10it/s]\n",
      "100%|█████████████████████████████████████████████████████████████████████████████| 2334/2334 [00:12<00:00, 189.16it/s]\n",
      "100%|█████████████████████████████████████████████████████████████████████████████| 4764/4764 [00:05<00:00, 875.27it/s]\n",
      "100%|█████████████████████████████████████████████████████████████████████████████| 2334/2334 [00:12<00:00, 188.49it/s]\n",
      "100%|█████████████████████████████████████████████████████████████████████████████| 4764/4764 [00:05<00:00, 802.26it/s]\n",
      "100%|█████████████████████████████████████████████████████████████████████████████| 2334/2334 [00:12<00:00, 190.22it/s]\n",
      "100%|█████████████████████████████████████████████████████████████████████████████| 4764/4764 [00:05<00:00, 853.35it/s]\n"
     ]
    },
    {
     "name": "stdout",
     "output_type": "stream",
     "text": [
      "Accuracy: 0.6834903308756002\n",
      "Recall: 0.944598633646456\n",
      "Precision: 0.2726544446156216\n",
      "F1-score: 0.42316428759295127\n",
      "Balanced-Accuracy-Score: 0.7957504192254776\n",
      "\n",
      "[hidden_sizes = [64, 16]][dropout_prob = 0.03593813663804626]\n"
     ]
    },
    {
     "name": "stderr",
     "output_type": "stream",
     "text": [
      "100%|█████████████████████████████████████████████████████████████████████████████| 2334/2334 [00:12<00:00, 191.47it/s]\n",
      "100%|█████████████████████████████████████████████████████████████████████████████| 4764/4764 [00:05<00:00, 846.96it/s]\n",
      "100%|█████████████████████████████████████████████████████████████████████████████| 2334/2334 [00:11<00:00, 204.44it/s]\n",
      "100%|█████████████████████████████████████████████████████████████████████████████| 4764/4764 [00:05<00:00, 848.99it/s]\n",
      "100%|█████████████████████████████████████████████████████████████████████████████| 2334/2334 [00:12<00:00, 189.98it/s]\n",
      "100%|█████████████████████████████████████████████████████████████████████████████| 4764/4764 [00:05<00:00, 869.71it/s]\n",
      "100%|█████████████████████████████████████████████████████████████████████████████| 2334/2334 [00:12<00:00, 191.94it/s]\n",
      "100%|█████████████████████████████████████████████████████████████████████████████| 4764/4764 [00:05<00:00, 805.46it/s]\n",
      "100%|█████████████████████████████████████████████████████████████████████████████| 2334/2334 [00:11<00:00, 199.03it/s]\n",
      "100%|█████████████████████████████████████████████████████████████████████████████| 4764/4764 [00:05<00:00, 823.35it/s]\n"
     ]
    },
    {
     "name": "stdout",
     "output_type": "stream",
     "text": [
      "Accuracy: 0.7112775838996616\n",
      "Recall: 0.911400512382579\n",
      "Precision: 0.2873296314992428\n",
      "F1-score: 0.436916306322442\n",
      "Balanced-Accuracy-Score: 0.797317810862663\n",
      "\n",
      "[hidden_sizes = [64, 16]][dropout_prob = 0.05994842503189409]\n"
     ]
    },
    {
     "name": "stderr",
     "output_type": "stream",
     "text": [
      "100%|█████████████████████████████████████████████████████████████████████████████| 2334/2334 [00:12<00:00, 190.44it/s]\n",
      "100%|█████████████████████████████████████████████████████████████████████████████| 4764/4764 [00:05<00:00, 817.45it/s]\n",
      "100%|█████████████████████████████████████████████████████████████████████████████| 2334/2334 [00:12<00:00, 188.11it/s]\n",
      "100%|█████████████████████████████████████████████████████████████████████████████| 4764/4764 [00:05<00:00, 842.67it/s]\n",
      "100%|█████████████████████████████████████████████████████████████████████████████| 2334/2334 [00:12<00:00, 186.11it/s]\n",
      "100%|█████████████████████████████████████████████████████████████████████████████| 4764/4764 [00:05<00:00, 892.92it/s]\n",
      "100%|█████████████████████████████████████████████████████████████████████████████| 2334/2334 [00:12<00:00, 192.61it/s]\n",
      "100%|█████████████████████████████████████████████████████████████████████████████| 4764/4764 [00:05<00:00, 815.60it/s]\n",
      "100%|█████████████████████████████████████████████████████████████████████████████| 2334/2334 [00:12<00:00, 191.12it/s]\n",
      "100%|█████████████████████████████████████████████████████████████████████████████| 4764/4764 [00:05<00:00, 814.55it/s]\n"
     ]
    },
    {
     "name": "stdout",
     "output_type": "stream",
     "text": [
      "Accuracy: 0.6998504368817402\n",
      "Recall: 0.9253842869342442\n",
      "Precision: 0.28102308091286304\n",
      "F1-score: 0.4311219415158146\n",
      "Balanced-Accuracy-Score: 0.79681575611558\n",
      "\n",
      "[hidden_sizes = [64, 16]][dropout_prob = 0.1]\n"
     ]
    },
    {
     "name": "stderr",
     "output_type": "stream",
     "text": [
      "100%|█████████████████████████████████████████████████████████████████████████████| 2334/2334 [00:11<00:00, 203.05it/s]\n",
      "100%|█████████████████████████████████████████████████████████████████████████████| 4764/4764 [00:05<00:00, 818.84it/s]\n",
      "100%|█████████████████████████████████████████████████████████████████████████████| 2334/2334 [00:12<00:00, 191.31it/s]\n",
      "100%|█████████████████████████████████████████████████████████████████████████████| 4764/4764 [00:06<00:00, 791.12it/s]\n",
      "100%|█████████████████████████████████████████████████████████████████████████████| 2334/2334 [00:12<00:00, 185.74it/s]\n",
      "100%|█████████████████████████████████████████████████████████████████████████████| 4764/4764 [00:05<00:00, 805.51it/s]\n",
      "100%|█████████████████████████████████████████████████████████████████████████████| 2334/2334 [00:13<00:00, 178.85it/s]\n",
      "100%|█████████████████████████████████████████████████████████████████████████████| 4764/4764 [00:06<00:00, 739.76it/s]\n",
      "100%|█████████████████████████████████████████████████████████████████████████████| 2334/2334 [00:11<00:00, 199.99it/s]\n",
      "100%|█████████████████████████████████████████████████████████████████████████████| 4764/4764 [00:06<00:00, 792.71it/s]\n"
     ]
    },
    {
     "name": "stdout",
     "output_type": "stream",
     "text": [
      "Accuracy: 0.6849466033428669\n",
      "Recall: 0.9441716481639624\n",
      "Precision: 0.27353414151410194\n",
      "F1-score: 0.4241799347784385\n",
      "Balanced-Accuracy-Score: 0.7963970096505335\n",
      "\n",
      "[hidden_sizes = [32, 32]][dropout_prob = 0.001]\n"
     ]
    },
    {
     "name": "stderr",
     "output_type": "stream",
     "text": [
      "100%|█████████████████████████████████████████████████████████████████████████████| 2334/2334 [00:12<00:00, 183.76it/s]\n",
      "100%|█████████████████████████████████████████████████████████████████████████████| 4764/4764 [00:05<00:00, 837.56it/s]\n",
      "100%|█████████████████████████████████████████████████████████████████████████████| 2334/2334 [00:12<00:00, 192.11it/s]\n",
      "100%|█████████████████████████████████████████████████████████████████████████████| 4764/4764 [00:05<00:00, 815.51it/s]\n",
      "100%|█████████████████████████████████████████████████████████████████████████████| 2334/2334 [00:11<00:00, 195.61it/s]\n",
      "100%|█████████████████████████████████████████████████████████████████████████████| 4764/4764 [00:05<00:00, 888.55it/s]\n",
      "100%|█████████████████████████████████████████████████████████████████████████████| 2334/2334 [00:12<00:00, 189.55it/s]\n",
      "100%|█████████████████████████████████████████████████████████████████████████████| 4764/4764 [00:05<00:00, 827.86it/s]\n",
      "100%|█████████████████████████████████████████████████████████████████████████████| 2334/2334 [00:11<00:00, 206.91it/s]\n",
      "100%|█████████████████████████████████████████████████████████████████████████████| 4764/4764 [00:05<00:00, 853.09it/s]\n"
     ]
    },
    {
     "name": "stdout",
     "output_type": "stream",
     "text": [
      "Accuracy: 0.6903387473432867\n",
      "Recall: 0.9390478223740393\n",
      "Precision: 0.2763831725784662\n",
      "F1-score: 0.4270699322766221\n",
      "Balanced-Accuracy-Score: 0.7972679504367279\n",
      "\n",
      "[hidden_sizes = [32, 32]][dropout_prob = 0.0016681005372000592]\n"
     ]
    },
    {
     "name": "stderr",
     "output_type": "stream",
     "text": [
      "100%|█████████████████████████████████████████████████████████████████████████████| 2334/2334 [00:11<00:00, 195.94it/s]\n",
      "100%|█████████████████████████████████████████████████████████████████████████████| 4764/4764 [00:05<00:00, 814.71it/s]\n",
      "100%|█████████████████████████████████████████████████████████████████████████████| 2334/2334 [00:11<00:00, 204.40it/s]\n",
      "100%|█████████████████████████████████████████████████████████████████████████████| 4764/4764 [00:05<00:00, 796.97it/s]\n",
      "100%|█████████████████████████████████████████████████████████████████████████████| 2334/2334 [00:12<00:00, 191.45it/s]\n",
      "100%|█████████████████████████████████████████████████████████████████████████████| 4764/4764 [00:05<00:00, 829.97it/s]\n",
      "100%|█████████████████████████████████████████████████████████████████████████████| 2334/2334 [00:12<00:00, 193.34it/s]\n",
      "100%|█████████████████████████████████████████████████████████████████████████████| 4764/4764 [00:05<00:00, 858.09it/s]\n",
      "100%|█████████████████████████████████████████████████████████████████████████████| 2334/2334 [00:11<00:00, 201.91it/s]\n",
      "100%|█████████████████████████████████████████████████████████████████████████████| 4764/4764 [00:05<00:00, 827.94it/s]\n"
     ]
    },
    {
     "name": "stdout",
     "output_type": "stream",
     "text": [
      "Accuracy: 0.7032615255438063\n",
      "Recall: 0.9209009393680615\n",
      "Precision: 0.2828153684762654\n",
      "F1-score: 0.43273475120385235\n",
      "Balanced-Accuracy-Score: 0.7968327355170399\n",
      "\n",
      "[hidden_sizes = [32, 32]][dropout_prob = 0.0027825594022071257]\n"
     ]
    },
    {
     "name": "stderr",
     "output_type": "stream",
     "text": [
      "100%|█████████████████████████████████████████████████████████████████████████████| 2334/2334 [00:12<00:00, 193.40it/s]\n",
      "100%|█████████████████████████████████████████████████████████████████████████████| 4764/4764 [00:05<00:00, 850.97it/s]\n",
      "100%|█████████████████████████████████████████████████████████████████████████████| 2334/2334 [00:12<00:00, 190.31it/s]\n",
      "100%|█████████████████████████████████████████████████████████████████████████████| 4764/4764 [00:05<00:00, 803.64it/s]\n",
      "100%|█████████████████████████████████████████████████████████████████████████████| 2334/2334 [00:12<00:00, 191.20it/s]\n",
      "100%|█████████████████████████████████████████████████████████████████████████████| 4764/4764 [00:05<00:00, 947.01it/s]\n",
      "100%|█████████████████████████████████████████████████████████████████████████████| 2334/2334 [00:12<00:00, 193.28it/s]\n",
      "100%|█████████████████████████████████████████████████████████████████████████████| 4764/4764 [00:05<00:00, 823.55it/s]\n",
      "100%|█████████████████████████████████████████████████████████████████████████████| 2334/2334 [00:12<00:00, 191.37it/s]\n",
      "100%|█████████████████████████████████████████████████████████████████████████████| 4764/4764 [00:05<00:00, 843.61it/s]\n"
     ]
    },
    {
     "name": "stdout",
     "output_type": "stream",
     "text": [
      "Accuracy: 0.706279027052557\n",
      "Recall: 0.9183390264731\n",
      "Precision: 0.28462251042149145\n",
      "F1-score: 0.43456079203919784\n",
      "Balanced-Accuracy-Score: 0.79745144101948\n",
      "\n",
      "[hidden_sizes = [32, 32]][dropout_prob = 0.004641588833612777]\n"
     ]
    },
    {
     "name": "stderr",
     "output_type": "stream",
     "text": [
      "100%|█████████████████████████████████████████████████████████████████████████████| 2334/2334 [00:11<00:00, 196.63it/s]\n",
      "100%|█████████████████████████████████████████████████████████████████████████████| 4764/4764 [00:05<00:00, 834.77it/s]\n",
      "100%|█████████████████████████████████████████████████████████████████████████████| 2334/2334 [00:11<00:00, 200.18it/s]\n",
      "100%|█████████████████████████████████████████████████████████████████████████████| 4764/4764 [00:05<00:00, 841.19it/s]\n",
      "100%|█████████████████████████████████████████████████████████████████████████████| 2334/2334 [00:12<00:00, 193.29it/s]\n",
      "100%|█████████████████████████████████████████████████████████████████████████████| 4764/4764 [00:05<00:00, 830.37it/s]\n",
      "100%|█████████████████████████████████████████████████████████████████████████████| 2334/2334 [00:12<00:00, 193.91it/s]\n",
      "100%|█████████████████████████████████████████████████████████████████████████████| 4764/4764 [00:05<00:00, 809.96it/s]\n",
      "100%|█████████████████████████████████████████████████████████████████████████████| 2334/2334 [00:11<00:00, 198.46it/s]\n",
      "100%|█████████████████████████████████████████████████████████████████████████████| 4764/4764 [00:05<00:00, 879.16it/s]\n"
     ]
    },
    {
     "name": "stdout",
     "output_type": "stream",
     "text": [
      "Accuracy: 0.7090603762693186\n",
      "Recall: 0.9144961571306576\n",
      "Precision: 0.28611983167457083\n",
      "F1-score: 0.435868735690664\n",
      "Balanced-Accuracy-Score: 0.7973847943938506\n",
      "\n",
      "[hidden_sizes = [32, 32]][dropout_prob = 0.007742636826811269]\n"
     ]
    },
    {
     "name": "stderr",
     "output_type": "stream",
     "text": [
      "100%|█████████████████████████████████████████████████████████████████████████████| 2334/2334 [00:11<00:00, 197.33it/s]\n",
      "100%|█████████████████████████████████████████████████████████████████████████████| 4764/4764 [00:05<00:00, 867.18it/s]\n",
      "100%|█████████████████████████████████████████████████████████████████████████████| 2334/2334 [00:11<00:00, 198.94it/s]\n",
      "100%|█████████████████████████████████████████████████████████████████████████████| 4764/4764 [00:05<00:00, 831.74it/s]\n",
      "100%|█████████████████████████████████████████████████████████████████████████████| 2334/2334 [00:12<00:00, 192.31it/s]\n",
      "100%|█████████████████████████████████████████████████████████████████████████████| 4764/4764 [00:05<00:00, 856.67it/s]\n",
      "100%|█████████████████████████████████████████████████████████████████████████████| 2334/2334 [00:11<00:00, 199.01it/s]\n",
      "100%|█████████████████████████████████████████████████████████████████████████████| 4764/4764 [00:05<00:00, 805.60it/s]\n",
      "100%|█████████████████████████████████████████████████████████████████████████████| 2334/2334 [00:12<00:00, 189.73it/s]\n",
      "100%|█████████████████████████████████████████████████████████████████████████████| 4764/4764 [00:06<00:00, 772.88it/s]\n"
     ]
    },
    {
     "name": "stdout",
     "output_type": "stream",
     "text": [
      "Accuracy: 0.6908897693579281\n",
      "Recall: 0.9381938514090521\n",
      "Precision: 0.27663592584432345\n",
      "F1-score: 0.42728311334743185\n",
      "Balanced-Accuracy-Score: 0.7972149141569747\n",
      "\n",
      "[hidden_sizes = [32, 32]][dropout_prob = 0.01291549665014884]\n"
     ]
    },
    {
     "name": "stderr",
     "output_type": "stream",
     "text": [
      "100%|█████████████████████████████████████████████████████████████████████████████| 2334/2334 [00:11<00:00, 195.16it/s]\n",
      "100%|█████████████████████████████████████████████████████████████████████████████| 4764/4764 [00:05<00:00, 834.55it/s]\n",
      "100%|█████████████████████████████████████████████████████████████████████████████| 2334/2334 [00:11<00:00, 201.98it/s]\n",
      "100%|█████████████████████████████████████████████████████████████████████████████| 4764/4764 [00:05<00:00, 830.43it/s]\n",
      "100%|█████████████████████████████████████████████████████████████████████████████| 2334/2334 [00:12<00:00, 192.44it/s]\n",
      "100%|█████████████████████████████████████████████████████████████████████████████| 4764/4764 [00:05<00:00, 830.15it/s]\n",
      "100%|█████████████████████████████████████████████████████████████████████████████| 2334/2334 [00:11<00:00, 194.99it/s]\n",
      "100%|█████████████████████████████████████████████████████████████████████████████| 4764/4764 [00:05<00:00, 809.97it/s]\n",
      "100%|█████████████████████████████████████████████████████████████████████████████| 2334/2334 [00:12<00:00, 193.66it/s]\n",
      "100%|█████████████████████████████████████████████████████████████████████████████| 4764/4764 [00:05<00:00, 866.81it/s]\n"
     ]
    },
    {
     "name": "stdout",
     "output_type": "stream",
     "text": [
      "Accuracy: 0.6976463488231744\n",
      "Recall: 0.9294406490179334\n",
      "Precision: 0.28003988164157984\n",
      "F1-score: 0.4304003954522986\n",
      "Balanced-Accuracy-Score: 0.7973032664421345\n",
      "\n",
      "[hidden_sizes = [32, 32]][dropout_prob = 0.021544346900318832]\n"
     ]
    },
    {
     "name": "stderr",
     "output_type": "stream",
     "text": [
      "100%|█████████████████████████████████████████████████████████████████████████████| 2334/2334 [00:12<00:00, 192.91it/s]\n",
      "100%|█████████████████████████████████████████████████████████████████████████████| 4764/4764 [00:05<00:00, 827.20it/s]\n",
      "100%|█████████████████████████████████████████████████████████████████████████████| 2334/2334 [00:12<00:00, 192.72it/s]\n",
      "100%|█████████████████████████████████████████████████████████████████████████████| 4764/4764 [00:05<00:00, 826.01it/s]\n",
      "100%|█████████████████████████████████████████████████████████████████████████████| 2334/2334 [00:12<00:00, 192.51it/s]\n",
      "100%|█████████████████████████████████████████████████████████████████████████████| 4764/4764 [00:05<00:00, 825.33it/s]\n",
      "100%|█████████████████████████████████████████████████████████████████████████████| 2334/2334 [00:11<00:00, 202.10it/s]\n",
      "100%|█████████████████████████████████████████████████████████████████████████████| 4764/4764 [00:05<00:00, 809.48it/s]\n",
      "100%|█████████████████████████████████████████████████████████████████████████████| 2334/2334 [00:12<00:00, 194.06it/s]\n",
      "100%|█████████████████████████████████████████████████████████████████████████████| 4764/4764 [00:05<00:00, 825.83it/s]\n"
     ]
    },
    {
     "name": "stdout",
     "output_type": "stream",
     "text": [
      "Accuracy: 0.703537036551127\n",
      "Recall: 0.9214346712211785\n",
      "Precision: 0.28308136293575575\n",
      "F1-score: 0.4331050400140488\n",
      "Balanced-Accuracy-Score: 0.7972192651884754\n",
      "\n",
      "[hidden_sizes = [32, 32]][dropout_prob = 0.03593813663804626]\n"
     ]
    },
    {
     "name": "stderr",
     "output_type": "stream",
     "text": [
      "100%|█████████████████████████████████████████████████████████████████████████████| 2334/2334 [00:11<00:00, 195.47it/s]\n",
      "100%|█████████████████████████████████████████████████████████████████████████████| 4764/4764 [00:05<00:00, 818.98it/s]\n",
      "100%|█████████████████████████████████████████████████████████████████████████████| 2334/2334 [00:11<00:00, 205.40it/s]\n",
      "100%|█████████████████████████████████████████████████████████████████████████████| 4764/4764 [00:05<00:00, 828.99it/s]\n",
      "100%|█████████████████████████████████████████████████████████████████████████████| 2334/2334 [00:12<00:00, 192.66it/s]\n",
      "100%|█████████████████████████████████████████████████████████████████████████████| 4764/4764 [00:05<00:00, 795.93it/s]\n",
      "100%|█████████████████████████████████████████████████████████████████████████████| 2334/2334 [00:12<00:00, 193.65it/s]\n",
      "100%|█████████████████████████████████████████████████████████████████████████████| 4764/4764 [00:05<00:00, 820.86it/s]\n",
      "100%|█████████████████████████████████████████████████████████████████████████████| 2334/2334 [00:11<00:00, 204.97it/s]\n",
      "100%|█████████████████████████████████████████████████████████████████████████████| 4764/4764 [00:04<00:00, 983.47it/s]\n"
     ]
    },
    {
     "name": "stdout",
     "output_type": "stream",
     "text": [
      "Accuracy: 0.6837264831675894\n",
      "Recall: 0.9452391118701964\n",
      "Precision: 0.2728897654781349\n",
      "F1-score: 0.42351196881651004\n",
      "Balanced-Accuracy-Score: 0.7961604061460055\n",
      "\n",
      "[hidden_sizes = [32, 32]][dropout_prob = 0.05994842503189409]\n"
     ]
    },
    {
     "name": "stderr",
     "output_type": "stream",
     "text": [
      "100%|█████████████████████████████████████████████████████████████████████████████| 2334/2334 [00:12<00:00, 189.28it/s]\n",
      "100%|█████████████████████████████████████████████████████████████████████████████| 4764/4764 [00:05<00:00, 827.75it/s]\n",
      "100%|█████████████████████████████████████████████████████████████████████████████| 2334/2334 [00:11<00:00, 196.13it/s]\n",
      "100%|█████████████████████████████████████████████████████████████████████████████| 4764/4764 [00:05<00:00, 809.87it/s]\n",
      "100%|█████████████████████████████████████████████████████████████████████████████| 2334/2334 [00:12<00:00, 191.97it/s]\n",
      "100%|█████████████████████████████████████████████████████████████████████████████| 4764/4764 [00:06<00:00, 773.77it/s]\n",
      "100%|█████████████████████████████████████████████████████████████████████████████| 2334/2334 [00:11<00:00, 201.68it/s]\n",
      "100%|█████████████████████████████████████████████████████████████████████████████| 4764/4764 [00:04<00:00, 954.99it/s]\n",
      "100%|█████████████████████████████████████████████████████████████████████████████| 2334/2334 [00:12<00:00, 188.51it/s]\n",
      "100%|█████████████████████████████████████████████████████████████████████████████| 4764/4764 [00:06<00:00, 788.47it/s]\n"
     ]
    },
    {
     "name": "stdout",
     "output_type": "stream",
     "text": [
      "Accuracy: 0.6987352732806801\n",
      "Recall: 0.9263450042698548\n",
      "Precision: 0.2803786630480437\n",
      "F1-score: 0.4304670254718619\n",
      "Balanced-Accuracy-Score: 0.7965930902822335\n",
      "\n",
      "[hidden_sizes = [32, 32]][dropout_prob = 0.1]\n"
     ]
    },
    {
     "name": "stderr",
     "output_type": "stream",
     "text": [
      "100%|█████████████████████████████████████████████████████████████████████████████| 2334/2334 [00:12<00:00, 187.38it/s]\n",
      "100%|█████████████████████████████████████████████████████████████████████████████| 4764/4764 [00:06<00:00, 793.02it/s]\n",
      "100%|█████████████████████████████████████████████████████████████████████████████| 2334/2334 [00:11<00:00, 197.96it/s]\n",
      "100%|█████████████████████████████████████████████████████████████████████████████| 4764/4764 [00:05<00:00, 797.85it/s]\n",
      "100%|█████████████████████████████████████████████████████████████████████████████| 2334/2334 [00:12<00:00, 186.43it/s]\n",
      "100%|█████████████████████████████████████████████████████████████████████████████| 4764/4764 [00:05<00:00, 803.52it/s]\n",
      "100%|█████████████████████████████████████████████████████████████████████████████| 2334/2334 [00:11<00:00, 195.37it/s]\n",
      "100%|█████████████████████████████████████████████████████████████████████████████| 4764/4764 [00:06<00:00, 782.99it/s]\n",
      "100%|█████████████████████████████████████████████████████████████████████████████| 2334/2334 [00:12<00:00, 191.66it/s]\n",
      "100%|█████████████████████████████████████████████████████████████████████████████| 4764/4764 [00:05<00:00, 862.53it/s]\n"
     ]
    },
    {
     "name": "stdout",
     "output_type": "stream",
     "text": [
      "Accuracy: 0.6742803914880219\n",
      "Recall: 0.9517506404782238\n",
      "Precision: 0.2678201315670902\n",
      "F1-score: 0.4180126116411543\n",
      "Balanced-Accuracy-Score: 0.7935750839032157\n",
      "\n",
      "[hidden_sizes = [32, 16]][dropout_prob = 0.001]\n"
     ]
    },
    {
     "name": "stderr",
     "output_type": "stream",
     "text": [
      "100%|█████████████████████████████████████████████████████████████████████████████| 2334/2334 [00:12<00:00, 189.87it/s]\n",
      "100%|█████████████████████████████████████████████████████████████████████████████| 4764/4764 [00:05<00:00, 838.03it/s]\n",
      "100%|█████████████████████████████████████████████████████████████████████████████| 2334/2334 [00:11<00:00, 198.76it/s]\n",
      "100%|█████████████████████████████████████████████████████████████████████████████| 4764/4764 [00:05<00:00, 846.50it/s]\n",
      "100%|█████████████████████████████████████████████████████████████████████████████| 2334/2334 [00:12<00:00, 194.21it/s]\n",
      "100%|█████████████████████████████████████████████████████████████████████████████| 4764/4764 [00:05<00:00, 814.68it/s]\n",
      "100%|█████████████████████████████████████████████████████████████████████████████| 2334/2334 [00:11<00:00, 208.43it/s]\n",
      "100%|█████████████████████████████████████████████████████████████████████████████| 4764/4764 [00:05<00:00, 810.31it/s]\n",
      "100%|█████████████████████████████████████████████████████████████████████████████| 2334/2334 [00:12<00:00, 194.31it/s]\n",
      "100%|█████████████████████████████████████████████████████████████████████████████| 4764/4764 [00:06<00:00, 790.72it/s]\n"
     ]
    },
    {
     "name": "stdout",
     "output_type": "stream",
     "text": [
      "Accuracy: 0.6816273516832411\n",
      "Recall: 0.9480145175064048\n",
      "Precision: 0.2719145157833502\n",
      "F1-score: 0.4226129577196698\n",
      "Balanced-Accuracy-Score: 0.7961570179299158\n",
      "\n",
      "[hidden_sizes = [32, 16]][dropout_prob = 0.0016681005372000592]\n"
     ]
    },
    {
     "name": "stderr",
     "output_type": "stream",
     "text": [
      "100%|█████████████████████████████████████████████████████████████████████████████| 2334/2334 [00:12<00:00, 188.80it/s]\n",
      "100%|█████████████████████████████████████████████████████████████████████████████| 4764/4764 [00:05<00:00, 799.23it/s]\n",
      "100%|█████████████████████████████████████████████████████████████████████████████| 2334/2334 [00:11<00:00, 202.00it/s]\n",
      "100%|█████████████████████████████████████████████████████████████████████████████| 4764/4764 [00:05<00:00, 820.99it/s]\n",
      "100%|█████████████████████████████████████████████████████████████████████████████| 2334/2334 [00:12<00:00, 193.96it/s]\n",
      "100%|█████████████████████████████████████████████████████████████████████████████| 4764/4764 [00:05<00:00, 827.43it/s]\n",
      "100%|█████████████████████████████████████████████████████████████████████████████| 2334/2334 [00:11<00:00, 196.33it/s]\n",
      "100%|█████████████████████████████████████████████████████████████████████████████| 4764/4764 [00:05<00:00, 798.69it/s]\n",
      "100%|█████████████████████████████████████████████████████████████████████████████| 2334/2334 [00:11<00:00, 201.51it/s]\n",
      "100%|█████████████████████████████████████████████████████████████████████████████| 4764/4764 [00:05<00:00, 902.93it/s]\n"
     ]
    },
    {
     "name": "stdout",
     "output_type": "stream",
     "text": [
      "Accuracy: 0.7055836897483666\n",
      "Recall: 0.9176985482493595\n",
      "Precision: 0.2840387220405062\n",
      "F1-score: 0.43380850258609815\n",
      "Balanced-Accuracy-Score: 0.7967796896570338\n",
      "\n",
      "[hidden_sizes = [32, 16]][dropout_prob = 0.0027825594022071257]\n"
     ]
    },
    {
     "name": "stderr",
     "output_type": "stream",
     "text": [
      "100%|█████████████████████████████████████████████████████████████████████████████| 2334/2334 [00:11<00:00, 195.65it/s]\n",
      "100%|█████████████████████████████████████████████████████████████████████████████| 4764/4764 [00:05<00:00, 812.32it/s]\n",
      "100%|█████████████████████████████████████████████████████████████████████████████| 2334/2334 [00:12<00:00, 193.80it/s]\n",
      "100%|█████████████████████████████████████████████████████████████████████████████| 4764/4764 [00:05<00:00, 823.20it/s]\n",
      "100%|█████████████████████████████████████████████████████████████████████████████| 2334/2334 [00:12<00:00, 192.36it/s]\n",
      "100%|█████████████████████████████████████████████████████████████████████████████| 4764/4764 [00:05<00:00, 846.41it/s]\n",
      "100%|█████████████████████████████████████████████████████████████████████████████| 2334/2334 [00:11<00:00, 204.02it/s]\n",
      "100%|█████████████████████████████████████████████████████████████████████████████| 4764/4764 [00:05<00:00, 812.26it/s]\n",
      "100%|█████████████████████████████████████████████████████████████████████████████| 2334/2334 [00:12<00:00, 191.34it/s]\n",
      "100%|█████████████████████████████████████████████████████████████████████████████| 4764/4764 [00:05<00:00, 827.34it/s]\n"
     ]
    },
    {
     "name": "stdout",
     "output_type": "stream",
     "text": [
      "Accuracy: 0.6773766104274357\n",
      "Recall: 0.9499359521776259\n",
      "Precision: 0.26949516974046817\n",
      "F1-score: 0.4198730802802614\n",
      "Balanced-Accuracy-Score: 0.7945599227187827\n",
      "\n",
      "[hidden_sizes = [32, 16]][dropout_prob = 0.004641588833612777]\n"
     ]
    },
    {
     "name": "stderr",
     "output_type": "stream",
     "text": [
      "100%|█████████████████████████████████████████████████████████████████████████████| 2334/2334 [00:12<00:00, 193.81it/s]\n",
      "100%|█████████████████████████████████████████████████████████████████████████████| 4764/4764 [00:05<00:00, 848.79it/s]\n",
      "100%|█████████████████████████████████████████████████████████████████████████████| 2334/2334 [00:11<00:00, 203.84it/s]\n",
      "100%|█████████████████████████████████████████████████████████████████████████████| 4764/4764 [00:05<00:00, 893.44it/s]\n",
      "100%|█████████████████████████████████████████████████████████████████████████████| 2334/2334 [00:11<00:00, 195.81it/s]\n",
      "100%|█████████████████████████████████████████████████████████████████████████████| 4764/4764 [00:05<00:00, 830.37it/s]\n",
      "100%|█████████████████████████████████████████████████████████████████████████████| 2334/2334 [00:11<00:00, 200.69it/s]\n",
      "100%|█████████████████████████████████████████████████████████████████████████████| 4764/4764 [00:05<00:00, 903.67it/s]\n",
      "100%|█████████████████████████████████████████████████████████████████████████████| 2334/2334 [00:12<00:00, 194.14it/s]\n",
      "100%|█████████████████████████████████████████████████████████████████████████████| 4764/4764 [00:05<00:00, 875.54it/s]\n"
     ]
    },
    {
     "name": "stdout",
     "output_type": "stream",
     "text": [
      "Accuracy: 0.7046259610086327\n",
      "Recall: 0.9182322801024765\n",
      "Precision: 0.28342668863261944\n",
      "F1-score: 0.43315373382345534\n",
      "Balanced-Accuracy-Score: 0.7964631948273175\n",
      "\n",
      "[hidden_sizes = [32, 16]][dropout_prob = 0.007742636826811269]\n"
     ]
    },
    {
     "name": "stderr",
     "output_type": "stream",
     "text": [
      "100%|█████████████████████████████████████████████████████████████████████████████| 2334/2334 [00:11<00:00, 207.53it/s]\n",
      "100%|█████████████████████████████████████████████████████████████████████████████| 4764/4764 [00:05<00:00, 821.12it/s]\n",
      "100%|█████████████████████████████████████████████████████████████████████████████| 2334/2334 [00:11<00:00, 198.02it/s]\n",
      "100%|█████████████████████████████████████████████████████████████████████████████| 4764/4764 [00:05<00:00, 813.79it/s]\n",
      "100%|█████████████████████████████████████████████████████████████████████████████| 2334/2334 [00:11<00:00, 198.49it/s]\n",
      "100%|█████████████████████████████████████████████████████████████████████████████| 4764/4764 [00:05<00:00, 823.70it/s]\n",
      "100%|█████████████████████████████████████████████████████████████████████████████| 2334/2334 [00:11<00:00, 205.29it/s]\n",
      "100%|█████████████████████████████████████████████████████████████████████████████| 4764/4764 [00:05<00:00, 841.06it/s]\n",
      "100%|█████████████████████████████████████████████████████████████████████████████| 2334/2334 [00:11<00:00, 195.35it/s]\n",
      "100%|█████████████████████████████████████████████████████████████████████████████| 4764/4764 [00:05<00:00, 828.45it/s]\n"
     ]
    },
    {
     "name": "stdout",
     "output_type": "stream",
     "text": [
      "Accuracy: 0.7079845713835901\n",
      "Recall: 0.9169513236549958\n",
      "Precision: 0.28566677751912206\n",
      "F1-score: 0.43562046756934936\n",
      "Balanced-Accuracy-Score: 0.7978270843302651\n",
      "\n",
      "[hidden_sizes = [32, 16]][dropout_prob = 0.01291549665014884]\n"
     ]
    },
    {
     "name": "stderr",
     "output_type": "stream",
     "text": [
      "100%|█████████████████████████████████████████████████████████████████████████████| 2334/2334 [00:12<00:00, 192.69it/s]\n",
      "100%|█████████████████████████████████████████████████████████████████████████████| 4764/4764 [00:05<00:00, 805.12it/s]\n",
      "100%|█████████████████████████████████████████████████████████████████████████████| 2334/2334 [00:11<00:00, 198.73it/s]\n",
      "100%|█████████████████████████████████████████████████████████████████████████████| 4764/4764 [00:05<00:00, 859.07it/s]\n",
      "100%|█████████████████████████████████████████████████████████████████████████████| 2334/2334 [00:11<00:00, 197.85it/s]\n",
      "100%|█████████████████████████████████████████████████████████████████████████████| 4764/4764 [00:05<00:00, 833.22it/s]\n",
      "100%|█████████████████████████████████████████████████████████████████████████████| 2334/2334 [00:12<00:00, 193.16it/s]\n",
      "100%|█████████████████████████████████████████████████████████████████████████████| 4764/4764 [00:05<00:00, 822.45it/s]\n",
      "100%|█████████████████████████████████████████████████████████████████████████████| 2334/2334 [00:12<00:00, 193.02it/s]\n",
      "100%|█████████████████████████████████████████████████████████████████████████████| 4764/4764 [00:05<00:00, 830.27it/s]\n"
     ]
    },
    {
     "name": "stdout",
     "output_type": "stream",
     "text": [
      "Accuracy: 0.7002571436068327\n",
      "Recall: 0.9251707941929974\n",
      "Precision: 0.2812773829227923\n",
      "F1-score: 0.43139792439212565\n",
      "Balanced-Accuracy-Score: 0.7969558162187651\n",
      "\n",
      "[hidden_sizes = [32, 16]][dropout_prob = 0.021544346900318832]\n"
     ]
    },
    {
     "name": "stderr",
     "output_type": "stream",
     "text": [
      "100%|█████████████████████████████████████████████████████████████████████████████| 2334/2334 [00:11<00:00, 203.13it/s]\n",
      "100%|█████████████████████████████████████████████████████████████████████████████| 4764/4764 [00:05<00:00, 814.66it/s]\n",
      "100%|█████████████████████████████████████████████████████████████████████████████| 2334/2334 [00:12<00:00, 194.28it/s]\n",
      "100%|█████████████████████████████████████████████████████████████████████████████| 4764/4764 [00:05<00:00, 843.98it/s]\n",
      "100%|█████████████████████████████████████████████████████████████████████████████| 2334/2334 [00:12<00:00, 193.05it/s]\n",
      "100%|█████████████████████████████████████████████████████████████████████████████| 4764/4764 [00:05<00:00, 795.40it/s]\n",
      "100%|█████████████████████████████████████████████████████████████████████████████| 2334/2334 [00:11<00:00, 198.74it/s]\n",
      "100%|█████████████████████████████████████████████████████████████████████████████| 4764/4764 [00:05<00:00, 853.11it/s]\n",
      "100%|█████████████████████████████████████████████████████████████████████████████| 2334/2334 [00:12<00:00, 192.65it/s]\n",
      "100%|█████████████████████████████████████████████████████████████████████████████| 4764/4764 [00:05<00:00, 823.50it/s]\n"
     ]
    },
    {
     "name": "stdout",
     "output_type": "stream",
     "text": [
      "Accuracy: 0.6840019941749101\n",
      "Recall: 0.945132365499573\n",
      "Precision: 0.27305248874360083\n",
      "F1-score: 0.4236971814136\n",
      "Balanced-Accuracy-Score: 0.7962715706098996\n",
      "\n",
      "[hidden_sizes = [32, 16]][dropout_prob = 0.03593813663804626]\n"
     ]
    },
    {
     "name": "stderr",
     "output_type": "stream",
     "text": [
      "100%|█████████████████████████████████████████████████████████████████████████████| 2334/2334 [00:12<00:00, 190.95it/s]\n",
      "100%|█████████████████████████████████████████████████████████████████████████████| 4764/4764 [00:05<00:00, 825.30it/s]\n",
      "100%|█████████████████████████████████████████████████████████████████████████████| 2334/2334 [00:12<00:00, 193.40it/s]\n",
      "100%|█████████████████████████████████████████████████████████████████████████████| 4764/4764 [00:05<00:00, 870.55it/s]\n",
      "100%|█████████████████████████████████████████████████████████████████████████████| 2334/2334 [00:11<00:00, 199.81it/s]\n",
      "100%|█████████████████████████████████████████████████████████████████████████████| 4764/4764 [00:05<00:00, 814.32it/s]\n",
      "100%|█████████████████████████████████████████████████████████████████████████████| 2334/2334 [00:12<00:00, 193.70it/s]\n",
      "100%|█████████████████████████████████████████████████████████████████████████████| 4764/4764 [00:05<00:00, 832.30it/s]\n",
      "100%|█████████████████████████████████████████████████████████████████████████████| 2334/2334 [00:11<00:00, 195.16it/s]\n",
      "100%|█████████████████████████████████████████████████████████████████████████████| 4764/4764 [00:05<00:00, 839.10it/s]\n"
     ]
    },
    {
     "name": "stdout",
     "output_type": "stream",
     "text": [
      "Accuracy: 0.6960195219228045\n",
      "Recall: 0.9321093082835183\n",
      "Precision: 0.2792810081238406\n",
      "F1-score: 0.4297878623812571\n",
      "Balanced-Accuracy-Score: 0.7975232274507609\n",
      "\n",
      "[hidden_sizes = [32, 16]][dropout_prob = 0.05994842503189409]\n"
     ]
    },
    {
     "name": "stderr",
     "output_type": "stream",
     "text": [
      "100%|█████████████████████████████████████████████████████████████████████████████| 2334/2334 [00:11<00:00, 204.57it/s]\n",
      "100%|█████████████████████████████████████████████████████████████████████████████| 4764/4764 [00:05<00:00, 829.08it/s]\n",
      "100%|█████████████████████████████████████████████████████████████████████████████| 2334/2334 [00:12<00:00, 192.90it/s]\n",
      "100%|█████████████████████████████████████████████████████████████████████████████| 4764/4764 [00:05<00:00, 827.73it/s]\n",
      "100%|█████████████████████████████████████████████████████████████████████████████| 2334/2334 [00:11<00:00, 195.12it/s]\n",
      "100%|█████████████████████████████████████████████████████████████████████████████| 4764/4764 [00:05<00:00, 840.64it/s]\n",
      "100%|█████████████████████████████████████████████████████████████████████████████| 2334/2334 [00:12<00:00, 193.55it/s]\n",
      "100%|█████████████████████████████████████████████████████████████████████████████| 4764/4764 [00:05<00:00, 935.36it/s]\n",
      "100%|█████████████████████████████████████████████████████████████████████████████| 2334/2334 [00:11<00:00, 204.28it/s]\n",
      "100%|█████████████████████████████████████████████████████████████████████████████| 4764/4764 [00:05<00:00, 808.25it/s]\n"
     ]
    },
    {
     "name": "stdout",
     "output_type": "stream",
     "text": [
      "Accuracy: 0.7069612447849702\n",
      "Recall: 0.9173783091374893\n",
      "Precision: 0.2849847459875315\n",
      "F1-score: 0.43487501265054146\n",
      "Balanced-Accuracy-Score: 0.7974273003790178\n",
      "\n",
      "[hidden_sizes = [32, 16]][dropout_prob = 0.1]\n"
     ]
    },
    {
     "name": "stderr",
     "output_type": "stream",
     "text": [
      "100%|█████████████████████████████████████████████████████████████████████████████| 2334/2334 [00:11<00:00, 194.86it/s]\n",
      "100%|█████████████████████████████████████████████████████████████████████████████| 4764/4764 [00:04<00:00, 995.07it/s]\n",
      "100%|█████████████████████████████████████████████████████████████████████████████| 2334/2334 [00:11<00:00, 195.47it/s]\n",
      "100%|█████████████████████████████████████████████████████████████████████████████| 4764/4764 [00:05<00:00, 820.93it/s]\n",
      "100%|█████████████████████████████████████████████████████████████████████████████| 2334/2334 [00:11<00:00, 203.17it/s]\n",
      "100%|█████████████████████████████████████████████████████████████████████████████| 4764/4764 [00:05<00:00, 803.86it/s]\n",
      "100%|█████████████████████████████████████████████████████████████████████████████| 2334/2334 [00:12<00:00, 192.75it/s]\n",
      "100%|█████████████████████████████████████████████████████████████████████████████| 4764/4764 [00:05<00:00, 861.17it/s]\n",
      "100%|█████████████████████████████████████████████████████████████████████████████| 2334/2334 [00:12<00:00, 193.82it/s]\n",
      "100%|█████████████████████████████████████████████████████████████████████████████| 4764/4764 [00:05<00:00, 846.59it/s]\n"
     ]
    },
    {
     "name": "stdout",
     "output_type": "stream",
     "text": [
      "Accuracy: 0.709165332843536\n",
      "Recall: 0.9140691716481639\n",
      "Precision: 0.28613914321994255\n",
      "F1-score: 0.43584262228330023\n",
      "Balanced-Accuracy-Score: 0.7972610494612615\n"
     ]
    }
   ],
   "source": [
    "# Settings for the training of FFN\n",
    "input_size = X_train_tensor.shape[1]\n",
    "hidden_sizes = [64, 32]\n",
    "dropout_prob = 0.1\n",
    "\n",
    "results = np.zeros((40, 11))\n",
    "k = 0\n",
    "for hidden_size_1 in [64, 32]:\n",
    "    for hidden_size_2 in [32, 16]:\n",
    "        for dropout_prob in np.logspace(-3, -1, 10):\n",
    "            hidden_sizes = [hidden_size_1, hidden_size_2]\n",
    "            ffn_model = FeedForwardNet(input_size, hidden_sizes, dropout_prob)\n",
    "            ffn_optimizer = optim.Adam(ffn_model.parameters(), lr=learning_rate)\n",
    "            print(f\"\\n[hidden_sizes = {hidden_sizes}][dropout_prob = {dropout_prob}]\")\n",
    "            for epoch in range(num_epochs):\n",
    "                # makes one pass over the train data and updates weights\n",
    "                train(ffn_model, train_loader, criterion, ffn_optimizer, epoch, num_epochs)\n",
    "\n",
    "                # makes one pass over validation data and provides validation statistics\n",
    "                val_loss, val_acc = validation(ffn_model, val_loader, criterion)\n",
    "                \n",
    "            ffn_model.eval()\n",
    "            with torch.no_grad():\n",
    "                y_ffn = ffn_model(X_test_tensor)\n",
    "\n",
    "            tn, fp, fn, tp = confusion_matrix(y_test, y_ffn.round()).ravel()\n",
    "            acc = accuracy_score(y_test, y_ffn.round())\n",
    "            rec = recall_score(y_test, y_ffn.round())\n",
    "            pre = precision_score(y_test, y_ffn.round())\n",
    "            f1 = f1_score(y_test, y_ffn.round())\n",
    "            \n",
    "            results[k] = hidden_size_1, hidden_size_2, dropout_prob, tn, fp, fn, tp, acc, rec, pre, f1\n",
    "            print_metrics(y_test, y_ffn.round())\n",
    "            \n",
    "            k += 1\n",
    "results = pd.DataFrame(results, columns=['hidden_size_1', 'hidden_size_2', 'dropout_prob', 'tn', 'fp', 'fn', 'tp', 'acc', 'rec', 'pre', 'f1']).sort_values(by='f1', ascending=False)"
   ]
  },
  {
   "cell_type": "code",
   "execution_count": 25,
   "id": "9f2bb194",
   "metadata": {},
   "outputs": [],
   "source": [
    "hidden_sizes=[64,32]\n",
    "dropout_prob=0.1\n",
    "input_size=10"
   ]
  },
  {
   "cell_type": "code",
   "execution_count": 26,
   "id": "5bddd3e8",
   "metadata": {},
   "outputs": [
    {
     "name": "stderr",
     "output_type": "stream",
     "text": [
      "100%|█████████████████████████████████████████████████████████████████████████████| 2327/2327 [00:07<00:00, 318.09it/s]\n",
      "100%|████████████████████████████████████████████████████████████████████████████| 4764/4764 [00:04<00:00, 1145.98it/s]\n",
      "100%|█████████████████████████████████████████████████████████████████████████████| 2327/2327 [00:09<00:00, 236.60it/s]\n",
      "100%|████████████████████████████████████████████████████████████████████████████| 4764/4764 [00:04<00:00, 1166.91it/s]\n",
      "100%|█████████████████████████████████████████████████████████████████████████████| 2327/2327 [00:07<00:00, 300.29it/s]\n",
      "100%|████████████████████████████████████████████████████████████████████████████| 4764/4764 [00:03<00:00, 1262.25it/s]\n",
      "100%|█████████████████████████████████████████████████████████████████████████████| 2327/2327 [00:06<00:00, 349.04it/s]\n",
      "100%|████████████████████████████████████████████████████████████████████████████| 4764/4764 [00:03<00:00, 1268.06it/s]\n",
      "100%|█████████████████████████████████████████████████████████████████████████████| 2327/2327 [00:07<00:00, 310.70it/s]\n",
      "100%|████████████████████████████████████████████████████████████████████████████| 4764/4764 [00:03<00:00, 1220.12it/s]\n"
     ]
    },
    {
     "ename": "NameError",
     "evalue": "name 'balanced_acurracy_score' is not defined",
     "output_type": "error",
     "traceback": [
      "\u001b[1;31m---------------------------------------------------------------------------\u001b[0m",
      "\u001b[1;31mNameError\u001b[0m                                 Traceback (most recent call last)",
      "Cell \u001b[1;32mIn[26], line 24\u001b[0m\n\u001b[0;32m     22\u001b[0m pre \u001b[38;5;241m=\u001b[39m precision_score(y_test, y_ffn\u001b[38;5;241m.\u001b[39mround())\n\u001b[0;32m     23\u001b[0m f1 \u001b[38;5;241m=\u001b[39m f1_score(y_test, y_ffn\u001b[38;5;241m.\u001b[39mround())\n\u001b[1;32m---> 24\u001b[0m balanced\u001b[38;5;241m=\u001b[39m\u001b[43mbalanced_acurracy_score\u001b[49m(y_test,y_ffn\u001b[38;5;241m.\u001b[39mround())\n\u001b[0;32m     27\u001b[0m \u001b[38;5;28mprint\u001b[39m(\u001b[38;5;124m\"\u001b[39m\u001b[38;5;124m--- Metrics for the Neural Network ---\u001b[39m\u001b[38;5;124m\"\u001b[39m)\n\u001b[0;32m     28\u001b[0m \u001b[38;5;28mprint\u001b[39m(\u001b[38;5;124mf\u001b[39m\u001b[38;5;124m'\u001b[39m\u001b[38;5;124mtn = \u001b[39m\u001b[38;5;132;01m{\u001b[39;00mtn\u001b[38;5;132;01m}\u001b[39;00m\u001b[38;5;124m, fp = \u001b[39m\u001b[38;5;132;01m{\u001b[39;00mfp\u001b[38;5;132;01m}\u001b[39;00m\u001b[38;5;124m, fn = \u001b[39m\u001b[38;5;132;01m{\u001b[39;00mfn\u001b[38;5;132;01m}\u001b[39;00m\u001b[38;5;124m, tp = \u001b[39m\u001b[38;5;132;01m{\u001b[39;00mtp\u001b[38;5;132;01m}\u001b[39;00m\u001b[38;5;124m'\u001b[39m)\n",
      "\u001b[1;31mNameError\u001b[0m: name 'balanced_acurracy_score' is not defined"
     ]
    }
   ],
   "source": [
    "#best_params = results.iloc[0]\n",
    "#hidden_sizes = [best_params['hidden_size_1'].astype(int), best_params['hidden_size_2'].astype(int)]\n",
    "#dropout_prob = best_params['dropout_prob']\n",
    "\n",
    "ffn_model = FeedForwardNet(input_size, hidden_sizes, dropout_prob)\n",
    "ffn_optimizer = optim.Adam(ffn_model.parameters(), lr=learning_rate)\n",
    "\n",
    "for epoch in range(num_epochs):\n",
    "    # makes one pass over the train data and updates weights\n",
    "    train(ffn_model, train_loader, criterion, ffn_optimizer, epoch, num_epochs)\n",
    "\n",
    "    # makes one pass over validation data and provides validation statistics\n",
    "    val_loss, val_acc = validation(ffn_model, val_loader, criterion)\n",
    "\n",
    "ffn_model.eval()\n",
    "with torch.no_grad():\n",
    "    y_ffn = ffn_model(X_test_tensor)\n",
    "\n",
    "tn, fp, fn, tp = confusion_matrix(y_test, y_ffn.round()).ravel()\n",
    "acc = accuracy_score(y_test, y_ffn.round())\n",
    "rec = recall_score(y_test, y_ffn.round())\n",
    "pre = precision_score(y_test, y_ffn.round())\n",
    "f1 = f1_score(y_test, y_ffn.round())\n",
    "balanced=balanced_acurracy_score(y_test,y_ffn.round())\n",
    "\n",
    "\n",
    "print(\"--- Metrics for the Neural Network ---\")\n",
    "print(f'tn = {tn}, fp = {fp}, fn = {fn}, tp = {tp}')\n",
    "print_metrics(y_test, y_ffn.round())"
   ]
  },
  {
   "cell_type": "code",
   "execution_count": 52,
   "id": "ec4dd010",
   "metadata": {},
   "outputs": [
    {
     "data": {
      "text/html": [
       "<div>\n",
       "<style scoped>\n",
       "    .dataframe tbody tr th:only-of-type {\n",
       "        vertical-align: middle;\n",
       "    }\n",
       "\n",
       "    .dataframe tbody tr th {\n",
       "        vertical-align: top;\n",
       "    }\n",
       "\n",
       "    .dataframe thead th {\n",
       "        text-align: right;\n",
       "    }\n",
       "</style>\n",
       "<table border=\"1\" class=\"dataframe\">\n",
       "  <thead>\n",
       "    <tr style=\"text-align: right;\">\n",
       "      <th></th>\n",
       "      <th>hidden_size_1</th>\n",
       "      <th>hidden_size_2</th>\n",
       "      <th>dropout_prob</th>\n",
       "      <th>tn</th>\n",
       "      <th>fp</th>\n",
       "      <th>fn</th>\n",
       "      <th>tp</th>\n",
       "      <th>acc</th>\n",
       "      <th>rec</th>\n",
       "      <th>pre</th>\n",
       "      <th>f1</th>\n",
       "    </tr>\n",
       "  </thead>\n",
       "  <tbody>\n",
       "    <tr>\n",
       "      <th>17</th>\n",
       "      <td>64.0</td>\n",
       "      <td>16.0</td>\n",
       "      <td>0.035938</td>\n",
       "      <td>45677.0</td>\n",
       "      <td>21177.0</td>\n",
       "      <td>830.0</td>\n",
       "      <td>8538.0</td>\n",
       "      <td>0.711278</td>\n",
       "      <td>0.911401</td>\n",
       "      <td>0.287330</td>\n",
       "      <td>0.436916</td>\n",
       "    </tr>\n",
       "    <tr>\n",
       "      <th>4</th>\n",
       "      <td>64.0</td>\n",
       "      <td>32.0</td>\n",
       "      <td>0.007743</td>\n",
       "      <td>45815.0</td>\n",
       "      <td>21039.0</td>\n",
       "      <td>876.0</td>\n",
       "      <td>8492.0</td>\n",
       "      <td>0.712485</td>\n",
       "      <td>0.906490</td>\n",
       "      <td>0.287562</td>\n",
       "      <td>0.436618</td>\n",
       "    </tr>\n",
       "    <tr>\n",
       "      <th>13</th>\n",
       "      <td>64.0</td>\n",
       "      <td>16.0</td>\n",
       "      <td>0.004642</td>\n",
       "      <td>45791.0</td>\n",
       "      <td>21063.0</td>\n",
       "      <td>884.0</td>\n",
       "      <td>8484.0</td>\n",
       "      <td>0.712065</td>\n",
       "      <td>0.905636</td>\n",
       "      <td>0.287136</td>\n",
       "      <td>0.436027</td>\n",
       "    </tr>\n",
       "    <tr>\n",
       "      <th>23</th>\n",
       "      <td>32.0</td>\n",
       "      <td>32.0</td>\n",
       "      <td>0.004642</td>\n",
       "      <td>45479.0</td>\n",
       "      <td>21375.0</td>\n",
       "      <td>801.0</td>\n",
       "      <td>8567.0</td>\n",
       "      <td>0.709060</td>\n",
       "      <td>0.914496</td>\n",
       "      <td>0.286120</td>\n",
       "      <td>0.435869</td>\n",
       "    </tr>\n",
       "    <tr>\n",
       "      <th>39</th>\n",
       "      <td>32.0</td>\n",
       "      <td>16.0</td>\n",
       "      <td>0.100000</td>\n",
       "      <td>45491.0</td>\n",
       "      <td>21363.0</td>\n",
       "      <td>805.0</td>\n",
       "      <td>8563.0</td>\n",
       "      <td>0.709165</td>\n",
       "      <td>0.914069</td>\n",
       "      <td>0.286139</td>\n",
       "      <td>0.435843</td>\n",
       "    </tr>\n",
       "    <tr>\n",
       "      <th>34</th>\n",
       "      <td>32.0</td>\n",
       "      <td>16.0</td>\n",
       "      <td>0.007743</td>\n",
       "      <td>45374.0</td>\n",
       "      <td>21480.0</td>\n",
       "      <td>778.0</td>\n",
       "      <td>8590.0</td>\n",
       "      <td>0.707985</td>\n",
       "      <td>0.916951</td>\n",
       "      <td>0.285667</td>\n",
       "      <td>0.435620</td>\n",
       "    </tr>\n",
       "    <tr>\n",
       "      <th>38</th>\n",
       "      <td>32.0</td>\n",
       "      <td>16.0</td>\n",
       "      <td>0.059948</td>\n",
       "      <td>45292.0</td>\n",
       "      <td>21562.0</td>\n",
       "      <td>774.0</td>\n",
       "      <td>8594.0</td>\n",
       "      <td>0.706961</td>\n",
       "      <td>0.917378</td>\n",
       "      <td>0.284985</td>\n",
       "      <td>0.434875</td>\n",
       "    </tr>\n",
       "    <tr>\n",
       "      <th>22</th>\n",
       "      <td>32.0</td>\n",
       "      <td>32.0</td>\n",
       "      <td>0.002783</td>\n",
       "      <td>45231.0</td>\n",
       "      <td>21623.0</td>\n",
       "      <td>765.0</td>\n",
       "      <td>8603.0</td>\n",
       "      <td>0.706279</td>\n",
       "      <td>0.918339</td>\n",
       "      <td>0.284623</td>\n",
       "      <td>0.434561</td>\n",
       "    </tr>\n",
       "    <tr>\n",
       "      <th>9</th>\n",
       "      <td>64.0</td>\n",
       "      <td>32.0</td>\n",
       "      <td>0.100000</td>\n",
       "      <td>45224.0</td>\n",
       "      <td>21630.0</td>\n",
       "      <td>767.0</td>\n",
       "      <td>8601.0</td>\n",
       "      <td>0.706161</td>\n",
       "      <td>0.918126</td>\n",
       "      <td>0.284509</td>\n",
       "      <td>0.434405</td>\n",
       "    </tr>\n",
       "    <tr>\n",
       "      <th>3</th>\n",
       "      <td>64.0</td>\n",
       "      <td>32.0</td>\n",
       "      <td>0.004642</td>\n",
       "      <td>45096.0</td>\n",
       "      <td>21758.0</td>\n",
       "      <td>741.0</td>\n",
       "      <td>8627.0</td>\n",
       "      <td>0.704823</td>\n",
       "      <td>0.920901</td>\n",
       "      <td>0.283923</td>\n",
       "      <td>0.434030</td>\n",
       "    </tr>\n",
       "    <tr>\n",
       "      <th>31</th>\n",
       "      <td>32.0</td>\n",
       "      <td>16.0</td>\n",
       "      <td>0.001668</td>\n",
       "      <td>45184.0</td>\n",
       "      <td>21670.0</td>\n",
       "      <td>771.0</td>\n",
       "      <td>8597.0</td>\n",
       "      <td>0.705584</td>\n",
       "      <td>0.917699</td>\n",
       "      <td>0.284039</td>\n",
       "      <td>0.433809</td>\n",
       "    </tr>\n",
       "    <tr>\n",
       "      <th>14</th>\n",
       "      <td>64.0</td>\n",
       "      <td>16.0</td>\n",
       "      <td>0.007743</td>\n",
       "      <td>45022.0</td>\n",
       "      <td>21832.0</td>\n",
       "      <td>727.0</td>\n",
       "      <td>8641.0</td>\n",
       "      <td>0.704036</td>\n",
       "      <td>0.922395</td>\n",
       "      <td>0.283562</td>\n",
       "      <td>0.433774</td>\n",
       "    </tr>\n",
       "    <tr>\n",
       "      <th>2</th>\n",
       "      <td>64.0</td>\n",
       "      <td>32.0</td>\n",
       "      <td>0.002783</td>\n",
       "      <td>45178.0</td>\n",
       "      <td>21676.0</td>\n",
       "      <td>772.0</td>\n",
       "      <td>8596.0</td>\n",
       "      <td>0.705492</td>\n",
       "      <td>0.917592</td>\n",
       "      <td>0.283959</td>\n",
       "      <td>0.433703</td>\n",
       "    </tr>\n",
       "    <tr>\n",
       "      <th>33</th>\n",
       "      <td>32.0</td>\n",
       "      <td>16.0</td>\n",
       "      <td>0.004642</td>\n",
       "      <td>45106.0</td>\n",
       "      <td>21748.0</td>\n",
       "      <td>766.0</td>\n",
       "      <td>8602.0</td>\n",
       "      <td>0.704626</td>\n",
       "      <td>0.918232</td>\n",
       "      <td>0.283427</td>\n",
       "      <td>0.433154</td>\n",
       "    </tr>\n",
       "    <tr>\n",
       "      <th>26</th>\n",
       "      <td>32.0</td>\n",
       "      <td>32.0</td>\n",
       "      <td>0.021544</td>\n",
       "      <td>44993.0</td>\n",
       "      <td>21861.0</td>\n",
       "      <td>736.0</td>\n",
       "      <td>8632.0</td>\n",
       "      <td>0.703537</td>\n",
       "      <td>0.921435</td>\n",
       "      <td>0.283081</td>\n",
       "      <td>0.433105</td>\n",
       "    </tr>\n",
       "    <tr>\n",
       "      <th>10</th>\n",
       "      <td>64.0</td>\n",
       "      <td>16.0</td>\n",
       "      <td>0.001000</td>\n",
       "      <td>44921.0</td>\n",
       "      <td>21933.0</td>\n",
       "      <td>720.0</td>\n",
       "      <td>8648.0</td>\n",
       "      <td>0.702802</td>\n",
       "      <td>0.923143</td>\n",
       "      <td>0.282790</td>\n",
       "      <td>0.432952</td>\n",
       "    </tr>\n",
       "    <tr>\n",
       "      <th>21</th>\n",
       "      <td>32.0</td>\n",
       "      <td>32.0</td>\n",
       "      <td>0.001668</td>\n",
       "      <td>44977.0</td>\n",
       "      <td>21877.0</td>\n",
       "      <td>741.0</td>\n",
       "      <td>8627.0</td>\n",
       "      <td>0.703262</td>\n",
       "      <td>0.920901</td>\n",
       "      <td>0.282815</td>\n",
       "      <td>0.432735</td>\n",
       "    </tr>\n",
       "    <tr>\n",
       "      <th>6</th>\n",
       "      <td>64.0</td>\n",
       "      <td>32.0</td>\n",
       "      <td>0.021544</td>\n",
       "      <td>44838.0</td>\n",
       "      <td>22016.0</td>\n",
       "      <td>717.0</td>\n",
       "      <td>8651.0</td>\n",
       "      <td>0.701753</td>\n",
       "      <td>0.923463</td>\n",
       "      <td>0.282095</td>\n",
       "      <td>0.432172</td>\n",
       "    </tr>\n",
       "    <tr>\n",
       "      <th>11</th>\n",
       "      <td>64.0</td>\n",
       "      <td>16.0</td>\n",
       "      <td>0.001668</td>\n",
       "      <td>44746.0</td>\n",
       "      <td>22108.0</td>\n",
       "      <td>702.0</td>\n",
       "      <td>8666.0</td>\n",
       "      <td>0.700743</td>\n",
       "      <td>0.925064</td>\n",
       "      <td>0.281601</td>\n",
       "      <td>0.431767</td>\n",
       "    </tr>\n",
       "    <tr>\n",
       "      <th>35</th>\n",
       "      <td>32.0</td>\n",
       "      <td>16.0</td>\n",
       "      <td>0.012915</td>\n",
       "      <td>44708.0</td>\n",
       "      <td>22146.0</td>\n",
       "      <td>701.0</td>\n",
       "      <td>8667.0</td>\n",
       "      <td>0.700257</td>\n",
       "      <td>0.925171</td>\n",
       "      <td>0.281277</td>\n",
       "      <td>0.431398</td>\n",
       "    </tr>\n",
       "    <tr>\n",
       "      <th>18</th>\n",
       "      <td>64.0</td>\n",
       "      <td>16.0</td>\n",
       "      <td>0.059948</td>\n",
       "      <td>44675.0</td>\n",
       "      <td>22179.0</td>\n",
       "      <td>699.0</td>\n",
       "      <td>8669.0</td>\n",
       "      <td>0.699850</td>\n",
       "      <td>0.925384</td>\n",
       "      <td>0.281023</td>\n",
       "      <td>0.431122</td>\n",
       "    </tr>\n",
       "    <tr>\n",
       "      <th>5</th>\n",
       "      <td>64.0</td>\n",
       "      <td>32.0</td>\n",
       "      <td>0.012915</td>\n",
       "      <td>44628.0</td>\n",
       "      <td>22226.0</td>\n",
       "      <td>689.0</td>\n",
       "      <td>8679.0</td>\n",
       "      <td>0.699365</td>\n",
       "      <td>0.926452</td>\n",
       "      <td>0.280828</td>\n",
       "      <td>0.431008</td>\n",
       "    </tr>\n",
       "    <tr>\n",
       "      <th>28</th>\n",
       "      <td>32.0</td>\n",
       "      <td>32.0</td>\n",
       "      <td>0.059948</td>\n",
       "      <td>44581.0</td>\n",
       "      <td>22273.0</td>\n",
       "      <td>690.0</td>\n",
       "      <td>8678.0</td>\n",
       "      <td>0.698735</td>\n",
       "      <td>0.926345</td>\n",
       "      <td>0.280379</td>\n",
       "      <td>0.430467</td>\n",
       "    </tr>\n",
       "    <tr>\n",
       "      <th>25</th>\n",
       "      <td>32.0</td>\n",
       "      <td>32.0</td>\n",
       "      <td>0.012915</td>\n",
       "      <td>44469.0</td>\n",
       "      <td>22385.0</td>\n",
       "      <td>661.0</td>\n",
       "      <td>8707.0</td>\n",
       "      <td>0.697646</td>\n",
       "      <td>0.929441</td>\n",
       "      <td>0.280040</td>\n",
       "      <td>0.430400</td>\n",
       "    </tr>\n",
       "    <tr>\n",
       "      <th>37</th>\n",
       "      <td>32.0</td>\n",
       "      <td>16.0</td>\n",
       "      <td>0.035938</td>\n",
       "      <td>44320.0</td>\n",
       "      <td>22534.0</td>\n",
       "      <td>636.0</td>\n",
       "      <td>8732.0</td>\n",
       "      <td>0.696020</td>\n",
       "      <td>0.932109</td>\n",
       "      <td>0.279281</td>\n",
       "      <td>0.429788</td>\n",
       "    </tr>\n",
       "    <tr>\n",
       "      <th>7</th>\n",
       "      <td>64.0</td>\n",
       "      <td>32.0</td>\n",
       "      <td>0.035938</td>\n",
       "      <td>44214.0</td>\n",
       "      <td>22640.0</td>\n",
       "      <td>646.0</td>\n",
       "      <td>8722.0</td>\n",
       "      <td>0.694498</td>\n",
       "      <td>0.931042</td>\n",
       "      <td>0.278107</td>\n",
       "      <td>0.428284</td>\n",
       "    </tr>\n",
       "    <tr>\n",
       "      <th>24</th>\n",
       "      <td>32.0</td>\n",
       "      <td>32.0</td>\n",
       "      <td>0.007743</td>\n",
       "      <td>43872.0</td>\n",
       "      <td>22982.0</td>\n",
       "      <td>579.0</td>\n",
       "      <td>8789.0</td>\n",
       "      <td>0.690890</td>\n",
       "      <td>0.938194</td>\n",
       "      <td>0.276636</td>\n",
       "      <td>0.427283</td>\n",
       "    </tr>\n",
       "    <tr>\n",
       "      <th>20</th>\n",
       "      <td>32.0</td>\n",
       "      <td>32.0</td>\n",
       "      <td>0.001000</td>\n",
       "      <td>43822.0</td>\n",
       "      <td>23032.0</td>\n",
       "      <td>571.0</td>\n",
       "      <td>8797.0</td>\n",
       "      <td>0.690339</td>\n",
       "      <td>0.939048</td>\n",
       "      <td>0.276383</td>\n",
       "      <td>0.427070</td>\n",
       "    </tr>\n",
       "    <tr>\n",
       "      <th>19</th>\n",
       "      <td>64.0</td>\n",
       "      <td>16.0</td>\n",
       "      <td>0.100000</td>\n",
       "      <td>43363.0</td>\n",
       "      <td>23491.0</td>\n",
       "      <td>523.0</td>\n",
       "      <td>8845.0</td>\n",
       "      <td>0.684947</td>\n",
       "      <td>0.944172</td>\n",
       "      <td>0.273534</td>\n",
       "      <td>0.424180</td>\n",
       "    </tr>\n",
       "    <tr>\n",
       "      <th>15</th>\n",
       "      <td>64.0</td>\n",
       "      <td>16.0</td>\n",
       "      <td>0.012915</td>\n",
       "      <td>43292.0</td>\n",
       "      <td>23562.0</td>\n",
       "      <td>511.0</td>\n",
       "      <td>8857.0</td>\n",
       "      <td>0.684173</td>\n",
       "      <td>0.945453</td>\n",
       "      <td>0.273204</td>\n",
       "      <td>0.423912</td>\n",
       "    </tr>\n",
       "    <tr>\n",
       "      <th>36</th>\n",
       "      <td>32.0</td>\n",
       "      <td>16.0</td>\n",
       "      <td>0.021544</td>\n",
       "      <td>43282.0</td>\n",
       "      <td>23572.0</td>\n",
       "      <td>514.0</td>\n",
       "      <td>8854.0</td>\n",
       "      <td>0.684002</td>\n",
       "      <td>0.945132</td>\n",
       "      <td>0.273052</td>\n",
       "      <td>0.423697</td>\n",
       "    </tr>\n",
       "    <tr>\n",
       "      <th>27</th>\n",
       "      <td>32.0</td>\n",
       "      <td>32.0</td>\n",
       "      <td>0.035938</td>\n",
       "      <td>43260.0</td>\n",
       "      <td>23594.0</td>\n",
       "      <td>513.0</td>\n",
       "      <td>8855.0</td>\n",
       "      <td>0.683726</td>\n",
       "      <td>0.945239</td>\n",
       "      <td>0.272890</td>\n",
       "      <td>0.423512</td>\n",
       "    </tr>\n",
       "    <tr>\n",
       "      <th>0</th>\n",
       "      <td>64.0</td>\n",
       "      <td>32.0</td>\n",
       "      <td>0.001000</td>\n",
       "      <td>43129.0</td>\n",
       "      <td>23725.0</td>\n",
       "      <td>486.0</td>\n",
       "      <td>8882.0</td>\n",
       "      <td>0.682362</td>\n",
       "      <td>0.948121</td>\n",
       "      <td>0.272395</td>\n",
       "      <td>0.423204</td>\n",
       "    </tr>\n",
       "    <tr>\n",
       "      <th>16</th>\n",
       "      <td>64.0</td>\n",
       "      <td>16.0</td>\n",
       "      <td>0.021544</td>\n",
       "      <td>43248.0</td>\n",
       "      <td>23606.0</td>\n",
       "      <td>519.0</td>\n",
       "      <td>8849.0</td>\n",
       "      <td>0.683490</td>\n",
       "      <td>0.944599</td>\n",
       "      <td>0.272654</td>\n",
       "      <td>0.423164</td>\n",
       "    </tr>\n",
       "    <tr>\n",
       "      <th>30</th>\n",
       "      <td>32.0</td>\n",
       "      <td>16.0</td>\n",
       "      <td>0.001000</td>\n",
       "      <td>43074.0</td>\n",
       "      <td>23780.0</td>\n",
       "      <td>487.0</td>\n",
       "      <td>8881.0</td>\n",
       "      <td>0.681627</td>\n",
       "      <td>0.948015</td>\n",
       "      <td>0.271915</td>\n",
       "      <td>0.422613</td>\n",
       "    </tr>\n",
       "    <tr>\n",
       "      <th>1</th>\n",
       "      <td>64.0</td>\n",
       "      <td>32.0</td>\n",
       "      <td>0.001668</td>\n",
       "      <td>43091.0</td>\n",
       "      <td>23763.0</td>\n",
       "      <td>512.0</td>\n",
       "      <td>8856.0</td>\n",
       "      <td>0.681522</td>\n",
       "      <td>0.945346</td>\n",
       "      <td>0.271498</td>\n",
       "      <td>0.421845</td>\n",
       "    </tr>\n",
       "    <tr>\n",
       "      <th>8</th>\n",
       "      <td>64.0</td>\n",
       "      <td>32.0</td>\n",
       "      <td>0.059948</td>\n",
       "      <td>42859.0</td>\n",
       "      <td>23995.0</td>\n",
       "      <td>458.0</td>\n",
       "      <td>8910.0</td>\n",
       "      <td>0.679187</td>\n",
       "      <td>0.951110</td>\n",
       "      <td>0.270780</td>\n",
       "      <td>0.421546</td>\n",
       "    </tr>\n",
       "    <tr>\n",
       "      <th>12</th>\n",
       "      <td>64.0</td>\n",
       "      <td>16.0</td>\n",
       "      <td>0.002783</td>\n",
       "      <td>42778.0</td>\n",
       "      <td>24076.0</td>\n",
       "      <td>437.0</td>\n",
       "      <td>8931.0</td>\n",
       "      <td>0.678400</td>\n",
       "      <td>0.953352</td>\n",
       "      <td>0.270579</td>\n",
       "      <td>0.421522</td>\n",
       "    </tr>\n",
       "    <tr>\n",
       "      <th>32</th>\n",
       "      <td>32.0</td>\n",
       "      <td>16.0</td>\n",
       "      <td>0.002783</td>\n",
       "      <td>42732.0</td>\n",
       "      <td>24122.0</td>\n",
       "      <td>469.0</td>\n",
       "      <td>8899.0</td>\n",
       "      <td>0.677377</td>\n",
       "      <td>0.949936</td>\n",
       "      <td>0.269495</td>\n",
       "      <td>0.419873</td>\n",
       "    </tr>\n",
       "    <tr>\n",
       "      <th>29</th>\n",
       "      <td>32.0</td>\n",
       "      <td>32.0</td>\n",
       "      <td>0.100000</td>\n",
       "      <td>42479.0</td>\n",
       "      <td>24375.0</td>\n",
       "      <td>452.0</td>\n",
       "      <td>8916.0</td>\n",
       "      <td>0.674280</td>\n",
       "      <td>0.951751</td>\n",
       "      <td>0.267820</td>\n",
       "      <td>0.418013</td>\n",
       "    </tr>\n",
       "  </tbody>\n",
       "</table>\n",
       "</div>"
      ],
      "text/plain": [
       "    hidden_size_1  hidden_size_2  dropout_prob       tn       fp     fn  \\\n",
       "17           64.0           16.0      0.035938  45677.0  21177.0  830.0   \n",
       "4            64.0           32.0      0.007743  45815.0  21039.0  876.0   \n",
       "13           64.0           16.0      0.004642  45791.0  21063.0  884.0   \n",
       "23           32.0           32.0      0.004642  45479.0  21375.0  801.0   \n",
       "39           32.0           16.0      0.100000  45491.0  21363.0  805.0   \n",
       "34           32.0           16.0      0.007743  45374.0  21480.0  778.0   \n",
       "38           32.0           16.0      0.059948  45292.0  21562.0  774.0   \n",
       "22           32.0           32.0      0.002783  45231.0  21623.0  765.0   \n",
       "9            64.0           32.0      0.100000  45224.0  21630.0  767.0   \n",
       "3            64.0           32.0      0.004642  45096.0  21758.0  741.0   \n",
       "31           32.0           16.0      0.001668  45184.0  21670.0  771.0   \n",
       "14           64.0           16.0      0.007743  45022.0  21832.0  727.0   \n",
       "2            64.0           32.0      0.002783  45178.0  21676.0  772.0   \n",
       "33           32.0           16.0      0.004642  45106.0  21748.0  766.0   \n",
       "26           32.0           32.0      0.021544  44993.0  21861.0  736.0   \n",
       "10           64.0           16.0      0.001000  44921.0  21933.0  720.0   \n",
       "21           32.0           32.0      0.001668  44977.0  21877.0  741.0   \n",
       "6            64.0           32.0      0.021544  44838.0  22016.0  717.0   \n",
       "11           64.0           16.0      0.001668  44746.0  22108.0  702.0   \n",
       "35           32.0           16.0      0.012915  44708.0  22146.0  701.0   \n",
       "18           64.0           16.0      0.059948  44675.0  22179.0  699.0   \n",
       "5            64.0           32.0      0.012915  44628.0  22226.0  689.0   \n",
       "28           32.0           32.0      0.059948  44581.0  22273.0  690.0   \n",
       "25           32.0           32.0      0.012915  44469.0  22385.0  661.0   \n",
       "37           32.0           16.0      0.035938  44320.0  22534.0  636.0   \n",
       "7            64.0           32.0      0.035938  44214.0  22640.0  646.0   \n",
       "24           32.0           32.0      0.007743  43872.0  22982.0  579.0   \n",
       "20           32.0           32.0      0.001000  43822.0  23032.0  571.0   \n",
       "19           64.0           16.0      0.100000  43363.0  23491.0  523.0   \n",
       "15           64.0           16.0      0.012915  43292.0  23562.0  511.0   \n",
       "36           32.0           16.0      0.021544  43282.0  23572.0  514.0   \n",
       "27           32.0           32.0      0.035938  43260.0  23594.0  513.0   \n",
       "0            64.0           32.0      0.001000  43129.0  23725.0  486.0   \n",
       "16           64.0           16.0      0.021544  43248.0  23606.0  519.0   \n",
       "30           32.0           16.0      0.001000  43074.0  23780.0  487.0   \n",
       "1            64.0           32.0      0.001668  43091.0  23763.0  512.0   \n",
       "8            64.0           32.0      0.059948  42859.0  23995.0  458.0   \n",
       "12           64.0           16.0      0.002783  42778.0  24076.0  437.0   \n",
       "32           32.0           16.0      0.002783  42732.0  24122.0  469.0   \n",
       "29           32.0           32.0      0.100000  42479.0  24375.0  452.0   \n",
       "\n",
       "        tp       acc       rec       pre        f1  \n",
       "17  8538.0  0.711278  0.911401  0.287330  0.436916  \n",
       "4   8492.0  0.712485  0.906490  0.287562  0.436618  \n",
       "13  8484.0  0.712065  0.905636  0.287136  0.436027  \n",
       "23  8567.0  0.709060  0.914496  0.286120  0.435869  \n",
       "39  8563.0  0.709165  0.914069  0.286139  0.435843  \n",
       "34  8590.0  0.707985  0.916951  0.285667  0.435620  \n",
       "38  8594.0  0.706961  0.917378  0.284985  0.434875  \n",
       "22  8603.0  0.706279  0.918339  0.284623  0.434561  \n",
       "9   8601.0  0.706161  0.918126  0.284509  0.434405  \n",
       "3   8627.0  0.704823  0.920901  0.283923  0.434030  \n",
       "31  8597.0  0.705584  0.917699  0.284039  0.433809  \n",
       "14  8641.0  0.704036  0.922395  0.283562  0.433774  \n",
       "2   8596.0  0.705492  0.917592  0.283959  0.433703  \n",
       "33  8602.0  0.704626  0.918232  0.283427  0.433154  \n",
       "26  8632.0  0.703537  0.921435  0.283081  0.433105  \n",
       "10  8648.0  0.702802  0.923143  0.282790  0.432952  \n",
       "21  8627.0  0.703262  0.920901  0.282815  0.432735  \n",
       "6   8651.0  0.701753  0.923463  0.282095  0.432172  \n",
       "11  8666.0  0.700743  0.925064  0.281601  0.431767  \n",
       "35  8667.0  0.700257  0.925171  0.281277  0.431398  \n",
       "18  8669.0  0.699850  0.925384  0.281023  0.431122  \n",
       "5   8679.0  0.699365  0.926452  0.280828  0.431008  \n",
       "28  8678.0  0.698735  0.926345  0.280379  0.430467  \n",
       "25  8707.0  0.697646  0.929441  0.280040  0.430400  \n",
       "37  8732.0  0.696020  0.932109  0.279281  0.429788  \n",
       "7   8722.0  0.694498  0.931042  0.278107  0.428284  \n",
       "24  8789.0  0.690890  0.938194  0.276636  0.427283  \n",
       "20  8797.0  0.690339  0.939048  0.276383  0.427070  \n",
       "19  8845.0  0.684947  0.944172  0.273534  0.424180  \n",
       "15  8857.0  0.684173  0.945453  0.273204  0.423912  \n",
       "36  8854.0  0.684002  0.945132  0.273052  0.423697  \n",
       "27  8855.0  0.683726  0.945239  0.272890  0.423512  \n",
       "0   8882.0  0.682362  0.948121  0.272395  0.423204  \n",
       "16  8849.0  0.683490  0.944599  0.272654  0.423164  \n",
       "30  8881.0  0.681627  0.948015  0.271915  0.422613  \n",
       "1   8856.0  0.681522  0.945346  0.271498  0.421845  \n",
       "8   8910.0  0.679187  0.951110  0.270780  0.421546  \n",
       "12  8931.0  0.678400  0.953352  0.270579  0.421522  \n",
       "32  8899.0  0.677377  0.949936  0.269495  0.419873  \n",
       "29  8916.0  0.674280  0.951751  0.267820  0.418013  "
      ]
     },
     "execution_count": 52,
     "metadata": {},
     "output_type": "execute_result"
    }
   ],
   "source": [
    "results"
   ]
  },
  {
   "cell_type": "code",
   "execution_count": null,
   "id": "c89ad584",
   "metadata": {},
   "outputs": [],
   "source": []
  }
 ],
 "metadata": {
  "kernelspec": {
   "display_name": "Python 3 (ipykernel)",
   "language": "python",
   "name": "python3"
  },
  "language_info": {
   "codemirror_mode": {
    "name": "ipython",
    "version": 3
   },
   "file_extension": ".py",
   "mimetype": "text/x-python",
   "name": "python",
   "nbconvert_exporter": "python",
   "pygments_lexer": "ipython3",
   "version": "3.10.9"
  }
 },
 "nbformat": 4,
 "nbformat_minor": 5
}
