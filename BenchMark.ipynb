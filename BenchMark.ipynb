{
 "cells": [
  {
   "cell_type": "code",
<<<<<<< HEAD
   "execution_count": 3,
=======
<<<<<<< HEAD
   "execution_count": 2,
=======
   "execution_count": 1,
>>>>>>> d60c0c8a3fa618573b6cb5d4a13b1f1c90df9fe3
>>>>>>> origin/master
   "id": "63993d7f",
   "metadata": {},
   "outputs": [],
   "source": [
    "import pandas as pd\n",
    "import numpy as np\n",
    "import matplotlib.pyplot as plt\n",
    "import streamlit"
   ]
  },
  {
   "cell_type": "code",
<<<<<<< HEAD
   "execution_count": 4,
=======
<<<<<<< HEAD
   "execution_count": 3,
=======
   "execution_count": 2,
>>>>>>> d60c0c8a3fa618573b6cb5d4a13b1f1c90df9fe3
>>>>>>> origin/master
   "id": "11792ab4",
   "metadata": {},
   "outputs": [
    {
     "data": {
      "text/html": [
       "<div>\n",
       "<style scoped>\n",
       "    .dataframe tbody tr th:only-of-type {\n",
       "        vertical-align: middle;\n",
       "    }\n",
       "\n",
       "    .dataframe tbody tr th {\n",
       "        vertical-align: top;\n",
       "    }\n",
       "\n",
       "    .dataframe thead th {\n",
       "        text-align: right;\n",
       "    }\n",
       "</style>\n",
       "<table border=\"1\" class=\"dataframe\">\n",
       "  <thead>\n",
       "    <tr style=\"text-align: right;\">\n",
       "      <th></th>\n",
       "      <th>id</th>\n",
       "      <th>Gender</th>\n",
       "      <th>Age</th>\n",
       "      <th>Driving_License</th>\n",
       "      <th>Region_Code</th>\n",
       "      <th>Previously_Insured</th>\n",
       "      <th>Vehicle_Age</th>\n",
       "      <th>Vehicle_Damage</th>\n",
       "      <th>Annual_Premium</th>\n",
       "      <th>Policy_Sales_Channel</th>\n",
       "      <th>Vintage</th>\n",
       "      <th>Response</th>\n",
       "    </tr>\n",
       "  </thead>\n",
       "  <tbody>\n",
       "    <tr>\n",
       "      <th>0</th>\n",
       "      <td>1</td>\n",
       "      <td>Male</td>\n",
       "      <td>44</td>\n",
       "      <td>1</td>\n",
       "      <td>28.0</td>\n",
       "      <td>0</td>\n",
       "      <td>&gt; 2 Years</td>\n",
       "      <td>Yes</td>\n",
       "      <td>40454.0</td>\n",
       "      <td>26.0</td>\n",
       "      <td>217</td>\n",
       "      <td>1</td>\n",
       "    </tr>\n",
       "    <tr>\n",
       "      <th>1</th>\n",
       "      <td>2</td>\n",
       "      <td>Male</td>\n",
       "      <td>76</td>\n",
       "      <td>1</td>\n",
       "      <td>3.0</td>\n",
       "      <td>0</td>\n",
       "      <td>1-2 Year</td>\n",
       "      <td>No</td>\n",
       "      <td>33536.0</td>\n",
       "      <td>26.0</td>\n",
       "      <td>183</td>\n",
       "      <td>0</td>\n",
       "    </tr>\n",
       "    <tr>\n",
       "      <th>2</th>\n",
       "      <td>3</td>\n",
       "      <td>Male</td>\n",
       "      <td>47</td>\n",
       "      <td>1</td>\n",
       "      <td>28.0</td>\n",
       "      <td>0</td>\n",
       "      <td>&gt; 2 Years</td>\n",
       "      <td>Yes</td>\n",
       "      <td>38294.0</td>\n",
       "      <td>26.0</td>\n",
       "      <td>27</td>\n",
       "      <td>1</td>\n",
       "    </tr>\n",
       "    <tr>\n",
       "      <th>3</th>\n",
       "      <td>4</td>\n",
       "      <td>Male</td>\n",
       "      <td>21</td>\n",
       "      <td>1</td>\n",
       "      <td>11.0</td>\n",
       "      <td>1</td>\n",
       "      <td>&lt; 1 Year</td>\n",
       "      <td>No</td>\n",
       "      <td>28619.0</td>\n",
       "      <td>152.0</td>\n",
       "      <td>203</td>\n",
       "      <td>0</td>\n",
       "    </tr>\n",
       "    <tr>\n",
       "      <th>4</th>\n",
       "      <td>5</td>\n",
       "      <td>Female</td>\n",
       "      <td>29</td>\n",
       "      <td>1</td>\n",
       "      <td>41.0</td>\n",
       "      <td>1</td>\n",
       "      <td>&lt; 1 Year</td>\n",
       "      <td>No</td>\n",
       "      <td>27496.0</td>\n",
       "      <td>152.0</td>\n",
       "      <td>39</td>\n",
       "      <td>0</td>\n",
       "    </tr>\n",
       "    <tr>\n",
       "      <th>...</th>\n",
       "      <td>...</td>\n",
       "      <td>...</td>\n",
       "      <td>...</td>\n",
       "      <td>...</td>\n",
       "      <td>...</td>\n",
       "      <td>...</td>\n",
       "      <td>...</td>\n",
       "      <td>...</td>\n",
       "      <td>...</td>\n",
       "      <td>...</td>\n",
       "      <td>...</td>\n",
       "      <td>...</td>\n",
       "    </tr>\n",
       "    <tr>\n",
       "      <th>381104</th>\n",
       "      <td>381105</td>\n",
       "      <td>Male</td>\n",
       "      <td>74</td>\n",
       "      <td>1</td>\n",
       "      <td>26.0</td>\n",
       "      <td>1</td>\n",
       "      <td>1-2 Year</td>\n",
       "      <td>No</td>\n",
       "      <td>30170.0</td>\n",
       "      <td>26.0</td>\n",
       "      <td>88</td>\n",
       "      <td>0</td>\n",
       "    </tr>\n",
       "    <tr>\n",
       "      <th>381105</th>\n",
       "      <td>381106</td>\n",
       "      <td>Male</td>\n",
       "      <td>30</td>\n",
       "      <td>1</td>\n",
       "      <td>37.0</td>\n",
       "      <td>1</td>\n",
       "      <td>&lt; 1 Year</td>\n",
       "      <td>No</td>\n",
       "      <td>40016.0</td>\n",
       "      <td>152.0</td>\n",
       "      <td>131</td>\n",
       "      <td>0</td>\n",
       "    </tr>\n",
       "    <tr>\n",
       "      <th>381106</th>\n",
       "      <td>381107</td>\n",
       "      <td>Male</td>\n",
       "      <td>21</td>\n",
       "      <td>1</td>\n",
       "      <td>30.0</td>\n",
       "      <td>1</td>\n",
       "      <td>&lt; 1 Year</td>\n",
       "      <td>No</td>\n",
       "      <td>35118.0</td>\n",
       "      <td>160.0</td>\n",
       "      <td>161</td>\n",
       "      <td>0</td>\n",
       "    </tr>\n",
       "    <tr>\n",
       "      <th>381107</th>\n",
       "      <td>381108</td>\n",
       "      <td>Female</td>\n",
       "      <td>68</td>\n",
       "      <td>1</td>\n",
       "      <td>14.0</td>\n",
       "      <td>0</td>\n",
       "      <td>&gt; 2 Years</td>\n",
       "      <td>Yes</td>\n",
       "      <td>44617.0</td>\n",
       "      <td>124.0</td>\n",
       "      <td>74</td>\n",
       "      <td>0</td>\n",
       "    </tr>\n",
       "    <tr>\n",
       "      <th>381108</th>\n",
       "      <td>381109</td>\n",
       "      <td>Male</td>\n",
       "      <td>46</td>\n",
       "      <td>1</td>\n",
       "      <td>29.0</td>\n",
       "      <td>0</td>\n",
       "      <td>1-2 Year</td>\n",
       "      <td>No</td>\n",
       "      <td>41777.0</td>\n",
       "      <td>26.0</td>\n",
       "      <td>237</td>\n",
       "      <td>0</td>\n",
       "    </tr>\n",
       "  </tbody>\n",
       "</table>\n",
       "<p>381109 rows × 12 columns</p>\n",
       "</div>"
      ],
      "text/plain": [
       "            id  Gender  Age  Driving_License  Region_Code  Previously_Insured  \\\n",
       "0            1    Male   44                1         28.0                   0   \n",
       "1            2    Male   76                1          3.0                   0   \n",
       "2            3    Male   47                1         28.0                   0   \n",
       "3            4    Male   21                1         11.0                   1   \n",
       "4            5  Female   29                1         41.0                   1   \n",
       "...        ...     ...  ...              ...          ...                 ...   \n",
       "381104  381105    Male   74                1         26.0                   1   \n",
       "381105  381106    Male   30                1         37.0                   1   \n",
       "381106  381107    Male   21                1         30.0                   1   \n",
       "381107  381108  Female   68                1         14.0                   0   \n",
       "381108  381109    Male   46                1         29.0                   0   \n",
       "\n",
       "       Vehicle_Age Vehicle_Damage  Annual_Premium  Policy_Sales_Channel  \\\n",
       "0        > 2 Years            Yes         40454.0                  26.0   \n",
       "1         1-2 Year             No         33536.0                  26.0   \n",
       "2        > 2 Years            Yes         38294.0                  26.0   \n",
       "3         < 1 Year             No         28619.0                 152.0   \n",
       "4         < 1 Year             No         27496.0                 152.0   \n",
       "...            ...            ...             ...                   ...   \n",
       "381104    1-2 Year             No         30170.0                  26.0   \n",
       "381105    < 1 Year             No         40016.0                 152.0   \n",
       "381106    < 1 Year             No         35118.0                 160.0   \n",
       "381107   > 2 Years            Yes         44617.0                 124.0   \n",
       "381108    1-2 Year             No         41777.0                  26.0   \n",
       "\n",
       "        Vintage  Response  \n",
       "0           217         1  \n",
       "1           183         0  \n",
       "2            27         1  \n",
       "3           203         0  \n",
       "4            39         0  \n",
       "...         ...       ...  \n",
       "381104       88         0  \n",
       "381105      131         0  \n",
       "381106      161         0  \n",
       "381107       74         0  \n",
       "381108      237         0  \n",
       "\n",
       "[381109 rows x 12 columns]"
      ]
     },
<<<<<<< HEAD
     "execution_count": 4,
=======
<<<<<<< HEAD
     "execution_count": 3,
=======
     "execution_count": 2,
>>>>>>> d60c0c8a3fa618573b6cb5d4a13b1f1c90df9fe3
>>>>>>> origin/master
     "metadata": {},
     "output_type": "execute_result"
    }
   ],
   "source": [
    "dataset=pd.read_csv(\"train.csv\")\n",
    "dataset"
   ]
  },
  {
   "cell_type": "markdown",
   "id": "aeb1d7a0",
   "metadata": {},
   "source": [
    "# Exploratory Data Analysis"
   ]
  },
  {
   "cell_type": "code",
   "execution_count": 9,
   "id": "4d4c01aa",
   "metadata": {},
   "outputs": [
    {
     "data": {
      "text/html": [
       "<div>\n",
       "<style scoped>\n",
       "    .dataframe tbody tr th:only-of-type {\n",
       "        vertical-align: middle;\n",
       "    }\n",
       "\n",
       "    .dataframe tbody tr th {\n",
       "        vertical-align: top;\n",
       "    }\n",
       "\n",
       "    .dataframe thead th {\n",
       "        text-align: right;\n",
       "    }\n",
       "</style>\n",
       "<table border=\"1\" class=\"dataframe\">\n",
       "  <thead>\n",
       "    <tr style=\"text-align: right;\">\n",
       "      <th></th>\n",
       "      <th>id</th>\n",
       "      <th>Gender</th>\n",
       "      <th>Age</th>\n",
       "      <th>Driving_License</th>\n",
       "      <th>Region_Code</th>\n",
       "      <th>Previously_Insured</th>\n",
       "      <th>Vehicle_Age</th>\n",
       "      <th>Vehicle_Damage</th>\n",
       "      <th>Annual_Premium</th>\n",
       "      <th>Policy_Sales_Channel</th>\n",
       "      <th>Vintage</th>\n",
       "      <th>Response</th>\n",
       "    </tr>\n",
       "  </thead>\n",
       "  <tbody>\n",
       "    <tr>\n",
       "      <th>0</th>\n",
       "      <td>1</td>\n",
       "      <td>Male</td>\n",
       "      <td>44</td>\n",
       "      <td>1</td>\n",
       "      <td>28.0</td>\n",
       "      <td>0</td>\n",
       "      <td>&gt; 2 Years</td>\n",
       "      <td>Yes</td>\n",
       "      <td>40454.0</td>\n",
       "      <td>26.0</td>\n",
       "      <td>217</td>\n",
       "      <td>1</td>\n",
       "    </tr>\n",
       "    <tr>\n",
       "      <th>1</th>\n",
       "      <td>2</td>\n",
       "      <td>Male</td>\n",
       "      <td>76</td>\n",
       "      <td>1</td>\n",
       "      <td>3.0</td>\n",
       "      <td>0</td>\n",
       "      <td>1-2 Year</td>\n",
       "      <td>No</td>\n",
       "      <td>33536.0</td>\n",
       "      <td>26.0</td>\n",
       "      <td>183</td>\n",
       "      <td>0</td>\n",
       "    </tr>\n",
       "    <tr>\n",
       "      <th>2</th>\n",
       "      <td>3</td>\n",
       "      <td>Male</td>\n",
       "      <td>47</td>\n",
       "      <td>1</td>\n",
       "      <td>28.0</td>\n",
       "      <td>0</td>\n",
       "      <td>&gt; 2 Years</td>\n",
       "      <td>Yes</td>\n",
       "      <td>38294.0</td>\n",
       "      <td>26.0</td>\n",
       "      <td>27</td>\n",
       "      <td>1</td>\n",
       "    </tr>\n",
       "    <tr>\n",
       "      <th>3</th>\n",
       "      <td>4</td>\n",
       "      <td>Male</td>\n",
       "      <td>21</td>\n",
       "      <td>1</td>\n",
       "      <td>11.0</td>\n",
       "      <td>1</td>\n",
       "      <td>&lt; 1 Year</td>\n",
       "      <td>No</td>\n",
       "      <td>28619.0</td>\n",
       "      <td>152.0</td>\n",
       "      <td>203</td>\n",
       "      <td>0</td>\n",
       "    </tr>\n",
       "    <tr>\n",
       "      <th>4</th>\n",
       "      <td>5</td>\n",
       "      <td>Female</td>\n",
       "      <td>29</td>\n",
       "      <td>1</td>\n",
       "      <td>41.0</td>\n",
       "      <td>1</td>\n",
       "      <td>&lt; 1 Year</td>\n",
       "      <td>No</td>\n",
       "      <td>27496.0</td>\n",
       "      <td>152.0</td>\n",
       "      <td>39</td>\n",
       "      <td>0</td>\n",
       "    </tr>\n",
       "    <tr>\n",
       "      <th>...</th>\n",
       "      <td>...</td>\n",
       "      <td>...</td>\n",
       "      <td>...</td>\n",
       "      <td>...</td>\n",
       "      <td>...</td>\n",
       "      <td>...</td>\n",
       "      <td>...</td>\n",
       "      <td>...</td>\n",
       "      <td>...</td>\n",
       "      <td>...</td>\n",
       "      <td>...</td>\n",
       "      <td>...</td>\n",
       "    </tr>\n",
       "    <tr>\n",
       "      <th>381104</th>\n",
       "      <td>381105</td>\n",
       "      <td>Male</td>\n",
       "      <td>74</td>\n",
       "      <td>1</td>\n",
       "      <td>26.0</td>\n",
       "      <td>1</td>\n",
       "      <td>1-2 Year</td>\n",
       "      <td>No</td>\n",
       "      <td>30170.0</td>\n",
       "      <td>26.0</td>\n",
       "      <td>88</td>\n",
       "      <td>0</td>\n",
       "    </tr>\n",
       "    <tr>\n",
       "      <th>381105</th>\n",
       "      <td>381106</td>\n",
       "      <td>Male</td>\n",
       "      <td>30</td>\n",
       "      <td>1</td>\n",
       "      <td>37.0</td>\n",
       "      <td>1</td>\n",
       "      <td>&lt; 1 Year</td>\n",
       "      <td>No</td>\n",
       "      <td>40016.0</td>\n",
       "      <td>152.0</td>\n",
       "      <td>131</td>\n",
       "      <td>0</td>\n",
       "    </tr>\n",
       "    <tr>\n",
       "      <th>381106</th>\n",
       "      <td>381107</td>\n",
       "      <td>Male</td>\n",
       "      <td>21</td>\n",
       "      <td>1</td>\n",
       "      <td>30.0</td>\n",
       "      <td>1</td>\n",
       "      <td>&lt; 1 Year</td>\n",
       "      <td>No</td>\n",
       "      <td>35118.0</td>\n",
       "      <td>160.0</td>\n",
       "      <td>161</td>\n",
       "      <td>0</td>\n",
       "    </tr>\n",
       "    <tr>\n",
       "      <th>381107</th>\n",
       "      <td>381108</td>\n",
       "      <td>Female</td>\n",
       "      <td>68</td>\n",
       "      <td>1</td>\n",
       "      <td>14.0</td>\n",
       "      <td>0</td>\n",
       "      <td>&gt; 2 Years</td>\n",
       "      <td>Yes</td>\n",
       "      <td>44617.0</td>\n",
       "      <td>124.0</td>\n",
       "      <td>74</td>\n",
       "      <td>0</td>\n",
       "    </tr>\n",
       "    <tr>\n",
       "      <th>381108</th>\n",
       "      <td>381109</td>\n",
       "      <td>Male</td>\n",
       "      <td>46</td>\n",
       "      <td>1</td>\n",
       "      <td>29.0</td>\n",
       "      <td>0</td>\n",
       "      <td>1-2 Year</td>\n",
       "      <td>No</td>\n",
       "      <td>41777.0</td>\n",
       "      <td>26.0</td>\n",
       "      <td>237</td>\n",
       "      <td>0</td>\n",
       "    </tr>\n",
       "  </tbody>\n",
       "</table>\n",
       "<p>381109 rows × 12 columns</p>\n",
       "</div>"
      ],
      "text/plain": [
       "            id  Gender  Age  Driving_License  Region_Code  Previously_Insured  \\\n",
       "0            1    Male   44                1         28.0                   0   \n",
       "1            2    Male   76                1          3.0                   0   \n",
       "2            3    Male   47                1         28.0                   0   \n",
       "3            4    Male   21                1         11.0                   1   \n",
       "4            5  Female   29                1         41.0                   1   \n",
       "...        ...     ...  ...              ...          ...                 ...   \n",
       "381104  381105    Male   74                1         26.0                   1   \n",
       "381105  381106    Male   30                1         37.0                   1   \n",
       "381106  381107    Male   21                1         30.0                   1   \n",
       "381107  381108  Female   68                1         14.0                   0   \n",
       "381108  381109    Male   46                1         29.0                   0   \n",
       "\n",
       "       Vehicle_Age Vehicle_Damage  Annual_Premium  Policy_Sales_Channel  \\\n",
       "0        > 2 Years            Yes         40454.0                  26.0   \n",
       "1         1-2 Year             No         33536.0                  26.0   \n",
       "2        > 2 Years            Yes         38294.0                  26.0   \n",
       "3         < 1 Year             No         28619.0                 152.0   \n",
       "4         < 1 Year             No         27496.0                 152.0   \n",
       "...            ...            ...             ...                   ...   \n",
       "381104    1-2 Year             No         30170.0                  26.0   \n",
       "381105    < 1 Year             No         40016.0                 152.0   \n",
       "381106    < 1 Year             No         35118.0                 160.0   \n",
       "381107   > 2 Years            Yes         44617.0                 124.0   \n",
       "381108    1-2 Year             No         41777.0                  26.0   \n",
       "\n",
       "        Vintage  Response  \n",
       "0           217         1  \n",
       "1           183         0  \n",
       "2            27         1  \n",
       "3           203         0  \n",
       "4            39         0  \n",
       "...         ...       ...  \n",
       "381104       88         0  \n",
       "381105      131         0  \n",
       "381106      161         0  \n",
       "381107       74         0  \n",
       "381108      237         0  \n",
       "\n",
       "[381109 rows x 12 columns]"
      ]
     },
     "execution_count": 9,
     "metadata": {},
     "output_type": "execute_result"
    }
   ],
   "source": [
    "dataset"
   ]
  },
  {
   "cell_type": "code",
   "execution_count": null,
   "id": "5ccd5f8a",
   "metadata": {
    "scrolled": true
   },
   "outputs": [
    {
     "data": {
      "image/png": "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",
      "text/plain": [
       "<Figure size 640x480 with 1 Axes>"
      ]
     },
     "metadata": {},
     "output_type": "display_data"
    }
   ],
   "source": [
    "grouped_data = dataset.groupby('Vehicle_Damage')['Annual_Premium'].mean()\n",
    "\n",
    "# Créer le graphique\n",
    "plt.bar(grouped_data.index, grouped_data.values)\n",
    "plt.xlabel('Accident')\n",
    "plt.ylabel('Montant moyen de la prime d\\'assurance')\n",
    "plt.title('Montant moyen de la prime d\\'assurance en fonction de la présence d\\'accident')\n",
    "plt.show()"
   ]
  },
  {
   "cell_type": "code",
   "execution_count": 10,
   "id": "f3e80488",
   "metadata": {},
   "outputs": [
    {
     "data": {
      "text/plain": [
       "id      Gender  Age  Driving_License  Region_Code  Previously_Insured  Vehicle_Age  Vehicle_Damage  Annual_Premium  Policy_Sales_Channel  Vintage  Response\n",
       "1       Male    44   1                28.0         0                   > 2 Years    Yes             40454.0         26.0                  217      1           1\n",
       "254071  Male    47   1                48.0         1                   1-2 Year     No              2630.0          124.0                 135      0           1\n",
       "254080  Male    25   1                36.0         1                   < 1 Year     No              40090.0         152.0                 195      0           1\n",
       "254079  Male    23   1                29.0         1                   < 1 Year     No              36797.0         152.0                 293      0           1\n",
       "254078  Male    21   1                8.0          1                   < 1 Year     No              30457.0         163.0                 217      0           1\n",
       "                                                                                                                                                              ..\n",
       "127035  Female  24   1                8.0          0                   < 1 Year     Yes             27261.0         152.0                 89       0           1\n",
       "127034  Male    20   1                25.0         0                   < 1 Year     Yes             24671.0         160.0                 217      0           1\n",
       "127033  Male    50   1                28.0         0                   1-2 Year     No              28488.0         122.0                 275      0           1\n",
       "127032  Male    21   1                39.0         1                   < 1 Year     No              2630.0          152.0                 66       0           1\n",
       "381109  Male    46   1                29.0         0                   1-2 Year     No              41777.0         26.0                  237      0           1\n",
       "Name: count, Length: 381109, dtype: int64"
      ]
     },
     "execution_count": 10,
     "metadata": {},
     "output_type": "execute_result"
    }
   ],
   "source": [
    "dataset.value_counts()"
   ]
  },
  {
   "cell_type": "code",
<<<<<<< HEAD
   "execution_count": 8,
=======
   "execution_count": null,
>>>>>>> d60c0c8a3fa618573b6cb5d4a13b1f1c90df9fe3
   "id": "b4f5a255",
   "metadata": {
    "scrolled": true
   },
   "outputs": [
    {
     "data": {
      "image/png": "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",
      "text/plain": [
       "<Figure size 640x480 with 1 Axes>"
      ]
     },
     "metadata": {},
     "output_type": "display_data"
    },
    {
     "data": {
      "text/plain": [
       "Age\n",
       "20    26925.468549\n",
       "21    30591.404448\n",
       "22    30817.301183\n",
       "23    30702.614899\n",
       "24    31184.213367\n",
       "          ...     \n",
       "81    31201.571429\n",
       "82    37705.379310\n",
       "83    31012.727273\n",
       "84    35440.818182\n",
       "85    29792.363636\n",
       "Name: Annual_Premium, Length: 66, dtype: float64"
      ]
     },
     "execution_count": 8,
     "metadata": {},
     "output_type": "execute_result"
    }
   ],
   "source": [
    "grouped_dataage = dataset.groupby('Age')['Annual_Premium'].mean()\n",
    "\n",
    "# Créer le graphique\n",
    "plt.plot(grouped_dataage.index, grouped_dataage.values, marker='o', linestyle='-')\n",
    "plt.xlabel('Âge de l\\'assureur')\n",
    "plt.ylabel('Montant moyen de la prime d\\'assurance')\n",
    "plt.title('Montant moyen de la prime d\\'assurance en fonction de l\\'âge de l\\'assureur')\n",
    "plt.grid(True)\n",
    "plt.show()\n",
    "\n",
    "\n",
    "grouped_dataage"
   ]
  },
  {
   "cell_type": "code",
   "execution_count": 9,
   "id": "e37be625",
   "metadata": {},
   "outputs": [
    {
     "data": {
      "text/plain": [
       "Age\n",
       "20    26925.468549\n",
       "21    30591.404448\n",
       "22    30817.301183\n",
       "23    30702.614899\n",
       "24    31184.213367\n",
       "          ...     \n",
       "81    31201.571429\n",
       "82    37705.379310\n",
       "83    31012.727273\n",
       "84    35440.818182\n",
       "85    29792.363636\n",
       "Name: Annual_Premium, Length: 66, dtype: float64"
      ]
     },
     "execution_count": 9,
     "metadata": {},
     "output_type": "execute_result"
    }
   ],
   "source": [
    "grouped_dataage"
   ]
  },
  {
   "cell_type": "code",
   "execution_count": null,
   "id": "7b579958",
   "metadata": {},
   "outputs": [],
   "source": [
    "plt.bar(grouped_data.index, grouped_data.values)\n",
    "plt.xlabel('Accident')\n",
    "plt.ylabel('Montant moyen de la prime d\\'assurance')\n",
    "plt.title('Montant moyen de la prime d\\'assurance en fonction de la présence d\\'accident')\n",
    "plt.show()"
   ]
  },
  {
   "cell_type": "code",
   "execution_count": null,
   "id": "5d2c057e",
   "metadata": {
    "scrolled": true
   },
   "outputs": [
    {
     "data": {
      "image/png": "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",
      "text/plain": [
       "<Figure size 640x480 with 1 Axes>"
      ]
     },
     "metadata": {},
     "output_type": "display_data"
    },
    {
     "data": {
      "text/plain": [
       "Gender\n",
       "Female    30495.787990\n",
       "Male      30622.649122\n",
       "Name: Annual_Premium, dtype: float64"
      ]
     },
     "execution_count": 35,
     "metadata": {},
     "output_type": "execute_result"
    }
   ],
   "source": [
    "grouped_datasex = dataset.groupby('Gender')['Annual_Premium'].mean()\n",
    "\n",
    "# Créer le graphique\n",
    "plt.bar(grouped_datasex.index, grouped_datasex.values)\n",
    "plt.xlabel('Âge de l\\'assureur')\n",
    "plt.ylabel('Montant moyen de la prime d\\'assurance')\n",
    "plt.title('Montant moyen de la prime d\\'assurance en fonction de l\\'âge de l\\'assureur')\n",
    "plt.grid(True)\n",
    "plt.show()\n",
    "\n",
    "grouped_datasex"
   ]
  },
  {
   "cell_type": "markdown",
   "id": "41ab8fb8",
   "metadata": {},
   "source": [
    "# Fait Stylisé observé  "
   ]
  },
  {
   "cell_type": "code",
   "execution_count": null,
   "id": "727fee11",
   "metadata": {},
   "outputs": [
    {
     "ename": "NameError",
     "evalue": "name 'sns' is not defined",
     "output_type": "error",
     "traceback": [
      "\u001b[1;31m---------------------------------------------------------------------------\u001b[0m",
      "\u001b[1;31mNameError\u001b[0m                                 Traceback (most recent call last)",
      "Cell \u001b[1;32mIn[6], line 4\u001b[0m\n\u001b[0;32m      1\u001b[0m filtered_data \u001b[38;5;241m=\u001b[39m dataset[(dataset[\u001b[38;5;124m'\u001b[39m\u001b[38;5;124mAge\u001b[39m\u001b[38;5;124m'\u001b[39m] \u001b[38;5;241m>\u001b[39m\u001b[38;5;241m=\u001b[39m \u001b[38;5;241m20\u001b[39m) \u001b[38;5;241m&\u001b[39m (dataset[\u001b[38;5;124m'\u001b[39m\u001b[38;5;124mAge\u001b[39m\u001b[38;5;124m'\u001b[39m] \u001b[38;5;241m<\u001b[39m\u001b[38;5;241m=\u001b[39m \u001b[38;5;241m30\u001b[39m)]\n\u001b[0;32m      3\u001b[0m \u001b[38;5;66;03m# Tracer la densité des primes annuelles\u001b[39;00m\n\u001b[1;32m----> 4\u001b[0m \u001b[43msns\u001b[49m\u001b[38;5;241m.\u001b[39mkdeplot(filtered_data[\u001b[38;5;124m'\u001b[39m\u001b[38;5;124mAnnual_Premium\u001b[39m\u001b[38;5;124m'\u001b[39m], shade\u001b[38;5;241m=\u001b[39m\u001b[38;5;28;01mTrue\u001b[39;00m)\n\u001b[0;32m      5\u001b[0m plt\u001b[38;5;241m.\u001b[39mxlabel(\u001b[38;5;124m'\u001b[39m\u001b[38;5;124mMontant de la prime annuelle\u001b[39m\u001b[38;5;124m'\u001b[39m)\n\u001b[0;32m      6\u001b[0m plt\u001b[38;5;241m.\u001b[39mylabel(\u001b[38;5;124m'\u001b[39m\u001b[38;5;124mDensité\u001b[39m\u001b[38;5;124m'\u001b[39m)\n",
      "\u001b[1;31mNameError\u001b[0m: name 'sns' is not defined"
     ]
    }
   ],
   "source": [
    "filtered_data = dataset[(dataset['Age'] >= 20) & (dataset['Age'] <= 30)]\n",
    "\n",
    "# Tracer la densité des primes annuelles\n",
    "sns.kdeplot(filtered_data['Annual_Premium'], shade=True)\n",
    "plt.xlabel('Montant de la prime annuelle')\n",
    "plt.ylabel('Densité')\n",
    "plt.title('Densité des primes annuelles pour des assurés âgés de 20 à 30 ans')\n",
    "plt.show()"
   ]
  },
  {
   "cell_type": "code",
   "execution_count": null,
   "id": "591bc6db",
   "metadata": {},
   "outputs": [
    {
     "ename": "NameError",
     "evalue": "name 'sns' is not defined",
     "output_type": "error",
     "traceback": [
      "\u001b[1;31m---------------------------------------------------------------------------\u001b[0m",
      "\u001b[1;31mNameError\u001b[0m                                 Traceback (most recent call last)",
      "Cell \u001b[1;32mIn[7], line 4\u001b[0m\n\u001b[0;32m      1\u001b[0m filtered_data \u001b[38;5;241m=\u001b[39m dataset[(dataset[\u001b[38;5;124m'\u001b[39m\u001b[38;5;124mAge\u001b[39m\u001b[38;5;124m'\u001b[39m] \u001b[38;5;241m>\u001b[39m\u001b[38;5;241m=\u001b[39m\u001b[38;5;241m30\u001b[39m) \u001b[38;5;241m&\u001b[39m (dataset[\u001b[38;5;124m'\u001b[39m\u001b[38;5;124mAge\u001b[39m\u001b[38;5;124m'\u001b[39m] \u001b[38;5;241m<\u001b[39m\u001b[38;5;241m=\u001b[39m \u001b[38;5;241m40\u001b[39m)]\n\u001b[0;32m      3\u001b[0m \u001b[38;5;66;03m# Tracer la densité des primes annuelles\u001b[39;00m\n\u001b[1;32m----> 4\u001b[0m \u001b[43msns\u001b[49m\u001b[38;5;241m.\u001b[39mkdeplot(filtered_data[\u001b[38;5;124m'\u001b[39m\u001b[38;5;124mAnnual_Premium\u001b[39m\u001b[38;5;124m'\u001b[39m], shade\u001b[38;5;241m=\u001b[39m\u001b[38;5;28;01mTrue\u001b[39;00m)\n\u001b[0;32m      5\u001b[0m plt\u001b[38;5;241m.\u001b[39mxlabel(\u001b[38;5;124m'\u001b[39m\u001b[38;5;124mMontant de la prime annuelle\u001b[39m\u001b[38;5;124m'\u001b[39m)\n\u001b[0;32m      6\u001b[0m plt\u001b[38;5;241m.\u001b[39mylabel(\u001b[38;5;124m'\u001b[39m\u001b[38;5;124mDensité\u001b[39m\u001b[38;5;124m'\u001b[39m)\n",
      "\u001b[1;31mNameError\u001b[0m: name 'sns' is not defined"
     ]
    }
   ],
   "source": [
    "filtered_data = dataset[(dataset['Age'] >=30) & (dataset['Age'] <= 40)]\n",
    "\n",
    "# Tracer la densité des primes annuelles\n",
    "sns.kdeplot(filtered_data['Annual_Premium'], shade=True)\n",
    "plt.xlabel('Montant de la prime annuelle')\n",
    "plt.ylabel('Densité')\n",
    "plt.title('Densité des primes annuelles pour des assurés âgés de 30 à 40 ans')\n",
    "plt.show()"
   ]
  },
  {
   "cell_type": "code",
   "execution_count": null,
   "id": "f1c1bfca",
   "metadata": {},
<<<<<<< HEAD
=======
   "outputs": [],
<<<<<<< HEAD
   "source": []
  },
  {
   "cell_type": "code",
   "execution_count": null,
   "id": "910b768b",
   "metadata": {},
   "outputs": [],
   "source": []
  },
  {
   "cell_type": "code",
   "execution_count": null,
   "id": "e124a914",
   "metadata": {},
   "outputs": [],
   "source": []
  },
  {
   "cell_type": "markdown",
   "id": "e08a4273",
   "metadata": {},
   "source": [
    "<h3> Modèles pour le calcul de la prime de l'assuré </h3>\n",
    "\n",
    "Notons $Y_{i}$ le montant de la prime pour l'assuré $i$. On va essayer de prédire cette variable en utilisant les différents covariates de notre modèle\n",
    "De part, l'EDA que nous avons effectuée, on va s'intéresser à certaines covariates qui vont permettre d'entraîner le modèle\n",
    "\n",
    "On va supposer dans une première partie le modèle suivant :\n",
    "\n",
    "$Y_{i}=\\beta Age_{i} + \\epsilon_{i}$ avec $\\mathbb{E}(\\epsilon_{i}|Age_{i})=0$\n",
    "\n",
    "De manière vectorielle, cela se réecrit : \n",
    "\n",
    "$Y=\\beta Age + \\epsilon $ avec $\\mathbb{E}(\\epsilon|Age)=0$ avec $Y \\in R^{n}$\n"
   ]
  },
  {
   "cell_type": "code",
   "execution_count": 13,
   "id": "e85e8f54",
   "metadata": {},
   "outputs": [
    {
     "data": {
      "text/plain": [
       "Age\n",
       "20    26925.468549\n",
       "21    30591.404448\n",
       "22    30817.301183\n",
       "23    30702.614899\n",
       "24    31184.213367\n",
       "          ...     \n",
       "81    31201.571429\n",
       "82    37705.379310\n",
       "83    31012.727273\n",
       "84    35440.818182\n",
       "85    29792.363636\n",
       "Name: Annual_Premium, Length: 66, dtype: float64"
      ]
     },
     "execution_count": 13,
     "metadata": {},
     "output_type": "execute_result"
    }
   ],
   "source": [
    "grouped_dataage"
   ]
  },
  {
   "cell_type": "code",
   "execution_count": 10,
   "id": "599128af",
   "metadata": {},
   "outputs": [],
   "source": [
    "dataset[\"grouped_dataage\"]=grouped_dataage"
   ]
  },
  {
   "cell_type": "code",
   "execution_count": 26,
   "id": "0b09c2fe",
   "metadata": {},
>>>>>>> origin/master
   "outputs": [
    {
     "name": "stdout",
     "output_type": "stream",
     "text": [
<<<<<<< HEAD
      "0\n",
      "1\n",
      "4\n",
      "9\n",
      "16\n",
      "25\n",
      "36\n",
      "49\n",
      "64\n",
      "81\n"
     ]
    }
   ],
=======
      "Root Mean Squared Error (RMSE): 2339.0922976462307\n",
      "Coefficients du modèle: [103.29374161]\n",
      "Terme d'interception: 26173.051157461985\n"
     ]
    }
   ],
   "source": [
    "import pandas as pd\n",
    "from sklearn.model_selection import train_test_split\n",
    "from sklearn.linear_model import LinearRegression\n",
    "from sklearn.metrics import mean_squared_error\n",
    "\n",
    "# Charger votre DataFrame\n",
    "# Supposons que votre DataFrame s'appelle df\n",
    "# et que X représente les variables covariables et Annual_Premium la variable à prédire\n",
    "\n",
    "# Séparer les variables covariables (X) et la variable à prédire (Annual_Premium)\n",
    "X = data[['Age']]  # Mettez le nom de votre colonne covariable\n",
    "y = data['Annual_Premium']  # Mettez le nom de votre colonne à prédire\n",
    "\n",
    "# Diviser les données en ensembles d'entraînement et de test\n",
    "X_train, X_test, y_train, y_test = train_test_split(X, y, test_size=0.2, random_state=42)\n",
    "\n",
    "# Initialiser le modèle de régression linéaire\n",
    "model = LinearRegression()\n",
    "\n",
    "# Entraîner le modèle sur l'ensemble d'entraînement\n",
    "model.fit(X_train, y_train)\n",
    "\n",
    "# Prédire les valeurs sur l'ensemble de test\n",
    "y_pred = model.predict(X_test)\n",
    "\n",
    "# Calculer l'erreur quadratique moyenne (RMSE) pour évaluer la performance du modèle\n",
    "rmse = mean_squared_error(y_test, y_pred, squared=False)\n",
    "print(\"Root Mean Squared Error (RMSE):\", rmse)\n",
    "\n",
    "# Vous pouvez également imprimer les coefficients du modèle\n",
    "print(\"Coefficients du modèle:\", model.coef_)\n",
    "print(\"Terme d'interception:\", model.intercept_)\n"
   ]
  },
  {
   "cell_type": "code",
   "execution_count": 27,
   "id": "d0b21307",
   "metadata": {},
   "outputs": [
    {
     "name": "stdout",
     "output_type": "stream",
     "text": [
      "Coefficient de détermination R²: 0.41966319772880234\n"
     ]
    }
   ],
   "source": [
    "r_squared = model.score(X_test, y_test)\n",
    "print(\"Coefficient de détermination R²:\", r_squared)"
=======
>>>>>>> origin/master
   "source": [
    "for i in range(10):\n",
    "    print(i**2)"
>>>>>>> d60c0c8a3fa618573b6cb5d4a13b1f1c90df9fe3
   ]
  },
  {
   "cell_type": "code",
   "execution_count": null,
<<<<<<< HEAD
   "id": "4d638bb5",
   "metadata": {},
   "outputs": [],
   "source": []
  },
  {
   "cell_type": "code",
   "execution_count": 28,
   "id": "3ed56cdf",
   "metadata": {},
   "outputs": [
    {
     "data": {
      "image/png": "iVBORw0KGgoAAAANSUhEUgAAA2QAAAIiCAYAAACnngsNAAAAOXRFWHRTb2Z0d2FyZQBNYXRwbG90bGliIHZlcnNpb24zLjcuMCwgaHR0cHM6Ly9tYXRwbG90bGliLm9yZy88F64QAAAACXBIWXMAAA9hAAAPYQGoP6dpAACHYklEQVR4nOzdd3gU5frG8XtJJ5CFACEJCU0gkENTEAy9SZEqhyIlgiAoqIDSBI8iNhBEQVHABopo9EgRFCKIgHAEpCrNhiAtIUhJqEnYzO+P/WXDkraBbDbl+7muXLozz84+u5NAbt533jEZhmEIAAAAAJDnirm6AQAAAAAoqghkAAAAAOAiBDIAAAAAcBECGQAAAAC4CIEMAAAAAFyEQAYAAAAALkIgAwAAAAAXIZABAAAAgIsQyAAAAADARQhkAG7ZL7/8ouLFi+utt95ydSvIwuTJk1W+fHkdPnzY1a3ke3xWAIC8RiADirhFixbJZDLZvtzd3RUUFKQHHnhAf/zxR6bPu3jxonr16qUnnnhCTzzxRB527BzPP/+8TCaTS167cuXKGjx4sO3x0aNHZTKZtGjRots+9po1azR37lx9/fXXuuOOO27pGKnfI0ePHr3tfnLTxo0b7b533dzcVL58efXu3VuHDh3K8fFu5bNq1aqVWrVqZXt8q+fu4MGDev755zP8jAcPHqzKlSvn6HjOlJvfnzf7559/5OXlJZPJpJ07d+b68fPSzT/XjmjVqpXd97SPj4/q1aun2bNnKyUlxTmN3qJbeX8AMubu6gYA5A8LFy5UzZo1de3aNf3vf//Tyy+/rA0bNujXX39V6dKl09UPHTpUjRo10vTp013Qbe57+OGH1bFjR1e3IUkKCgrS1q1bbzlApTp+/Lgeeughff7557r77rtv+TidO3fW1q1bFRQUdFv9OMsrr7yi1q1bKykpSTt37tQLL7yg9evXa9++fapQoYJDx8itz+pWz93Bgwc1depUtWrVKl34evbZZzV69Ohb7qkgWbx4sZKSkiRJH3zwgRo2bOjijvJe1apVtWTJEklSXFyc5s+fryeffFIxMTF69dVXXdxdmuXLl8vPz8/VbQCFAoEMgCSpdu3atl9+WrVqJYvFoilTpmjFihV66KGH0tV/8cUXTuvl6tWr8vHxcdrxMxISEqKQkJA8fc3MeHl56Z577rnt44SGhio2Nva2j1OuXDmVK1cu27orV66oePHit/16OVW9enXb59WiRQuVKlVKQ4cO1aJFi/TMM89k+Jybe82tzyq3zt2NbjeYFyQffvihAgICVKlSJX322Wd6/fXX8/zPAlfz8fGx+x7q1KmTatasqblz5+qll16Sh4dHuucYhqFr167l6Wd155135tlrAYUdUxYBZCg1nJ0+fdpu+86dO9WtWzf5+/vL29tbd955Z4bhbMuWLYqIiJC3t7cqVKigZ599Vu+//366qW+VK1dWly5dtGzZMt15553y9vbW1KlTJUmxsbF65JFHFBISIk9PT1WpUkVTp07V9evX7V5r3rx5qlevnkqUKKGSJUuqZs2amjx5sm3/lStXNG7cOFWpUkXe3t7y9/dXw4YN9dlnn9lqMpqymJKSohkzZqhmzZry8vJSQECAHnzwQZ04ccKurlWrVqpdu7Z27Nih5s2bq3jx4qpataqmT59+S9OMMpoSltrfgQMH1K9fP5nNZpUvX15DhgxRfHy83fMNw9A777yj+vXry8fHR6VLl1avXr30119/2dWtW7dO3bt3V0hIiLy9vVWtWjU98sgj+ueff+zqMpqymPqef/jhBzVp0kTFixfXkCFDJEkJCQm2z9vT01MVKlTQmDFjdPny5Rx/Frci9ZfZv//+W1LaZ7d792716tVLpUuXtoUcRz8rwzA0Y8YMVapUSd7e3rrrrru0Zs2adK+d2XS+X3/9Vf369VP58uXl5eWlihUr6sEHH1RiYqIWLVqk3r17S5Jat25tm66WeoyMpixeu3ZNkyZNsvuMH3vsMV24cMGuLvXnKzo6WnfddZd8fHxUs2ZNffjhhw59lqdOnVKfPn1UsmRJmc1m9e3bN9Pg6uifDZnZvn279u/fr8jISA0bNkzx8fFaunRpujpHf95Sp7R+9tlneuaZZxQcHCw/Pz+1a9dOv/32W7rPKaPpdzdPSb127ZrGjh2r+vXry2w2y9/fXxEREfrqq68cfp855eHhoQYNGujKlSs6c+aMJMlkMunxxx/X/PnzVatWLXl5eemjjz6SJP3xxx/q37+/AgIC5OXlpVq1auntt9+2O2bqZ/Ppp59q4sSJCgoKUokSJdS1a1edPn1aFy9e1PDhw1W2bFmVLVtWDz30kC5dumR3jJs/s8ymNqe+1saNG23bUs/h1q1b1aRJE/n4+Khy5cpauHChJOmbb77RXXfdpeLFi6tOnTqKjo7OpU8TyJ8YIQOQoSNHjkiSatSoYdu2YcMGdezYUY0bN9b8+fNlNpsVFRWlvn376sqVK7a/nH/55Rfde++9qlGjhj766CMVL15c8+fP1yeffJLha+3evVuHDh3Sf/7zH1WpUkW+vr6KjY1Vo0aNVKxYMT333HO64447tHXrVr300ks6evSo7S/uqKgojRw5Uk888YRee+01FStWTH/++acOHjxoO/5TTz2lxYsX66WXXtKdd96py5cva//+/Tp79myWn8GIESP07rvv6vHHH1eXLl109OhRPfvss9q4caN2796tsmXL2mpjY2M1YMAAjR07VlOmTNHy5cs1adIkBQcH68EHH7ylc5CRf//73+rbt6+GDh2qffv2adKkSZJk9wv2I488okWLFmnUqFF69dVXde7cOb3wwgtq0qSJfv75Z5UvX16SdPjwYUVEROjhhx+W2WzW0aNH9frrr6tZs2bat29fhv8Sf6OYmBgNHDhQEyZM0CuvvKJixYrpypUratmypU6cOKHJkyerbt26OnDggJ577jnt27dP3333ndOv1fvzzz8lKd2oXs+ePfXAAw/o0UcftYVDRz+rqVOnaurUqRo6dKh69eql48ePa9iwYbJYLAoLC8uyn59//lnNmjVT2bJl9cILL6h69eqKiYnRypUrlZSUpM6dO+uVV17R5MmT9fbbb+uuu+6SlPnImGEY6tGjh9avX69JkyapefPm+uWXXzRlyhRt3bpVW7dulZeXl93rjx07Vk8//bTKly+v999/X0OHDlW1atXUokWLTPu+evWq2rVrp1OnTmnatGmqUaOGvvnmG/Xt2zddraN/NmTlgw8+kCQNGTJEoaGhGjNmjD744AMNHDgwXW1Oft4mT56spk2b6v3331dCQoImTpyorl276tChQ3Jzc8u2rxslJibq3LlzGjdunCpUqKCkpCR999136tmzpxYuXJirP+s3Onz4sNzd3e2mj69YsUKbN2/Wc889p8DAQAUEBOjgwYNq0qSJKlasqFmzZikwMFDffvutRo0apX/++UdTpkyxO+7kyZPVunVrLVq0SEePHtW4cePUr18/ubu7q169evrss8+0Z88eTZ48WSVLltSbb76Za+8pNjZWDz30kCZMmKCQkBC99dZbGjJkiI4fP64vv/xSkydPltls1gsvvKAePXror7/+UnBwcK69PpCvGACKtIULFxqSjG3bthnJycnGxYsXjejoaCMwMNBo0aKFkZycbKutWbOmceedd9ptMwzD6NKlixEUFGRYLBbDMAyjd+/ehq+vr3HmzBlbjcViMcLDww1JxpEjR2zbK1WqZLi5uRm//fab3TEfeeQRo0SJEsbff/9tt/21114zJBkHDhwwDMMwHn/8caNUqVJZvsfatWsbPXr0yLJmypQpxo1/JB46dMiQZIwcOdKubvv27YYkY/LkybZtLVu2NCQZ27dvt6sNDw83OnTokOXrGob1Mxg0aJDt8ZEjRwxJxsKFC9P1N2PGDLvnjhw50vD29jZSUlIMwzCMrVu3GpKMWbNm2dUdP37c8PHxMSZMmJBhDykpKUZycrLx999/G5KMr776yrYv9XvkxvOW+p7Xr19vd5xp06YZxYoVM3bs2GG3/csvvzQkGatXr87283DUhg0bDEnG559/biQnJxtXrlwxfvjhB6NatWqGm5ub8fPPPxuGkfbZPffcc3bPd/SzOn/+vOHt7W3cf//9dnX/+9//DElGy5YtbdsyOndt2rQxSpUqZcTFxWX6Xv773/8akowNGzak2zdo0CCjUqVKtsfR0dEZfi98/vnnhiTj3XfftW2rVKmS4e3tbfdzdPXqVcPf39945JFHMu3HMAxj3rx56b4XDMMwhg0blu49OvpnQ2YuX75s+Pn5Gffcc4/d+zaZTMaff/5pV+voz1vq98d9991nV/fFF18YkoytW7fatt38M3jja914fm92/fp1Izk52Rg6dKhx55132u3L7JhZadmypfGvf/3LSE5ONpKTk41Tp04ZTz/9tCHJ6N27t61OkmE2m41z587ZPb9Dhw5GSEiIER8fb7f98ccfN7y9vW31qZ9N165d7erGjBljSDJGjRplt71Hjx6Gv79/lu8voz8nbnytG7+3U8/hzp07bdvOnj1ruLm5GT4+PsbJkydt2/fu3WtIMt58881MPjWg4GPKIgBJ1mleHh4eKlmypDp27KjSpUvrq6++kru7dSD9zz//1K+//qoBAwZIkq5fv277uu+++xQTE2ObBrRp0ya1adPGbgSpWLFi6tOnT4avXbduXbuROEn6+uuv1bp1awUHB9u9VqdOnWyvIUmNGjXShQsX1K9fP3311Vfpptul1qxZs0ZPP/20Nm7cqKtXr2b7eWzYsEGS0v3LfqNGjVSrVi2tX7/ebntgYKAaNWqU7n2lTpvLLd26dUv3GteuXVNcXJwk6+dmMpk0cOBAu88tMDBQ9erVs5s2FBcXp0cffVShoaFyd3eXh4eHKlWqJEkOrVJYunRptWnTxm7b119/rdq1a6t+/fp2r9+hQ4d005ZuZhiG3XNunpqamb59+8rDw0PFixdXixYtZLFY9OWXX6pu3bp2df/+97/T9erIZ7V161Zdu3bN9r2fqkmTJrbPKzNXrlzRpk2b1KdPH4euw3PE999/Lyn992bv3r3l6+ub7nuzfv36qlixou2xt7e3atSoke335oYNG1SyZMl033P9+/e3e5yTPxsy88UXXyghIcE27VWyjpQZhmEbDb9RTn7eMvqZkXTLP5v//e9/1bRpU5UoUcL2c/PBBx/c0sqeGTlw4IA8PDzk4eGh4OBgzZo1SwMGDNB7771nV9emTRu7EbNr165p/fr1uv/++1W8ePF05+HatWvatm2b3TG6dOli97hWrVqSrAv53Lz93Llz6aYt3o6goCA1aNDA9tjf318BAQGqX7++3UhYak+5/WcpkJ8wZRGAJOnjjz9WrVq1dPHiRX3++edasGCB+vXrZ7tOJvVasnHjxmncuHEZHiM1DJ09e9Y21etGGW2TlOHqfadPn9aqVasynTaX+lqRkZG6fv263nvvPf373/9WSkqK7r77br300ku69957JUlvvvmmQkJC9Pnnn+vVV1+Vt7e3OnTooJkzZ6p69eoZHj91OmNGvQUHB6f75aBMmTLp6ry8vBwKfzlx8+ukTk1LfZ3Tp0/LMIxMP+uqVatKsl4f1759e506dUrPPvus6tSpI19fX6WkpOiee+5xqO/Mztuff/6Z7XnLyEcffZRuARnDMLLt49VXX1WbNm3k5uamsmXLKjQ01KF+Hf2sUr8XAgMD09VktO1G58+fl8ViydUFY86ePSt3d/d0Ac9kMikwMDDdVNxb/d7M7Of45veckz8bMvPBBx/I29tbHTt2tF0HV7duXVWuXFmLFi3S1KlT7aYX5uQ9ZfczkxPLli1Tnz591Lt3b40fP16BgYFyd3fXvHnzHL4uLzt33HGHoqKiZDKZ5O3trSpVqmS4WM7N389nz57V9evX9dZbb2V6b8ibz4O/v7/dY09Pzyy3X7t2TSVKlMjZG8rEza+R+jpZvTZQWBHIAEiy/itk6kIerVu3lsVi0fvvv68vv/xSvXr1so12TZo0ST179szwGKnX0pQpUybdYiCSMl0MIKNrisqWLau6devq5ZdfzvA5N/4L6kMPPaSHHnpIly9f1g8//KApU6aoS5cu+v3331WpUiX5+vrargE6ffq0bbSsa9eu+vXXXzM8fuovcTExMel+mT516pTd6F9+UrZsWZlMJm3evNnuOqJUqdv279+vn3/+WYsWLdKgQYNs+1Ovv3JEZufNx8cn019Os/rcunbtqh07djj8+qmqVq3q0PLoN/fr6GeV+r2Q0fdvbGxslvcI8/f3l5ubW7qFYG5HmTJldP36dZ05c8YulBmGodjY2Ntatv/m1/npp5/Sbb/5c8jJnw0Z+f3337VlyxZJshvJu9G3336r++67z6G+b4W3t7cSExPTbf/nn3/svmc/+eQTValSRZ9//rnd91NGz72dXm7l+7l06dJyc3NTZGSkHnvssQyfU6VKlVzpMSPe3t6S0n8W2YVxAAQyAJmYMWOGli5dqueee049e/ZUWFiYqlevrp9//lmvvPJKls9t2bKlVq9ebffLTEpKiv773/86/PpdunTR6tWrdccdd2R4H7SM+Pr6qlOnTkpKSlKPHj104MCBdFPKypcvr8GDB+vnn3/W7NmzM12qPXUq3ieffGL3C+6OHTt06NChTJdTd7UuXbpo+vTpOnnyZKZTRKW0X+ZuDiILFiy47dd/5ZVXVKZMmRz/8lemTJkMRz6cxdHP6p577pG3t7eWLFliN+3xxx9/1N9//51lIPPx8VHLli313//+Vy+//HKmgTQnozZt27bVjBkz9Mknn+jJJ5+0bV+6dKkuX76stm3bZnsMR7Ru3VpffPGFVq5caTft79NPP7Wry8mfDRlJXczjvffeU7Vq1ez2Xb16Vd27d9eHH37o1EBWuXJl/fLLL3bbfv/9d/32229258xkMsnT09MuDMXGxjp1lUVHFS9eXK1bt9aePXtUt25d28hSXkn9Ofjll1/sAvjKlSvztA+gICKQAchQ6dKlNWnSJE2YMEGffvqpBg4cqAULFqhTp07q0KGDBg8erAoVKujcuXM6dOiQdu/ebQtczzzzjFatWqW2bdvqmWeekY+Pj+bPn29b2a5YsewvX33hhRe0bt06NWnSRKNGjVJYWJiuXbumo0ePavXq1Zo/f75CQkI0bNgw+fj4qGnTpgoKClJsbKymTZsms9lsC1KNGzdWly5dVLduXZUuXVqHDh3S4sWLFRERkel9s8LCwjR8+HC99dZbKlasmDp16mRbZTE0NNTuF+H8pGnTpho+fLgeeugh7dy5Uy1atJCvr69iYmK0ZcsW1alTRyNGjFDNmjV1xx136Omnn5ZhGPL399eqVau0bt2623r9MWPGaOnSpWrRooWefPJJ1a1bVykpKTp27JjWrl2rsWPHqnHjxrn0bm+Po59V6dKlNW7cOL300kt6+OGH1bt3bx0/flzPP/98tlMWJdlWrmzcuLGefvppVatWTadPn9bKlSu1YMEClSxZUrVr15YkvfvuuypZsqRtqlpGAfXee+9Vhw4dNHHiRCUkJKhp06a2VRbvvPNORUZG5srn8+CDD+qNN97Qgw8+qJdfflnVq1fX6tWr9e2336ardfTPhptdv37dNl364YcfzrCma9euWrlyZboRwdwUGRmpgQMHauTIkfr3v/+tv//+WzNmzEj3eqm36Bg5cqRttc0XX3xRQUFB+uOPP5zSW07MmTNHzZo1U/PmzTVixAhVrlxZFy9e1J9//qlVq1bZrj90hrvvvlthYWEaN26crl+/rtKlS2v58uW20U8AmSOQAcjUE088oblz5+qFF15Qv3791Lp1a/300096+eWXNWbMGJ0/f15lypRReHi43QhDvXr1tG7dOo0bN04PPvigSpcurcjISLVs2VITJ06U2WzO9rWDgoK0c+dOvfjii5o5c6ZOnDihkiVLqkqVKrZFRySpefPmWrRokb744gudP39eZcuWVbNmzfTxxx/bfplq06aNVq5cqTfeeENXrlxRhQoV9OCDD2Y7yjVv3jzdcccd+uCDD/T222/LbDarY8eOmjZtWp6O5OTUggULdM8992jBggV65513lJKSouDgYDVt2tS2EIKHh4dWrVql0aNH65FHHpG7u7vatWun7777LtNpY47w9fXV5s2bNX36dL377rs6cuSIfHx8VLFiRbVr1y7L0SRXcOSzkqz/QODr66t33nlHixcvVs2aNTV//ny99tpr2b5GvXr19NNPP2nKlCmaNGmSLl68qMDAQLVp08Y2ilGlShXNnj1bc+bMsd2YfeHChRkuF28ymbRixQo9//zzWrhwoW3kLTIyUq+88kqG0y9vRfHixfX9999r9OjRevrpp2UymdS+fXtFRUWpSZMmdrWO/tlws2+++UaxsbF6+umnM60ZPny4li1bpsWLF+upp57Klfd2s/79++vUqVOaP3++Fi5cqNq1a2vevHm2eyKmeuihhxQXF6f58+frww8/VNWqVfX000/rxIkT6WpdITw8XLt379aLL76o//znP4qLi1OpUqVUvXp1p44wSpKbm5tWrVqlxx9/XI8++qi8vLz0wAMPaO7cuekWCQFgz2Q4csU0AOSC9u3b6+jRo/r9999d3QoAAEC+wAgZAKd46qmndOeddyo0NFTnzp3TkiVLtG7dOtv1IgAAACCQAXASi8Wi5557TrGxsTKZTAoPD9fixYs1cOBAV7cGAHnKYrFkeQsHk8lkt6w/gKKFKYsAAABOVLly5SxvbNyyZcssb5oOoHBjhAwAAMCJVq1aleW9ykqWLJmH3QDIbxghAwAAAAAXyf5mQAAAAAAAp2DKYi5KSUnRqVOnVLJkSZlMJle3AwAAAMBFDMPQxYsXFRwcrGLFMh8HI5DlolOnTik0NNTVbQAAAADIJ44fP66QkJBM9xPIclHqRbnHjx+Xn5+fi7sBAAAA4CoJCQkKDQ3NduEeAlkuSp2m6OfnRyADAAAAkO2lTCzqAQAAAAAuQiADAAAAABdxaSCbN2+e6tata5viFxERoTVr1tj2X7p0SY8//rhCQkLk4+OjWrVqad68eXbHSExM1BNPPKGyZcvK19dX3bp104kTJ+xqzp8/r8jISJnNZpnNZkVGRurChQt2NceOHVPXrl3l6+ursmXLatSoUUpKSnLaewcAAAAAl15DFhISounTp6tatWqSpI8++kjdu3fXnj179K9//UtPPvmkNmzYoE8++USVK1fW2rVrNXLkSAUHB6t79+6SpDFjxmjVqlWKiopSmTJlNHbsWHXp0kW7du2Sm5ubJKl///46ceKEoqOjJUnDhw9XZGSkVq1aJUmyWCzq3LmzypUrpy1btujs2bMaNGiQDMPQW2+9lavv2TAMXb9+XRaLJVePC2TFzc1N7u7u3I4BAAAgnzEZhmG4uokb+fv7a+bMmRo6dKhq166tvn376tlnn7Xtb9Cgge677z69+OKLio+PV7ly5bR48WL17dtXUtrS86tXr1aHDh106NAhhYeHa9u2bWrcuLEkadu2bYqIiNCvv/6qsLAwrVmzRl26dNHx48cVHBwsSYqKitLgwYMVFxfn8AIdCQkJMpvNio+Pz/A5SUlJiomJ0ZUrV273YwJyrHjx4goKCpKnp6erWwEAACj0sssGqfLNKosWi0X//e9/dfnyZUVEREiSmjVrppUrV2rIkCEKDg7Wxo0b9fvvv2vOnDmSpF27dik5OVnt27e3HSc4OFi1a9fWjz/+qA4dOmjr1q0ym822MCZJ99xzj8xms3788UeFhYVp69atql27ti2MSVKHDh2UmJioXbt2qXXr1hn2nJiYqMTERNvjhISETN9fSkqKjhw5Ijc3NwUHB8vT05PRCuQJwzCUlJSkM2fO6MiRI6pevXqWNycEAABA3nF5INu3b58iIiJ07do1lShRQsuXL1d4eLgk6c0339SwYcMUEhIid3d3FStWTO+//76aNWsmSYqNjZWnp6dKly5td8zy5csrNjbWVhMQEJDudQMCAuxqypcvb7e/dOnS8vT0tNVkZNq0aZo6dapD7zMpKUkpKSkKDQ1V8eLFHXoOkFt8fHzk4eGhv//+W0lJSfL29nZ1SwAAAFA+WGUxLCxMe/fu1bZt2zRixAgNGjRIBw8elGQNZNu2bdPKlSu1a9cuzZo1SyNHjtR3332X5TENw7AbfcpoJOpWam42adIkxcfH276OHz+e7ftlZAKuwvceAABA/uPyETJPT0/boh4NGzbUjh07NGfOHM2ePVuTJ0/W8uXL1blzZ0lS3bp1tXfvXr322mtq166dAgMDlZSUpPPnz9uNksXFxalJkyaSpMDAQJ0+fTrd6545c8Y2KhYYGKjt27fb7T9//rySk5PTjZzdyMvLS15eXrf3AQAAAAAosvLdP5kbhqHExEQlJycrOTk53b/qu7m5KSUlRZJ1gQ8PDw+tW7fOtj8mJkb79++3BbKIiAjFx8frp59+stVs375d8fHxdjX79+9XTEyMrWbt2rXy8vJSgwYNnPZecfsuXLigqVOn2p27otwHAAAAChaXBrLJkydr8+bNOnr0qPbt26dnnnlGGzdu1IABA+Tn56eWLVtq/Pjx2rhxo44cOaJFixbp448/1v333y9JMpvNGjp0qMaOHav169drz549GjhwoOrUqaN27dpJkmrVqqWOHTtq2LBh2rZtm7Zt26Zhw4apS5cuCgsLkyS1b99e4eHhioyM1J49e7R+/XqNGzdOw4YNc3iFRbjG4MGDdfXqVQUFBRXIPkwmk1asWCFJOnr0qEwmk/bu3Zv7DQIAACBfcmkgO336tCIjIxUWFqa2bdtq+/btio6O1r333ivJuvT83XffrQEDBig8PFzTp0/Xyy+/rEcffdR2jDfeeEM9evRQnz591LRpUxUvXlyrVq2y3YNMkpYsWaI6deqoffv2at++verWravFixfb9ru5uembb76Rt7e3mjZtqj59+qhHjx567bXX8u7DyKcGDx4sk8kkk8kkDw8PlS9fXvfee68+/PBD20ilq8yaNUslSpTQtGnT6AMAAAAFUr67D1lBltW9Bq5du6YjR46oSpUqt7XCncUibd4sxcRIQUFS8+bSDdkz1w0ePFinT5/WwoULZbFYdPr0aUVHR2vatGlq3ry5Vq5cKXd3l1+KmKeSk5Pl4eGRK8cymUxavny5evTooaNHj6pKlSras2eP6tevnyvHv1FufQ8CAAAge47ehyzfXUOGzC1bJlWuLLVuLfXvb/1v5crW7c7k5eWlwMBAVahQQXfddZcmT56sr776SmvWrNGiRYtsdceOHVP37t1VokQJ+fn5qU+fPnYLqjz//POqX7++Fi9erMqVK8tsNuuBBx7QxYsXbTWtWrXSqFGjNGHCBPn7+yswMFDPP/+8XT/x8fEaPny4AgIC5OfnpzZt2ujnn3+2q1m1apUaNGggb29vVa1aVVOnTtX169fteqlYsaK8vLwUHBysUaNGZfr+U/v+8MMPVbVqVXl5eckwjFzpIzsHDx7UfffdpxIlSqh8+fKKjIzUP//8Y9v/5Zdfqk6dOvLx8VGZMmXUrl07Xb582eHjAwAA5AaLRdq4UfrsM+t/LRZXd1RwEMgKiGXLpF69pBMn7LefPGnd7uxQdrM2bdqoXr16Wvb/L2wYhnr06KFz585p06ZNWrdunQ4fPqy+ffvaPe/w4cNasWKFvv76a3399dfatGmTpk+fblfz0UcfydfXV9u3b9eMGTP0wgsv2BZuMQxDnTt3VmxsrFavXq1du3bprrvuUtu2bXXu3DlJ0rfffquBAwdq1KhROnjwoBYsWKBFixbp5ZdflmQNMW+88YYWLFigP/74QytWrFCdOnWyfL9//vmnvvjiCy1dutR2jdft9pGdmJgYtWzZUvXr19fOnTsVHR2t06dPq0+fPrb9/fr105AhQ3To0CFt3LhRPXv2FIPeAAAgL7lq0KDQMJBr4uPjDUlGfHx8un1Xr141Dh48aFy9ejXHx71+3TBCQgxDyvjLZDKM0FBrXW4bNGiQ0b179wz39e3b16hVq5ZhGIaxdu1aw83NzTh27Jht/4EDBwxJxk8//WQYhmFMmTLFKF68uJGQkGCrGT9+vNG4cWPb45YtWxrNmjWze527777bmDhxomEYhrF+/XrDz8/PuHbtml3NHXfcYSxYsMAwDMNo3ry58corr9jtX7x4sREUFGQYhmHMmjXLqFGjhpGUlOTQZzBlyhTDw8PDiIuLs23LjT4MwzAkGcuXLzcMwzCOHDliSDL27NljGIZhPPvss0b79u3tnn/8+HFDkvHbb78Zu3btMiQZR48edeh93M73IAAAQEaWLrX+LprR76cmk3V/UZVVNrhR0br4p4DavDn9yNiNDEM6ftxa16pVnrVld+PsQ4cOKTQ0VKGhobb94eHhKlWqlA4dOqS7775bklS5cmWVLFnSVhMUFKS4uDi749atW9fu8Y01u3bt0qVLl1SmTBm7mqtXr+rw4cO2mh07dtiNRFksFl27dk1XrlxR7969NXv2bFWtWlUdO3bUfffdp65du2Z5LVylSpVUrlw52+Pc6KN48eKZvl7q8zds2KASJUqk23f48GG1b99ebdu2VZ06ddShQwe1b99evXr1srsnHwAAgLNYLNLo0dbfRW9mGJLJJI0ZI3Xv7tw1Dwo6AlkB4OitrfL6FliHDh1SlSpVJNmHsxvdvP3mxTBMJlO61RqzqklJSVFQUJA2btyY7rVKlSplq5k6dap69uyZrsbb21uhoaH67bfftG7dOn333XcaOXKkZs6cqU2bNmW6WIevr6/d49zoIzspKSnq2rWrXn311XT7goKC5ObmpnXr1unHH3/U2rVr9dZbb+mZZ57R9u3bbecFAADAWfLroEFBQyArABy9tVVe3orr+++/1759+/Tkk09Kso6GHTt2TMePH7eNkh08eFDx8fGqVatWrr3uXXfdpdjYWLm7u6ty5cqZ1vz222+qVq1apsfx8fFRt27d1K1bNz322GOqWbOm9u3bp7vuuitP+8juNZYuXarKlStnOnpnMpnUtGlTNW3aVM8995wqVaqk5cuX66mnnrql1wQAAHBUfh00KGgIZAVA8+ZSSIh1AY+MhoRNJuv+5s2d8/qJiYmKjY1Nt+x9ly5d9OCDD0qS2rVrp7p162rAgAGaPXu2rl+/rpEjR6ply5Zq2LBhrvXSrl07RUREqEePHnr11VcVFhamU6dOafXq1erRo4caNmyo5557Tl26dFFoaKh69+6tYsWK6ZdfftG+ffv00ksvadGiRbJYLGrcuLGKFy+uxYsXy8fHR5UqVcrTPrLz2GOP6b333lO/fv00fvx4lS1bVn/++aeioqL03nvvaefOnVq/fr3at2+vgIAAbd++XWfOnMnVAAwAAJCZ/DhoUBCxymIB4OYmzZlj/f+bZwWmPp4923lzc6OjoxUUFKTKlSurY8eO2rBhg95880199dVXthtwm0wmrVixQqVLl1aLFi3Url07Va1aVZ9//nmu9mIymbR69Wq1aNFCQ4YMUY0aNfTAAw/o6NGjKl++vCSpQ4cO+vrrr7Vu3Trdfffduueee/T666/bAlepUqX03nvvqWnTpqpbt67Wr1+vVatWpbsezNl9ZCc4OFj/+9//ZLFY1KFDB9WuXVujR4+W2WxWsWLF5Ofnpx9++EH33XefatSoof/85z+aNWuWOnXqlMNPFQAAIOdSBw0yuGpFknV7aKjzBg0KC24MnYucfWPoZcusF07eOFc3NNQaxjK4TAmww42hAQBAbku9NZNkP5MrNaR9+WXR/T2VG0MXQj17SkePShs2SJ9+av3vkSNF95scAAAArtWzpzV0Vahgvz0kpGiHsZzgGrICxs2NVWoAAACQf/TsaV3afvNm6wIeQUHWaYosde8YAhkAAACA28Kgwa1jyiIAAAAAuAiBDAAAAABchEAGAAAAAC5CIAMAAAAAFyGQAQAAAICLEMjgdBcuXNDUqVMVExPj6lYAAACAfIVABqcbPHiwrl69qqCgoCzrnn/+edWvX9/ueT169Ljt177dYwAAAADOQiBDtgYPHiyTySSTySQPDw9VrVpV48aN0+XLl7N97qxZs1SiRAlNmzYtx687Z84cLVq0yKHao0ePymQyae/evbd8DAAAACCvcWNoOKRjx45auHChkpOTtXnzZj388MO6fPmy5s2bZ1eXnJwsDw8P2+OxY8fe8muazeZbfm5uHgMAAABwFkbI4BAvLy8FBgYqNDRU/fv314ABA7RixQrbNMMPP/xQVatWlZeXlwzDUHx8vIYPH66AgAD5+fmpTZs2+vnnn+2OOX36dJUvX14lS5bU0KFDde3aNbv9N083TElJ0auvvqpq1arJy8tLFStW1MsvvyxJqlKliiTpzjvvlMlkUqv/v1X8zcdITEzUqFGjFBAQIG9vbzVr1kw7duyw7d+4caNMJpPWr1+vhg0bqnjx4mrSpIl+++23XPw0AQAAACtGyFypYUMpNjbvXzcwUNq587YO4ePjo+TkZEnSn3/+qS+++EJLly6Vm5ubJKlz587y9/fX6tWrZTabtWDBArVt21a///67/P399cUXX2jKlCl6++231bx5cy1evFhvvvmmqlatmulrTpo0Se+9957eeOMNNWvWTDExMfr1118lST/99JMaNWqk7777Tv/617/k6emZ4TEmTJigpUuX6qOPPlKlSpU0Y8YMdejQQX/++af8/f1tdc8884xmzZqlcuXK6dFHH9WQIUP0v//977Y+MwAAAOBmBDJXio2VTp50dRc59tNPP+nTTz9V27ZtJUlJSUlavHixypUrJ0n6/vvvtW/fPsXFxcnLy0uS9Nprr2nFihX68ssvNXz4cM2ePVtDhgzRww8/LEl66aWX9N1336UbJUt18eJFzZkzR3PnztWgQYMkSXfccYeaNWsmSbbXLlOmjAIDAzM8RuoUy0WLFqlTp06SpPfee0/r1q3TBx98oPHjx9tqX375ZbVs2VKS9PTTT6tz5866du2avL29b/2DAwAAAG5CIHOlTIJDfnzdr7/+WiVKlND169eVnJys7t2766233tI777yjSpUq2QKRJO3atUuXLl1SmTJl7I5x9epVHT58WJJ06NAhPfroo3b7IyIitGHDhgxf/9ChQ0pMTLSFwFtx+PBhJScnq2nTprZtHh4eatSokQ4dOmRXW7duXdv/p64OGRcXp4oVK97y6wMAAAA3I5C50m1OG8xLrVu31rx58+Th4aHg4GC7hTt8fX3talNSUhQUFKSNGzemO06pUqVu6fV9fHxu6Xk3MgxDkmQymdJtv3nbje8vdV9KSspt9wAAAADciEU94BBfX19Vq1ZNlSpVsgsrGbnrrrsUGxsrd3d3VatWze6rbNmykqRatWpp27Ztds+7+fGNqlevLh8fH61fvz7D/anXjFkslkyPUa1aNXl6emrLli22bcnJydq5c6dq1aqV5XsCAAAAnIERMuS6du3aKSIiQj169NCrr76qsLAwnTp1SqtXr1aPHj3UsGFDjR49WoMGDVLDhg3VrFkzLVmyRAcOHMh0UQ9vb29NnDhREyZMkKenp5o2baozZ87owIEDGjp0qAICAuTj46Po6GiFhITI29s73ZL3vr6+GjFihMaPHy9/f39VrFhRM2bM0JUrVzR06NC8+GgAAAAAOwQy5DqTyaTVq1frmWee0ZAhQ3TmzBkFBgaqRYsWKl++vCSpb9++Onz4sCZOnKhr167p3//+t0aMGKFvv/020+M+++yzcnd313PPPadTp04pKCjIdh2au7u73nzzTb3wwgt67rnn1Lx58wynTE6fPl0pKSmKjIzUxYsX1bBhQ3377bcqXbq0Uz4LAAAAICsmI/XCGty2hIQEmc1mxcfHy8/Pz27ftWvXdOTIEVWpUoWV+uASfA8CAADknayywY24hgwAAAAAXIRABgAAAAAuQiADAAAAABchkAEAAACAixDI8hhrqMBV+N4DAADIfwhkeST1ZspXrlxxcScoqlK/97K7sTcAAADyDvchyyNubm4qVaqU4uLiJEnFixeXyWRycVcoCgzD0JUrVxQXF6dSpUrJzc3N1S0BAADg/xHI8lBgYKAk2UIZkJdKlSpl+x4EAABA/kAgy0Mmk0lBQUEKCAhQcnKyq9tBEeLh4cHIGAAAQD5EIHMBNzc3fjkGAAAAwKIeAAAAAOAqBDIAAAAAcBECGQAAAAC4CIEMAAAAAFyEQAYAAAAALkIgAwAAAAAXIZABAAAAgIsQyAAAAADARQhkAAAAAOAiBDIAAAAAcBECGQAAAAC4CIEMAAAAAFyEQAYAAAAALkIgAwAAAAAXIZABAAAAgIsQyAAAAADARQhkAAAAAOAiBDIAAAAAcBECGQAAAAC4CIEMAAAAAFyEQAYAAAAALkIgAwAAAAAXIZABAAAAgIsQyAAAAADARQhkAAAAAOAiBDIAAAAAcBECGQAAAAC4iEsD2bx581S3bl35+fnJz89PERERWrNmjV3NoUOH1K1bN5nNZpUsWVL33HOPjh07ZtufmJioJ554QmXLlpWvr6+6deumEydO2B3j/PnzioyMlNlsltlsVmRkpC5cuGBXc+zYMXXt2lW+vr4qW7asRo0apaSkJKe9dwAAAABwaSALCQnR9OnTtXPnTu3cuVNt2rRR9+7ddeDAAUnS4cOH1axZM9WsWVMbN27Uzz//rGeffVbe3t62Y4wZM0bLly9XVFSUtmzZokuXLqlLly6yWCy2mv79+2vv3r2Kjo5WdHS09u7dq8jISNt+i8Wizp076/Lly9qyZYuioqK0dOlSjR07Nu8+DAAAAABFjskwDMPVTdzI399fM2fO1NChQ/XAAw/Iw8NDixcvzrA2Pj5e5cqV0+LFi9W3b19J0qlTpxQaGqrVq1erQ4cOOnTokMLDw7Vt2zY1btxYkrRt2zZFRETo119/VVhYmNasWaMuXbro+PHjCg4OliRFRUVp8ODBiouLk5+fn0O9JyQkyGw2Kz4+3uHnAAAAACh8HM0G+eYaMovFoqioKF2+fFkRERFKSUnRN998oxo1aqhDhw4KCAhQ48aNtWLFCttzdu3apeTkZLVv3962LTg4WLVr19aPP/4oSdq6davMZrMtjEnSPffcI7PZbFdTu3ZtWxiTpA4dOigxMVG7du3KtOfExEQlJCTYfQEAAACAo1weyPbt26cSJUrIy8tLjz76qJYvX67w8HDFxcXp0qVLmj59ujp27Ki1a9fq/vvvV8+ePbVp0yZJUmxsrDw9PVW6dGm7Y5YvX16xsbG2moCAgHSvGxAQYFdTvnx5u/2lS5eWp6enrSYj06ZNs12XZjabFRoaelufBQAAAICixd3VDYSFhWnv3r26cOGCli5dqkGDBmnTpk0qVaqUJKl79+568sknJUn169fXjz/+qPnz56tly5aZHtMwDJlMJtvjG///dmpuNmnSJD311FO2xwkJCYQyAAAAAA5z+QiZp6enqlWrpoYNG2ratGmqV6+e5syZo7Jly8rd3V3h4eF29bVq1bKtshgYGKikpCSdP3/eriYuLs424hUYGKjTp0+ne90zZ87Y1dw8Enb+/HklJyenGzm7kZeXl22FyNQvAAAAAHCUywPZzQzDUGJiojw9PXX33Xfrt99+s9v/+++/q1KlSpKkBg0ayMPDQ+vWrbPtj4mJ0f79+9WkSRNJUkREhOLj4/XTTz/ZarZv3674+Hi7mv379ysmJsZWs3btWnl5ealBgwZOe68AAAAAijaXTlmcPHmyOnXqpNDQUF28eFFRUVHauHGjoqOjJUnjx49X37591aJFC7Vu3VrR0dFatWqVNm7cKEkym80aOnSoxo4dqzJlysjf31/jxo1TnTp11K5dO0nWEbWOHTtq2LBhWrBggSRp+PDh6tKli8LCwiRJ7du3V3h4uCIjIzVz5kydO3dO48aN07Bhwxj1AgAAAOA0Lg1kp0+fVmRkpGJiYmQ2m1W3bl1FR0fr3nvvlSTdf//9mj9/vqZNm6ZRo0YpLCxMS5cuVbNmzWzHeOONN+Tu7q4+ffro6tWratu2rRYtWiQ3NzdbzZIlSzRq1CjbaozdunXT3Llzbfvd3Nz0zTffaOTIkWratKl8fHzUv39/vfbaa3n0SQAAAAAoivLdfcgKMu5DBgAAAEAqgPchAwAAAICihkAGAAAAAC5CIAMAAAAAFyGQAQAAAICLEMgAAAAAwEUIZAAAAADgIgQyAAAAAHARAhkAAAAAuAiBDAAAAABchEAGAAAAAC5CIAMAAAAAFyGQAQAAAICLEMgAAAAAwEUIZAAAAADgIgQyAAAAAHARAhkAAAAAuAiBDAAAAABchEAGAAAAAC5CIAMAAAAAFyGQAQAAAICLEMgAAAAAwEUIZAAAAADgIgQyAAAAAHARAhkAAAAAuAiBDAAAAABchEAGAAAAAC5CIAMAAAAAFyGQAQAAAICLEMgAAAAAwEUIZAAAAADgIgQyAAAAAHARAhkAAAAAuAiBDAAAAEDB9fffUqNGkslk/Xr6aVd3lCMEMgAAAAAFy7Vr0hNPWANY5crSjh1p+776ymVt3Qp3VzcAAAAAAA755BMpMjLrmnnz8qaXXMIIGQAAAID865dfpIoVraNhWYWxd9+VUlKkVq3yrLXcQCADAAAAkL9cuCD17m0NYfXqScePZ1w3dKh06ZJkGNKwYdb6AoYpiwAAAABcLyVFev11afz4rOtq15aWLZOqV8+bvpyMQAYAAADAdTZulNq3l5KTs65bsULq3j0vOspTTFkEAAAAkLdOnpSaN7dOMWzdOvMw9swz1n2GUSjDmMQIGQAAAIC8cPmyVKJE9nXt2llXUyxf3vk95QOMkAEAAABwntTFObIKYyVLSlu2WEfC1q0rMmFMIpABAAAAyG1Ll1pDmMkkffll5nVvvmldzCMhQWraNO/6y0eYsggAAADg9p06JVWo4HhtUJBz+ykgGCEDAAAAcGtSUtJGwrILY8uXW6ckGgZh7AYEMgAAAAA5c//91hDm5pZ13QMPpIWwHj3ypLWChimLAAAAALK3dq3UoYNjtZcuSb6+zu2nkGCEDAAAAEDGLl1Km5KYXRhbsSJtNIww5jBGyAAAAADYK1NGOncu+7o2baT1653fTyHGCBkAAAAAac6ctNGw7MJYcrJ1JIwwdtsYIQMAAACKqqNHpSpVHKv95RepTh2ntlMUMUIGAAAAFCWGkTYSll0Ye/rptOvCCGNOwQgZAAAAUBQMGiR9/LFjtYbh3F5gQyADAAAACqvNm6UWLRyrjYuTypVzbj9IhymLAAAAQGFy9WralMTswtinn6ZNSSSMuQQjZAAAAEBhUL269Oef2dfdeae0e7fz+4FDGCEDAAAACqoPPkgbDcsujCUmWkfCCGP5CiNkAAAAQEFy6pRUoYJjtdu3S40aObcf3BYCGQAAAIoEi8W6xkVMjBQUJDVvLrm5uborBxmGVMzByW0jR0pvv+3cfpBrCGQAAAAo9JYtk0aPlk6cSNsWEiLNmSP17Om6vrI1apT01luO1aakWKcuokDhGjIAAAAUasuWSb162YcxSTp50rp92TLX9JWpnTvTrgvLLoydOJG2SiJhrEAikAEAAKDQslisI2MZ3ec4dduYMdY6l0pKSgthd9+dde2776aFMEevJUO+RSADAABAobV5c/qRsRsZhnT8uLXOJRo1soYwL6+s6ypXTgthw4blSWvIGwQyAAAAFFoxMblblyuiotJGw3bsyLr2yhVrCDtyJG96Q55jUQ8AAAAUWkFBuVt3y/75RypXzrHaTZukFi2c2w/yDUbIAAAAUGg1b25dTTGz9S5MJik01FrnFKkjYdmFsYED06YkEsaKFJcGsnnz5qlu3bry8/OTn5+fIiIitGbNmgxrH3nkEZlMJs2ePdtue2Jiop544gmVLVtWvr6+6tatm07cNFH4/PnzioyMlNlsltlsVmRkpC5cuGBXc+zYMXXt2lW+vr4qW7asRo0apaSkpNx8uwAAAMhjbm7Wpe2l9KEs9fHs2bl8P7L//CctiGUnJcUawhYvzsUGUJC4NJCFhIRo+vTp2rlzp3bu3Kk2bdqoe/fuOnDggF3dihUrtH37dgUHB6c7xpgxY7R8+XJFRUVpy5YtunTpkrp06SLLDUvl9O/fX3v37lV0dLSio6O1d+9eRUZG2vZbLBZ17txZly9f1pYtWxQVFaWlS5dq7NixznvzAAAAyBM9e0pffpl+QcKQEOv2XLkP2f79aSHs5Zezrv3rL5aqh43JMDJaBNR1/P39NXPmTA0dOlSSdPLkSTVu3FjffvutOnfurDFjxmjMmDGSpPj4eJUrV06LFy9W3759JUmnTp1SaGioVq9erQ4dOujQoUMKDw/Xtm3b1LhxY0nStm3bFBERoV9//VVhYWFas2aNunTpouPHj9tCX1RUlAYPHqy4uDj5+fk51HtCQoLMZrPi4+Mdfg4AAADyhsViXU0xJsZ6zVjz5rc5MmaxSO4OLsnw+uvSk0/exouhoHE0G+Sba8gsFouioqJ0+fJlRURESJJSUlIUGRmp8ePH61//+le65+zatUvJyclq3769bVtwcLBq166tH3/8UZK0detWmc1mWxiTpHvuuUdms9mupnbt2nYjcB06dFBiYqJ27dqVac+JiYlKSEiw+wIAAED+5OYmtWol9etn/e8th7H27a0jW9mFMT+/tJEwwhgy4fJAtm/fPpUoUUJeXl569NFHtXz5coWHh0uSXn31Vbm7u2vUqFEZPjc2Nlaenp4qXbq03fby5csrNjbWVhMQEJDuuQEBAXY15cuXt9tfunRpeXp62moyMm3aNNt1aWazWaGhoY6/cQAAABQcq1alTUlcty7r2oQEawiLj8+b3lCguXzZ+7CwMO3du1cXLlzQ0qVLNWjQIG3atElXr17VnDlztHv3bplyOLfWMAy752T0/FupudmkSZP01FNP2R4nJCQQygAAAAqL+HipVCnHateskTp2dGo7KJxcHsg8PT1VrVo1SVLDhg21Y8cOzZkzR7Vq1VJcXJwqVqxoq7VYLBo7dqxmz56to0ePKjAwUElJSTp//rzdKFlcXJyaNGkiSQoMDNTp06fTve6ZM2dso2KBgYHavn273f7z588rOTk53cjZjby8vOSV3V3VAQAAULB4ekrJydnXde0qrVzp/H5QqLl8yuLNDMNQYmKiIiMj9csvv2jv3r22r+DgYI0fP17ffvutJKlBgwby8PDQuhuGjWNiYrR//35bIIuIiFB8fLx++uknW8327dsVHx9vV7N//37F3HCL9rVr18rLy0sNGjTIi7cNAAAAV3r11bQpidmFMYvFOiWRMIZc4NIRssmTJ6tTp04KDQ3VxYsXFRUVpY0bNyo6OlplypRRmTJl7Oo9PDwUGBiosLAwSZLZbNbQoUM1duxYlSlTRv7+/ho3bpzq1Kmjdu3aSZJq1aqljh07atiwYVqwYIEkafjw4erSpYvtOO3bt1d4eLgiIyM1c+ZMnTt3TuPGjdOwYcNYLREAAKCw+vNPqXp1x2oPHZJq1nRuPyiSXBrITp8+rcjISMXExMhsNqtu3bqKjo7Wvffe6/Ax3njjDbm7u6tPnz66evWq2rZtq0WLFsnthmVzlixZolGjRtlWY+zWrZvmzp1r2+/m5qZvvvlGI0eOVNOmTeXj46P+/fvrtddey703CwAAANdLSXF8ecWpU6XnnnNuPyjy8t19yAoy7kMGAACQTz31lPTGG47V8usxcoGj2cDli3oAAAAATrFtm/T/97fN1tmzkr+/c/sBMpDvFvUAAAAAbtnVq2mLc2QXxpYuTbtxM2EMLkIgAwAAQMHXqpU1hBUvnnVd375pIaxnzzxpDcgKUxYBAABQMH32mdS/v2O1ycmSO7/6Iv/huxIAAAAFR0yMFBzsWC1L1aMAyPGUxbNnz+qxxx5TeHi4ypYtK39/f7svAAAAIFcZhnV0y2TKPozNmJE2JZEwhgIgxyNkAwcO1OHDhzV06FCVL19eJpPJGX0BAACgqJsyRXrhhezrAgKk06ed3w/gBDkOZFu2bNGWLVtUr149Z/QDAACAomzvXunOOx2r/ecfqUwZp7YDOFuOpyzWrFlTV69edUYvAAAAKIqSktKWqs8ujH31VdqURMIYCoEcB7J33nlHzzzzjDZt2qSzZ88qISHB7gsAAABwSLdu1hDm5ZV1XffuaSGsW7e86Q3IIzmesliqVCnFx8erTZs2dtsNw5DJZJLFYsm15gAAAFDIfPWV1KOHY7WJiZKnp1PbAVwtx4FswIAB8vT01KeffsqiHgAAAMjeP/9I5co5Vrtnj1S/vlPbAfKTHAey/fv3a8+ePQoLC3NGPwAAACgsAgKkM2eyr5syRXr+eae3A+RHOb6GrGHDhjp+/LgzegEAAEBBN2NG2gIdWYUxLy8pJcV6XRhhDEVYjkfInnjiCY0ePVrjx49XnTp15OHhYbe/bt26udYcAAAACoBDh6TwcMdqY2KkwEDn9gMUICbDMIycPKFYsfSDaiaTiUU9JCUkJMhsNis+Pl5+fn6ubgcAAMB5rl+XbvqH+Ux99pn0wAPO7QfIZxzNBjkeITty5MhtNQYAAIACbOBAacmS7OtatZI2bHB6O0BBl+NAVqlSJWf0AQAAgPxq3TqpfXvHaq9ckXx8nNsPUIjkOJB9/PHHWe5/8MEHb7kZAAAA5BPx8VKpUo7VbtsmNW7s1HaAwirH15CVLl3a7nFycrKuXLkiT09PFS9eXOfOncvVBgsSriEDAAAFXo0a0h9/ZF/31FPSrFnO7wcooJx2Ddn58+fTbfvjjz80YsQIjR8/PqeHAwAAgKu984702GOO1aakWJe0B5ArchzIMlK9enVNnz5dAwcO1K+//pobhwQAAIAz/fWXdMcdjtX+/bdUsaJz+wGKqBzfGDozbm5uOnXqVG4dDgAAALktdXTLZMo+jH3wgfWmzYZBGAOcKMcjZCtXrrR7bBiGYmJiNHfuXDVt2jTXGgMAAEAuGTlSmjcv+7r69aU9e5zeDoA0OQ5kPXr0sHtsMplUrlw5tWnTRrO4sBMAACB/2LxZatHCsdqEBKlkSef2AyBDOQ5kKSkpzugDAAAAt+vyZalECcdqN26UWrZ0ajsAspdr15ABAADARRo1sl4Xll0YGzYs7bowwhiQLzg0QvbUU0/pxRdflK+vr5566qksa19//fVcaQwAAABZ+OgjafBgx2qvX5fc3JzaDoBb41Ag27Nnj5KTk23/nxkT96QAAABwnhMnpNBQx2r/+EOqVs25/QC4bSbDMAxXN1FYOHo3bgAAAIcZhlTMwatM5syRRo1ybj8AHOJoNuAaMgAAgPxo4kTrdWHZhbEqVdKuCyOMAQVOjldZvHbtmt566y1t2LBBcXFx6VZd3L17d641BwAAUKTs2GFdoMMR589LpUo5tR0AzpfjQDZkyBCtW7dOvXr1UqNGjbhuDAAA4HZcuyb5+DhWu2aN1LGjc/sBkKdyHMi++eYbrV69Wk2bNnVGPwAAAEVD+/bSunXZ1/XtK0VFOb8fAC6R40BWoUIFleRO7gAAADn33/9Kffo4VpuUJHl4OLcfAC6X40U9Zs2apYkTJ+rvv/92Rj8AAACFy9Gj1sU5TKbsw9j+/WkLdBDGgCIhxyNkDRs21LVr11S1alUVL15cHjf9YXHu3Llcaw4AAKBAyslS9a+8Ik2a5Nx+AORbOQ5k/fr108mTJ/XKK6+ofPnyLOoBAACQ6v77pRUrsi1L9vNXsbP/yM2d36OAoi7HgezHH3/U1q1bVa9ePWf0AwAAULBs2iS1auVQaUX9reOqKCVIIVWs93Hu2dO57QHI33J8DVnNmjV19epVZ/QCAABQMCQmpl0Xlk0Y+2XQLBUzGTLJsIax/3fypNSrl7RsmZN7BZCv5TiQTZ8+XWPHjtXGjRt19uxZJSQk2H0BAAAUWn5+1hDm7Z19rWHIct1Q5/VPyTAy3C1JGjNGslhytUsABYjJMDL6IyJzxf7/AtWbrx0zDEMmk0mWIvwnSkJCgsxms+Lj4+Xn5+fqdgAAQG6YN08aOdKx2suXpeLFbQ83bpRat87+aRs2ODzrEUAB4Wg2yPE1ZBs2bLitxgAAAPK9mBgpONix2m+/td7kOZPDOPpyAIqmHAeyli1bOqMPAAAA13N09eh775XWrs22LCjIscM5Wgeg8MnxNWSStHnzZg0cOFBNmjTRyZMnJUmLFy/Wli1bcrU5AAAAp3voobQFOrKTkmK9+MuBMCZJzZtLISGZH9pkkkJDrXUAiqYcB7KlS5eqQ4cO8vHx0e7du5WYmChJunjxol555ZVcbxAAACDX7diRFsIWLcq69vffrSHMMBwfQft/bm7Wpe2l9E9NfTx7trUOQNGU40D20ksvaf78+Xrvvffk4eFh296kSRPt3r07V5sDAADINdevp4WwRo2yrp0yJS2EVa9+Wy/bs6f05ZdShQr220NCrNu5DxlQtOX4GrLffvtNLVq0SLfdz89PFy5cyI2eAAAAck/VqtKRI47V5mzxaYf17Cl17y5t3mxdwCMoyDpNkZExADkOZEFBQfrzzz9VuXJlu+1btmxR1apVc6svAACAW/fJJ1JkpGO18fHW+4s5mZsbS9sDSC/HUxYfeeQRjR49Wtu3b5fJZNKpU6e0ZMkSjRs3TiMdvUcHAABAbjt7Nm1KYnZhbNmytCmJ3DsUgAvleIRswoQJio+PV+vWrXXt2jW1aNFCXl5eGjdunB5//HFn9AgAAJA5RxfauOsuadcu5/YCADlkMgzHJ0tbLBZt2bJFderUkbe3tw4ePKiUlBSFh4erRIkSzuyzQHD0btwAAOA23XeftGaNY7UWi1Tslu70AwC3zNFskKMRMjc3N3Xo0EGHDh2Sv7+/GjZseNuNAgAAOGTrVqlJE8dqf/lFqlPHuf0AQC7I8T8X1alTR3/99ZczegEAALBnsaRdF5ZdGBszJu26MMIYgAIix9eQvfzyyxo3bpxefPFFNWjQQL6+vnb7maoHAABuWw5uwPzZp0baMvJObAkAnCFH15BJUrEb5mCbbvjD0jAMmUwmWSyW3OuugOEaMgAAbsP8+dKIEQ6Vrn7/lB55PkgnTqRtCwmR5szhRssA8genXEMmSRs2bLitxgAAAGzOnZPKlHGsdto06emntWyZ1KtX+ns4nzxp3f7ll4QyAAVHjgKZYRgKDg5WcnKyatSoIXf3HOc5AACAHE1JvDF5WSzS6NHpw1hqmclkvZSse3frjZgBIL9zeFGPo0ePqn79+qpZs6bq1KmjatWqaffu3c7sDQAAFCaRkWkLdGQnMTFtgY4bbN4su2mKNzMM6fhxax0AFAQOB7KJEyfq2rVrWrx4sf773/8qKChIjz76qDN7AwAABd0vv6SFsE8+ybp27dq0EObpmWFJTIxjL+toHQC4msNzDjdv3qzPPvtMLVu2lCQ1atRIlSpV0tWrV+Xj4+O0BgEAQAFjGI7fiLlBA2nnTocPHRSUu3UA4GoOj5DFxsaqZs2atschISHy8fHR6dOnndIYAAAoYPz9rSNhjoSx1JGwHIQxybq0fUhI5rMeTSYpNNRaBwAFgcOBzGQy2S15L1mXwM/hqvkAAKAw+eyztCmJ589nXfvXXxleF5YTbm7Wpe2l9KEs9fHs2SzoAaDgcDiQGYahGjVqyN/f3/Z16dIl3XnnnXbbAABAIXfpUloI698/69qJE9NCWJUqufLyPXtal7avUMF+e0gIS94DKHgcvoZs4cKFzuwDAADkd7e4VL0z9OxpXdp+82brAh5BQdZpioyMAShoTIaT5hx+9tln6tatm3x9fZ1x+HzJ0btxAwBQYIwaJb31lmO1ly9LxYs7tx8AKCAczQYOT1nMqUceeYQFPwAAKIj++CNtSmJ2YWzp0rQpiYQxAMgxpwUyRwbe5s2bp7p168rPz09+fn6KiIjQmjVrJEnJycmaOHGi6tSpI19fXwUHB+vBBx/UqVOn7I6RmJioJ554QmXLlpWvr6+6deumEzfdMfL8+fOKjIyU2WyW2WxWZGSkLly4YFdz7Ngxde3aVb6+vipbtqxGjRqlpKSk2/sQAACQZLFIGzda17/YuNH6ON8xjLQQVqNG1rWhoWkhjAu2AOC2OC2QOSIkJETTp0/Xzp07tXPnTrVp00bdu3fXgQMHdOXKFe3evVvPPvusdu/erWXLlun3339Xt27d7I4xZswYLV++XFFRUdqyZYsuXbqkLl26yHLD33b9+/fX3r17FR0drejoaO3du1eRkZG2/RaLRZ07d9bly5e1ZcsWRUVFaenSpRo7dmyefRYAgMJp2TKpcmWpdWvr+hetW1sfL1vm6s7+X82aji9Vn5JiDWHHjjm/LwAoIpx2DVnJkiX1888/q2rVqjl6nr+/v2bOnKmhQ4em27djxw41atRIf//9typWrKj4+HiVK1dOixcvVt++fSVJp06dUmhoqFavXq0OHTro0KFDCg8P17Zt29S4cWNJ0rZt2xQREaFff/1VYWFhWrNmjbp06aLjx48rODhYkhQVFaXBgwcrLi7O4evBuIYMAHCjZcukXr3Sr2+RujaGy1YE/PprqWtXx2oPHpRq1XJuPwBQCLn8GrKcslgsioqK0uXLlxUREZFhTXx8vEwmk0qVKiVJ2rVrl5KTk9W+fXtbTXBwsGrXrq0ff/xRkrR161aZzWZbGJOke+65R2az2a6mdu3atjAmSR06dFBiYqJ27dqVac+JiYlKSEiw+wIAQLJOSxw9OuPFBlO3jRmTh9MXr11Lm5KYXRgbPjxtSiJhDACcyuFl751l3759ioiI0LVr11SiRAktX75c4eHh6equXbump59+Wv3797clzNjYWHl6eqp06dJ2teXLl1dsbKytJiAgIN3xAgIC7GrKly9vt7906dLy9PS01WRk2rRpmjp1as7eMAAgT1ksrlkaffNm6aZLmu0YhnT8uLWuVSsnNpKPlqoHAKTntBGySpUqycPDI9u6sLAw7d27V9u2bdOIESM0aNAgHTx40K4mOTlZDzzwgFJSUvTOO+9ke0zDMGS64S8gUwZ/Gd1Kzc0mTZqk+Ph429fx48ez7Q0AkHdcef1WTEzu1uXIlClpo2HZiY9PGw0DAOQ5pwWy/fv3KzQ0NNs6T09PVatWTQ0bNtS0adNUr149zZkzx7Y/OTlZffr00ZEjR7Ru3Tq7+ZeBgYFKSkrS+fPn7Y4ZFxdnG/EKDAzMcPn9M2fO2NXcPBJ2/vx5JScnpxs5u5GXl5dthcjULwBA/pB6/dbNo1QnT1q3OzuUBQXlbl22jh9PC2EvvJB17cKFaSGMv7sAwKUcCmSlS5eWv7+/Q1+3yzAMJSYmSkoLY3/88Ye+++47lSlTxq62QYMG8vDw0Lp162zbYmJitH//fjVp0kSSFBERofj4eP3000+2mu3btys+Pt6uZv/+/Yq54Z8p165dKy8vLzVo0OC23xMAIG/lh+u3mjeXQkIyH6QymayrxzdvfpsvlBrCKlbMus7LKy2EDR58my8KAMgtDl1DNnv2bKe8+OTJk9WpUyeFhobq4sWLioqK0saNGxUdHa3r16+rV69e2r17t77++mtZLBbbKJa/v788PT1lNps1dOhQjR07VmXKlJG/v7/GjRunOnXqqF27dpKkWrVqqWPHjho2bJgWLFggSRo+fLi6dOmisLAwSVL79u0VHh6uyMhIzZw5U+fOndO4ceM0bNgwRr0AoADKD9dvublJc+ZYR+NMJvtwmBrSZs++xevZmjeXtmxxrNZicWxJewCASzgUyAYNGuSUFz99+rQiIyMVExMjs9msunXrKjo6Wvfee6+OHj2qlStXSpLq169v97wNGzao1f//DfrGG2/I3d1dffr00dWrV9W2bVstWrRIbjf8DbdkyRKNGjXKthpjt27dNHfuXNt+Nzc3ffPNNxo5cqSaNm0qHx8f9e/fX6+99ppT3jcAwLlcev3WDXr2tC5tP3q0fUAMCbGGsRwteb9xo/UiOEfs2iXddVcODg4AcJXbug/Z1atXlZycbLetKI8ocR8yAMgfHM0uGzY4eYXD/3fLKz1evy45sECWJOnf/7amPwBAvuBoNsjxsveXL1/WxIkT9cUXX+js2bPp9lvy7IYqAABkLPX6rZMnM76OzGSy7r/t67cc5OaWw+DHUvUAUGTkeFL5hAkT9P333+udd96Rl5eX3n//fU2dOlXBwcH6+OOPndEjAAA5knr9lpQ+29z29VvO8sYbji9Vf+YMS9UDQCGR40C2atUqvfPOO+rVq5fc3d3VvHlz/ec//9Err7yiJUuWOKNHAAByLPX6rQoV7LeHhFi35+j6LWeJi0sLYU89lXXtnDlpIaxs2bzpDwDgdDmesnju3DlVqVJFkvV6sXPnzkmSmjVrphEjRuRudwAA3IaePaXu3W/x+i1nYkoiAOD/5XiErGrVqjp69KgkKTw8XF988YUk68hZqVKlcrM3AABuW+r1W/36Wf/rsjDWo4fjUxKTk5mSCABFRI4D2UMPPaSff/5ZkjRp0iTbtWRPPvmkxo8fn+sNAgBQYG3YkBbCvvoq69pNm9JCmHuOJ7AAAAqo21r2XpKOHTumnTt36o477lC9evVyq68CiWXvAQBKSXF8GK5VK2toAwAUOk5b9v5mFStWVMWKFW/3MAAAFGxcFwYAuAU5DmQvvPBClvufe+65W24GAIACZdo0afJkx2r/+kv6/0WxAABIleNAtnz5crvHycnJOnLkiNzd3XXHHXcQyAAAhdvZs44vOz98uLRggXP7AQAUaDkOZHv27Em3LSEhQYMHD9b999+fK00BAJDvMCURAOAEOV5lMSN+fn564YUX9Oyzz+bG4QAAyB9atnR8qfqrV1mqHgCQY7kSyCTpwoULio+Pz63DAQDgGjt3poWwH37IunbJkrQQ5u2dN/0BAAqVHE9ZfPPNN+0eG4ahmJgYLV68WB07dsy1xgAAyDOGIRXLwb9RMgoGAMglOQ5kb7zxht3jYsWKqVy5cho0aJAmTZqUa40BAOB0XBcGAHCxHAeyI0eOOKMPAADyxoIF0qOPOla7f7/0r385tx8AQJF22zeGBgAg37t4UfLzc6y2Z09p6VLn9gMAwP/LcSC7fPmypk+frvXr1ysuLk4pKSl2+//6669caw4AgNvClEQAQD6X40D28MMPa9OmTYqMjFRQUJBMOfnLDgAAZxs3Tpo1y7Ha+HjHR84AAHCCHAeyNWvW6JtvvlHTpk2d0Q8AADn311/SHXc4VvvOO9KIEc7tBwAAB+U4kJUuXVr+/v7O6AUAgJxxdJZGuXJSXJxzewEA4Bbk+MbQL774op577jlduXLFGf0AAJC1evXSbtycnZQU67VhhDEAQD6V4xGyWbNm6fDhwypfvrwqV64sDw8Pu/27d+/OteYAAJAkRUdLnTo5Vrtvn1S7tnP7AQAgl+Q4kPXo0cMJbQAAcJPERMnb27HaQYOkRYuc2g4AAM5gMgzW+c0tCQkJMpvNio+Plx+rdgHArWGpegBAIeBoNrjlG0MnJSVleB+yihUr3uohAQBF1csvS//5j2O1589LpUo5tR0AAPJKjgPZ77//rqFDh+rHH3+0224YhkwmkywWS641BwAoxE6dkipUcKz23XelYcOc2w8AIE9YLNLmzVJMjBQUJDVvLrm5ubor18lxIHvooYfk7u6ur7/+mhtDAwByjimJAFBkLVsmjR4tnTiRti0kRJozR+rZ03V9uVKOA9nevXu1a9cu1axZ0xn9AAAKo3btpPXrHau1WKRiOb4rCwAgn1u2TOrVK/2/tZ08ad3+5ZdFM5Tl+G+88PBw/fPPP87oBQBQmGzenHa/sOzC2Pbt1r+hDYMwBgCFkMViHRnLaOJD6rYxY6x1RU2O/9Z79dVXNWHCBG3cuFFnz55VQkKC3RcAoAizWNJCWIsWWdd26ZIWwho1ypv+AAAusXmz/TTFmxmGdPy4ta6oyfGUxXbt2kmS2rZta7edRT0AoAjjujAAQBZiYnK3rjDJcSDbsGFDpvv27NlzW80AAAqQuXOlJ55wrDY2Vipf3rn9AADyraCg3K0rTG77xtDx8fFasmSJ3n//ff38889FeoSMG0MDKPTOnpXKlnWs9rXXpLFjndsPAKBAsFikypWtC3hklD5MJutqi0eOFJ4l8B3NBrd85fT333+vgQMHKigoSG+99Zbuu+8+7dy581YPBwDIz1KvC3MkjKVeF0YYAwD8Pzc369L2UvpZ7qmPZ88uPGEsJ3IUyE6cOKGXXnpJVatWVb9+/VS6dGklJydr6dKleumll3TnnXc6q08AQF7r0yctiGUnKSktiAEAkIGePa1L21eoYL89JKToLnkv5WDK4n333actW7aoS5cuGjBggDp27Cg3Nzd5eHjo559/Vnh4uLN7zfeYsuhc3NUdyAO7d0sNGjhWu3691KaNc/sBABQ6ReV3OkezgcOLeqxdu1ajRo3SiBEjVL169VxpEnAUd3UHnCglxfG/CSMipB9/dG4/AIBCzc1NatXK1V3kHw5PWdy8ebMuXryohg0bqnHjxpo7d67OnDnjzN4ASWl3db/53hWpd3Vftsw1fQEFnq+vdTqiI2EsdToiYQwAgFzlcCCLiIjQe++9p5iYGD3yyCOKiopShQoVlJKSonXr1unixYvO7BNFFHd1B3LZ4sVp14VduZJ17d9/c10YAABOluNVFosXL64hQ4Zoy5Yt2rdvn8aOHavp06crICBA3bp1c0aPKMK4qzuQCxIS0kLYgw9mXfuf/6SFsIoV86Y/AACKsFte9l6SwsLCNGPGDJ04cUKfffZZbvUE2HBXd+A2pIYwszn72tQQ9uKLzu8LAADY3FYgS+Xm5qYePXpo5cqVuXE4wIa7ugM5NGKE40vVX73KlEQAAFwsVwIZ4CzNm1tXU8zsd0uTSQoNtdYBRdavv6aFsPnzs6796qu0EObtnTf9AQCATBHIkK9xV3cgE4aRFsJq1cq6tlq1tBDGtb4AAOQrBDLke9zVHbhB1arWEFbMgT++U1KsIeyPP5zfFwAAuCUO3xgacKWePaXu3YvGXd2BdFaskO6/37HaX3+VwsKc2g4AAMg9BDIUGNzVHUXK1atS8eKO1Y4cKb39tnP7AQAATkEgA4D8xJHVEVOxOiIAAAUe15ABgKtNnuz4UvUJCSxVDwBAIcIIGQC4wtGjUpUqjtV+8ok0YIBT2wEAAK5BIAOAvOTolEQ/Pyk+3rm9AAAAl2PKIgA4W+PGjk9JTF2qnjAGAECRQCADAGdYvz4thP30U9a1e/akXReWk0U9AABAgceURQDILcnJkqenY7UPPCB99plz+wEAAPkegQwAbhdL1QMAgFvElEUAuBUzZjh+XdjZsyxVDwAAMsQIGQA4KjZWCgpyrPbtt6WRI53bDwAAKPAIZACQHaYkAgAAJ2HKIgBk5L77HJ+SeP06UxIBAMAtIZABQKpt29JC2Jo1Wddu2ZIWwtzc8qY/AABQ6DBlEUDRZrFI7g7+UXjvvdLatc7tBwAAFCkEMgBFE9eFAQCAfIApiwCKjnffdfy6sFOnuC4MAAA4HYEMQOF2/nxaCHvkkaxrX3klLYQ5urw9AADAbWDKIoDCiSmJAACgAHDpCNm8efNUt25d+fn5yc/PTxEREVpzw8pmhmHo+eefV3BwsHx8fNSqVSsdOHDA7hiJiYl64oknVLZsWfn6+qpbt246ceKEXc358+cVGRkps9kss9msyMhIXbhwwa7m2LFj6tq1q3x9fVW2bFmNGjVKSUlJTnvvAJzgwQcdn5KYmMiURAAA4HIuDWQhISGaPn26du7cqZ07d6pNmzbq3r27LXTNmDFDr7/+uubOnasdO3YoMDBQ9957ry5evGg7xpgxY7R8+XJFRUVpy5YtunTpkrp06SKLxWKr6d+/v/bu3avo6GhFR0dr7969ioyMtO23WCzq3LmzLl++rC1btigqKkpLly7V2LFj8+7DAHBrfvklLYQtXpx17bffpoUwT8+86Q8AACALJsPIX/887O/vr5kzZ2rIkCEKDg7WmDFjNHHiREnW0bDy5cvr1Vdf1SOPPKL4+HiVK1dOixcvVt++fSVJp06dUmhoqFavXq0OHTro0KFDCg8P17Zt29S4cWNJ0rZt2xQREaFff/1VYWFhWrNmjbp06aLjx48rODhYkhQVFaXBgwcrLi5Ofn5+DvWekJAgs9ms+Ph4h58D4BYYhlTMwX9Pql9f2rPHqe0AAADczNFskG8W9bBYLIqKitLly5cVERGhI0eOKDY2Vu3bt7fVeHl5qWXLlvrxxx8lSbt27VJycrJdTXBwsGrXrm2r2bp1q8xmsy2MSdI999wjs9lsV1O7dm1bGJOkDh06KDExUbt27cq058TERCUkJNh9AXCiMmWsI2GOhLHUkTDCGAAAyMdcHsj27dunEiVKyMvLS48++qiWL1+u8PBwxcbGSpLKly9vV1++fHnbvtjYWHl6eqp06dJZ1gQEBKR73YCAALuam1+ndOnS8vT0tNVkZNq0abbr0sxms0JDQ3P47gFkKyoqbUriuXNZ1/71F9eFAQCAAsXlgSwsLEx79+7Vtm3bNGLECA0aNEgHDx607TfddHG+YRjptt3s5pqM6m+l5maTJk1SfHy87ev48eNZ9gXAQZcupYWwfv2yrp0wIS2EVamSN/0BAADkEpcve+/p6alq1apJkho2bKgdO3Zozpw5tuvGYmNjFXTD/YDi4uJso1mBgYFKSkrS+fPn7UbJ4uLi1KRJE1vN6dOn073umTNn7I6zfft2u/3nz59XcnJyupGzG3l5ecnLy+tW3jaAjLBUPQAAKGJcPkJ2M8MwlJiYqCpVqigwMFDr1q2z7UtKStKmTZtsYatBgwby8PCwq4mJidH+/fttNREREYqPj9dPP/1kq9m+fbvi4+Ptavbv36+YmBhbzdq1a+Xl5aUGDRo49f0CRd6YMY4vVX/5MlMSAQBAhiwWaeNG6bPPrP+9YdH1fM2lI2STJ09Wp06dFBoaqosXLyoqKkobN25UdHS0TCaTxowZo1deeUXVq1dX9erV9corr6h48eLq37+/JMlsNmvo0KEaO3asypQpI39/f40bN0516tRRu3btJEm1atVSx44dNWzYMC1YsECSNHz4cHXp0kVhYWGSpPbt2ys8PFyRkZGaOXOmzp07p3HjxmnYsGGslgg4wx9/SDVqOFb75ZfSv//t3H4AAECBtmyZNHq0dOPtiENCpDlzpJ49XdeXI1wayE6fPq3IyEjFxMTIbDarbt26io6O1r333itJmjBhgq5evaqRI0fq/Pnzaty4sdauXauSJUvajvHGG2/I3d1dffr00dWrV9W2bVstWrRIbm5utpolS5Zo1KhRttUYu3Xrprlz59r2u7m56ZtvvtHIkSPVtGlT+fj4qH///nrttdfy6JMAioCcLFUfEiJxTSYAAHDAsmVSr17pJ9CcPGnd/uWX+TuU5bv7kBVk3IcMyECtWtKvvzpWm5KSs+vIAABAkWaxSJUr24+M3chksv4775Ej0g3jNXmiwN2HDEAh8vXXadeFZRfGDhxIuy6MMAYAAHJg8+bMw5hk/fXi+HFrXX7l8lUWARQSiYmSt7djtQ8/LL33nnP7AQAAhd4Na/LlSp0rEMgA3B6WqgcAAC5yw92xcqXOFZiyCCDnpkxxfKn6CxdYqh4AADhF8+bWa8Qy+5XEZJJCQ611+RWBDIBjTpxIC2EvvJB17YcfpoUwszlv+gMAAEWOm5t1aXspfShLfTx7dt4v6JETBDIAWUsNYaGhWdd5eqaFsIceypveAABAkdezp3Vp+woV7LeHhOT/Je8lriEDkJEWLRxfjshicfz+YgAAAE7Qs6fUvbv115eYGOs1Y82b5++RsVQEMgBWmzZJrVo5Vrtzp9SggVPbAQAAyAk3N8d/lclPCGRAUXb9uuTh4Vhtz57S0qXO7QcAAKCIIZABRVGJEtLly47VsjoiAACA03DhB1BUvP9+2gId2YWxuDiWqgcAAMgDBDKgMDt7Ni2EDRuWde3cuWkhrFy5vOkPAACgiGPKIlAY+fpKV65kX1eypJSQ4Px+AAAAkCFGyIDCYubMtNGw7MJYcrJ1JIwwBgAA4FKMkAEF2eHDUrVqjtVu2yY1buzcfgAAAJAjjJABBY1hpI2EZRfGnnsu7bowwhgAAEC+wwgZUFA88ID0+eeO1bI6IgAAQIFAIAPys40bpdatHav95x+pTBmntgMAAIDcxZRFIL+5ciVtSmJ2YeyLL9KmJBLGAAAAChxGyID8IiREOnky+7p77pG2bnV+PwAAAHA6RsgAV1qwIG00LLswlpRkHQkjjAEAABQajJABee3ECSk01LHaXbuku+5ybj8AAABwGUbIgLxw41L12YWx0aPTrgsjjAEAABRqjJABzjRihDR/vmO1LFUPAABQ5BDIgNz2xx9SjRqO1cbESIGBzu0HAAAA+RZTFoHckJwseXtbpyRmF8YWLkybkkgYAwAAKNIIZMDtGD/eGsI8PaXExMzratZMC2GDB+dZewAAAMjfmLII5NQPP0gtW2Zf5+EhXb5s/S8AAACQAQIZ4Ij4eKlUKcdqf/1VCgtzajsAAAAoHJiyCGSlY0frlMTswtg776RNSSSMAQAAwEGMkAE3++QTKTIy+7pGjaRt26yBDQAAALgFBDJAkv7+W6pc2bHauDipXDmntgMAAICigSmLKLosFikgwDrClV0YW7MmbUoiYQwAAAC5hECGouf5560hzN1dOnMm87qhQ9NCWMeOedYeAAAAig6mLKJo2L5duucex2qvXrXe5BkAAABwMgIZCq/Ll6USJRyr/flnqW5d5/YDAAAA3IQpiyh8eve2TknMLozNnJk2JZEwBgAAABdghAyFw9KlUq9e2dfVrCkdPMhS9QAAAMgXCGQouE6dkipUcLw2KMi5/QAAAAA5xJRFFCwpKVK1atYRruzC2PLlaVMSCWMAAADIhwhkKBj+9z/ryodubtLhw5nX9emTFsJ69Miz9gAAAIBbwZRF5F+xsdKAAdL332dfe+mS5Ovr/J4AAACAXMQIGfKX5GRp8mTrlMSgoKzD2I4daaNhhDEAAAAUQIyQIX9YsUK6//6sa7y8pG+/lVq2zJOWAAAAAGdjhAyu88cf0r/+ZR0NyyqMvf66dTGPa9cIYwAAAChUCGTIW5cvS0OGWENYjRrWe4JlpE8f6cIF63TEJ5/kvmEAAAAolJiyCOczDGnBAmnEiKzrKlWSVq2S6tTJm74AAAAAFyOQwXl++knq1Ek6dy7ruk8+sa6mCAAAABQxTFlE7jpzRrrvPusUw8aNMw9jo0dbrwkzDMIYAAAAiixGyHD7LBbppZek55/Puu6ee6TPP5cqVsyTtgAAAID8jkCGW7dmjXU0LCsmk3Wp+nvvzZueAAAAgAKEKYvImSNHpLvusgatrMLYtGnWkbOUFMIYAAAAkAkCGbJ39ar06KPWEFa1qrRnT8Z1PXpIZ89arwt7+mmpGN9eAAAAQFaYsoiMGYa0aJH1nmFZCQqSvv7aOmoGAAAAIEcIZLC3Z491KmJsbNZ1CxdKgwZxw2YAAADgNjCnDNal6Xv0sIaru+7KPIw9+qh05Yp19GzwYMIYAAAAcJsYISuqUlKkV1+VJk/Ouu7OO6Uvv7ReOwYAAAAgVxHIiprvvnNs1cNvvsl+SXsAAAAAt4Upi0XBsWPWmzKbTFmHseefl65ft05JJIwBAAAATscIWWGVmChNmCC9+WbWdZ06SR99JJUrlzd9AQAAALAhkBVGZ85IAQGZ7y9TRlq9WmrUKO96AgAAAJAOUxYLo19+yXj7/PnWxTz++YcwBgAAAOQDBLLCqGVLafx46/8/9JB06ZL1urBHHmGpegAAACAfMRmGYbi6icIiISFBZrNZ8fHx8vPzc3U7AAAAAFzE0WzACBkAAAAAuAiBDAAAAABchEAGAAAAAC7i0kA2bdo03X333SpZsqQCAgLUo0cP/fbbb3Y1ly5d0uOPP66QkBD5+PioVq1amjdvnl1NYmKinnjiCZUtW1a+vr7q1q2bTpw4YVdz/vx5RUZGymw2y2w2KzIyUhcuXLCrOXbsmLp27SpfX1+VLVtWo0aNUlJSklPeOwAAAAC4NJBt2rRJjz32mLZt26Z169bp+vXrat++vS5fvmyrefLJJxUdHa1PPvlEhw4d0pNPPqknnnhCX331la1mzJgxWr58uaKiorRlyxZdunRJXbp0kcVisdX0799fe/fuVXR0tKKjo7V3715FRkba9lssFnXu3FmXL1/Wli1bFBUVpaVLl2rs2LF582EAAAAAKHLy1SqLZ86cUUBAgDZt2qQWLVpIkmrXrq2+ffvq2WeftdU1aNBA9913n1588UXFx8erXLlyWrx4sfr27StJOnXqlEJDQ7V69Wp16NBBhw4dUnh4uLZt26bGjRtLkrZt26aIiAj9+uuvCgsL05o1a9SlSxcdP35cwcHBkqSoqCgNHjxYcXFxDq2ayCqLAAAAAKQCuspifHy8JMnf39+2rVmzZlq5cqVOnjwpwzC0YcMG/f777+rQoYMkadeuXUpOTlb79u1tzwkODlbt2rX1448/SpK2bt0qs9lsC2OSdM8998hsNtvV1K5d2xbGJKlDhw5KTEzUrl27Muw3MTFRCQkJdl8AAAAA4Kh8E8gMw9BTTz2lZs2aqXbt2rbtb775psLDwxUSEiJPT0917NhR77zzjpo1ayZJio2Nlaenp0qXLm13vPLlyys2NtZWExAQkO41AwIC7GrKly9vt7906dLy9PS01dxs2rRptmvSzGazQkNDb/0DQKFjsUgbN0qffWb97w0zaAEAAABJ+SiQPf744/rll1/02Wef2W1/8803tW3bNq1cuVK7du3SrFmzNHLkSH333XdZHs8wDJlMJtvjG///dmpuNGnSJMXHx9u+jh8/nmVPKDqWLZMqV5Zat5b697f+t3Jl63YAAAAglburG5CkJ554QitXrtQPP/ygkJAQ2/arV69q8uTJWr58uTp37ixJqlu3rvbu3avXXntN7dq1U2BgoJKSknT+/Hm7UbK4uDg1adJEkhQYGKjTp0+ne90zZ87YRsUCAwO1fft2u/3nz59XcnJyupGzVF5eXvLy8rq9N49CZ9kyqVcv6earM0+etG7/8kupZ0/X9AYAAID8xaUjZIZh6PHHH9eyZcv0/fffq0qVKnb7k5OTlZycrGLF7Nt0c3NTSkqKJOsCHx4eHlq3bp1tf0xMjPbv328LZBEREYqPj9dPP/1kq9m+fbvi4+Ptavbv36+YmBhbzdq1a+Xl5aUGDRrk7htHoWWxSKNHpw9jUtq2MWOYvggAAAArl46QPfbYY/r000/11VdfqWTJkrZrtcxms3x8fOTn56eWLVtq/Pjx8vHxUaVKlbRp0yZ9/PHHev311221Q4cO1dixY1WmTBn5+/tr3LhxqlOnjtq1aydJqlWrljp27Khhw4ZpwYIFkqThw4erS5cuCgsLkyS1b99e4eHhioyM1MyZM3Xu3DmNGzdOw4YNY8VEOGzzZummW+DZMQzp+HFrXatWedZWvmexWD+TmBgpKEhq3lxyc3N1VwAAAM7n0kCWeoPnVjf9Zrpw4UINHjxYknXp+UmTJmnAgAE6d+6cKlWqpJdfflmPPvqorf6NN96Qu7u7+vTpo6tXr6pt27ZatGiR3G74jW7JkiUaNWqUbTXGbt26ae7cubb9bm5u+uabbzRy5Eg1bdpUPj4+6t+/v1577TUnvXsURjcMsOZKXVGwbJl1VPHGIBsSIs2Zw9ROAABQ+OWr+5AVdNyHDBs3WhfwyM6GDYyQSZlfb5e6jg7X2wEAgIKqQN6HDCjomje3ju5ksjCnTCYpNNRaV9RxvR0AAACBDMhVbm7WqXZS+lCW+nj2bK6PknJ2vR0AAEBhRSADclnPntapdhUq2G8PCWEK3o243g4AACCf3IcMKGx69pS6d2flwKwEBeVuHQAAQEFEIAOcxM2NhTuyknq93cmTGV9HZjJZ93O9HQAAKMyYsgjAJbjeDgAAgEAGwIW43g4AABR1TFkE4FJcbwcAAIoyAhkAl+N6OwAAUFQxZREAAAAAXIRABgAAAAAuQiADAAAAABchkAEAAACAixDIAAAAAMBFCGQAAAAA4CIEMgAAAABwEQIZAAAAALgIgQwAAAAAXIRABgAAAAAuQiADAAAAABchkAEAAACAixDIAAAAAMBFCGQAAAAA4CIEMgAAAABwEQIZAAAAALgIgQwAAAAAXIRABgAAAAAuQiADAAAAABchkAEAAACAi7i7ugHkPotF2rxZiomRgoKk5s0lNzdXdwUAAADgZgSyQmbZMmn0aOnEibRtISHSnDlSz56u6wsAAABAekxZLESWLZN69bIPY5J08qR1+7JlrukL+Z/FIm3cKH32mfW/FourOwIAACgaCGSFhMViHRkzjPT7UreNGcMv2kWJoyFr2TKpcmWpdWupf3/rfytXJsADAADkBQJZIbF5c/qRsRsZhnT8uLUOhZ+jIYtRVQAAANcikBUSMTG5W4eCy9GQxagqAACA6xHIComgoNytQ8GUk5DFqCoAAIDrEcgKiebNraspmkwZ7zeZpNBQax0Kr5yELEZVAQAAXI9AVki4uVmXtpfSh7LUx7Nncz+ywi4nIYtRVQAAANcjkBUiPXtKX34pVahgvz0kxLqd+5AVfjkJWYyqAgAAuJ7JMDK62gS3IiEhQWazWfHx8fLz83NZH6nXB6WOgjRvzshYUWGxWFdTPHky4+vITCZrCDtyxPo9kboAiGRfnxrSCPIAAAC3xtFswAhZIeTmJrVqJfXrZ/0vYazoyOnUVUZVAQAAXIsRslyUX0bIgGXLrKst3rjAR2ioNYxlFLIYVQUAAMhdjmYDAlkuIpAhPyFkAQAAuI6j2cA9D3sCkIdSp64CAAAg/+IaMgAAAABwEQIZAAAAALgIgQwAAAAAXIRABgAAAAAuQiADAAAAABchkAEAAACAixDIAAAAAMBFCGQAAAAA4CIEMgAAAABwEQIZAAAAALgIgQwAAAAAXIRABgAAAAAuQiADAAAAABdxd3UDhYlhGJKkhIQEF3cCAAAAwJVSM0FqRsgMgSwXXbx4UZIUGhrq4k4AAAAA5AcXL16U2WzOdL/JyC6ywWEpKSk6deqUSpYsKZPJ5NJeEhISFBoaquPHj8vPz8+lvSB7nK+Ch3NWsHC+Ch7OWcHC+SpYOF95wzAMXbx4UcHBwSpWLPMrxRghy0XFihVTSEiIq9uw4+fnxw9aAcL5Kng4ZwUL56vg4ZwVLJyvgoXz5XxZjYylYlEPAAAAAHARAhkAAAAAuAiBrJDy8vLSlClT5OXl5epW4ADOV8HDOStYOF8FD+esYOF8FSycr/yFRT0AAAAAwEUYIQMAAAAAFyGQAQAAAICLEMgAAAAAwEUIZAAAAADgIgSyAmzatGm6++67VbJkSQUEBKhHjx767bff7GoMw9Dzzz+v4OBg+fj4qFWrVjpw4ICLOsa8efNUt25d240YIyIitGbNGtt+zlf+Nm3aNJlMJo0ZM8a2jXOWfzz//PMymUx2X4GBgbb9nKv86eTJkxo4cKDKlCmj4sWLq379+tq1a5dtP+ct/6hcuXK6nzGTyaTHHntMEucqv7l+/br+85//qEqVKvLx8VHVqlX1wgsvKCUlxVbDOcsfCGQF2KZNm/TYY49p27ZtWrduna5fv6727dvr8uXLtpoZM2bo9ddf19y5c7Vjxw4FBgbq3nvv1cWLF13YedEVEhKi6dOna+fOndq5c6fatGmj7t272/7w43zlXzt27NC7776runXr2m3nnOUv//rXvxQTE2P72rdvn20f5yr/OX/+vJo2bSoPDw+tWbNGBw8e1KxZs1SqVClbDect/9ixY4fdz9e6deskSb1795bEucpvXn31Vc2fP19z587VoUOHNGPGDM2cOVNvvfWWrYZzlk8YKDTi4uIMScamTZsMwzCMlJQUIzAw0Jg+fbqt5tq1a4bZbDbmz5/vqjZxk9KlSxvvv/8+5ysfu3jxolG9enVj3bp1RsuWLY3Ro0cbhsHPWH4zZcoUo169ehnu41zlTxMnTjSaNWuW6X7OW/42evRo44477jBSUlI4V/lQ586djSFDhtht69mzpzFw4EDDMPj5yk8YIStE4uPjJUn+/v6SpCNHjig2Nlbt27e31Xh5eally5b68ccfXdIj0lgsFkVFReny5cuKiIjgfOVjjz32mDp37qx27drZbeec5T9//PGHgoODVaVKFT3wwAP666+/JHGu8quVK1eqYcOG6t27twICAnTnnXfqvffes+3nvOVfSUlJ+uSTTzRkyBCZTCbOVT7UrFkzrV+/Xr///rsk6eeff9aWLVt03333SeLnKz9xd3UDyB2GYeipp55Ss2bNVLt2bUlSbGysJKl8+fJ2teXLl9fff/+d5z3Cat++fYqIiNC1a9dUokQJLV++XOHh4bY//Dhf+UtUVJR2796tHTt2pNvHz1j+0rhxY3388ceqUaOGTp8+rZdeeklNmjTRgQMHOFf51F9//aV58+bpqaee0uTJk/XTTz9p1KhR8vLy0oMPPsh5y8dWrFihCxcuaPDgwZL48zA/mjhxouLj41WzZk25ubnJYrHo5ZdfVr9+/SRxzvITAlkh8fjjj+uXX37Rli1b0u0zmUx2jw3DSLcNeScsLEx79+7VhQsXtHTpUg0aNEibNm2y7ed85R/Hjx/X6NGjtXbtWnl7e2daxznLHzp16mT7/zp16igiIkJ33HGHPvroI91zzz2SOFf5TUpKiho2bKhXXnlFknTnnXfqwIEDmjdvnh588EFbHect//nggw/UqVMnBQcH223nXOUfn3/+uT755BN9+umn+te//qW9e/dqzJgxCg4O1qBBg2x1nDPXY8piIfDEE09o5cqV2rBhg0JCQmzbU1cXS/0XkFRxcXHp/jUEecfT01PVqlVTw4YNNW3aNNWrV09z5szhfOVDu3btUlxcnBo0aCB3d3e5u7tr06ZNevPNN+Xu7m47L5yz/MnX11d16tTRH3/8wc9XPhUUFKTw8HC7bbVq1dKxY8ck8fdYfvX333/ru+++08MPP2zbxrnKf8aPH6+nn35aDzzwgOrUqaPIyEg9+eSTmjZtmiTOWX5CICvADMPQ448/rmXLlun7779XlSpV7PZXqVJFgYGBtlWQJOuc702bNqlJkyZ53S4yYRiGEhMTOV/5UNu2bbVv3z7t3bvX9tWwYUMNGDBAe/fuVdWqVTln+VhiYqIOHTqkoKAgfr7yqaZNm6a7Xcvvv/+uSpUqSeLvsfxq4cKFCggIUOfOnW3bOFf5z5UrV1SsmP2v+m5ubrZl7zln+YirVhPB7RsxYoRhNpuNjRs3GjExMbavK1eu2GqmT59umM1mY9myZca+ffuMfv36GUFBQUZCQoILOy+6Jk2aZPzwww/GkSNHjF9++cWYPHmyUaxYMWPt2rWGYXC+CoIbV1k0DM5ZfjJ27Fhj48aNxl9//WVs27bN6NKli1GyZEnj6NGjhmFwrvKjn376yXB3dzdefvll448//jCWLFliFC9e3Pjkk09sNZy3/MVisRgVK1Y0Jk6cmG4f5yp/GTRokFGhQgXj66+/No4cOWIsW7bMKFu2rDFhwgRbDecsfyCQFWCSMvxauHChrSYlJcWYMmWKERgYaHh5eRktWrQw9u3b57qmi7ghQ4YYlSpVMjw9PY1y5coZbdu2tYUxw+B8FQQ3BzLOWf7Rt29fIygoyPDw8DCCg4ONnj17GgcOHLDt51zlT6tWrTJq165teHl5GTVr1jTeffddu/2ct/zl22+/NSQZv/32W7p9nKv8JSEhwRg9erRRsWJFw9vb26hatarxzDPPGImJibYazln+YDIMw3DhAB0AAAAAFFlcQwYAAAAALkIgAwAAAAAXIZABAAAAgIsQyAAAAADARQhkAAAAAOAiBDIAAAAAcBECGQAAAAC4CIEMAAAAAFyEQAYAcAmTyaQVK1Y4XP/888+rfv36WdYMHjxYPXr0uK2+8qujR4/KZDJp7969Dj/Hkc+jVatWGjNmzG31Jknff/+9atasqZSUFIefk5iYqIoVK2rXrl23/foAUFARyAAAGeratavatWuX4b6tW7fKZDJp9+7dt3z8mJgYderU6ZafX9SEhoYqJiZGtWvXdnUrGZowYYKeeeYZFStWzPa4cuXKunjxol1d165d1aJFC6WkpMjLy0vjxo3TxIkTXdEyAOQLBDIAQIaGDh2q77//Xn///Xe6fR9++KHq16+vu+66K8fHTUpKkiQFBgbKy8vrtvssCpKSkuTm5qbAwEC5u7u7up10fvzxR/3xxx/q3bu3bduLL76oEiVK6KmnnrJt+/DDD7VhwwYtXLjQFtwGDBigzZs369ChQ3neNwDkBwQyAECGunTpooCAAC1atMhu+5UrV/T5559r6NChOnv2rPr166eQkBAVL15cderU0WeffWZX36pVKz3++ON66qmnVLZsWd17772S0k9ZnDhxomrUqKHixYuratWqevbZZ5WcnJyurwULFig0NFTFixdX7969deHChUzfg2EYmjFjhqpWrSofHx/Vq1dPX375ZZbvOzExURMmTFBoaKi8vLxUvXp1ffDBB7b9mzZtUqNGjeTl5aWgoCA9/fTTun79uq23ChUqpJu2161bNw0aNEiSdPjwYXXv3l3ly5dXiRIldPfdd+u7776zq69cubJeeuklDR48WGazWcOGDUs3ZdFisWjo0KGqUqWKfHx8FBYWpjlz5mT4nqZOnaqAgAD5+fnpkUcesYXijCQlJWnChAmqUKGCfH191bhxY23cuDHLzywqKkrt27eXt7e3bZuXl5c++ugjffTRR4qOjtaxY8f05JNPasaMGbrjjjtsdWXKlFGTJk3Sfd8AQFFBIAMAZMjd3V0PPvigFi1aJMMwbNv/+9//KikpSQMGDNC1a9fUoEEDff3119q/f7+GDx+uyMhIbd++3e5YH330kdzd3fW///1PCxYsyPD1SpYsqUWLFungwYOaM2eO3nvvPb3xxht2NX/++ae++OILrVq1StHR0dq7d68ee+yxTN/Df/7zHy1cuFDz5s3TgQMH9OSTT2rgwIHatGlTps958MEHFRUVpTfffFOHDh3S/PnzVaJECUnSyZMndd999+nuu+/Wzz//rHnz5umDDz7QSy+9JEnq3bu3/vnnH23YsMF2vPPnz+vbb7/VgAEDJEmXLl3Sfffdp++++0579uxRhw4d1LVrVx07dsyuj5kzZ6p27dratWuXnn322XR9pqSkKCQkRF988YUOHjyo5557TpMnT9YXX3xhV7d+/XodOnRIGzZs0Geffably5dr6tSpmb7/hx56SP/73/8UFRWlX375Rb1791bHjh31xx9/ZPqcH374QQ0bNky3vUGDBpo0aZIefvhhRUZG6u6779aIESPS1TVq1EibN2/O9PgAUKgZAABk4tChQ4Yk4/vvv7dta9GihdGvX79Mn3PfffcZY8eOtT1u2bKlUb9+/XR1kozly5dnepwZM2YYDRo0sD2eMmWK4ebmZhw/fty2bc2aNUaxYsWMmJgYwzAMY9CgQUb37t0NwzCMS5cuGd7e3saPP/5od9yhQ4dm2v9vv/1mSDLWrVuX4f7JkycbYWFhRkpKim3b22+/bZQoUcKwWCyGYRhGt27djCFDhtj2L1iwwAgMDDSuX7+e6XsNDw833nrrLdvjSpUqGT169LCrOXLkiCHJ2LNnT6bHGTlypPHvf//b9njQoEGGv7+/cfnyZdu2efPm2fXbsmVLY/To0YZhGMaff/5pmEwm4+TJk3bHbdu2rTFp0qRMX9dsNhsff/xxhvuSkpKM0NBQw8vLy/j7778zrJkzZ45RuXLlTI8PAIVZ/puIDgDIN2rWrKkmTZroww8/VOvWrXX48GFt3rxZa9eulWSdNjd9+nR9/vnnOnnypBITE5WYmChfX1+742Q0enKzL7/8UrNnz9aff/6pS5cu6fr16/Lz87OrqVixokJCQmyPIyIilJKSot9++02BgYF2tQcPHtS1a9dsUyRTJSUl6c4778ywh71798rNzU0tW7bMcP+hQ4cUEREhk8lk29a0aVNdunRJJ06cUMWKFTVgwAANHz5c77zzjry8vLRkyRI98MADcnNzkyRdvnxZU6dO1ddff61Tp07p+vXrunr1aroRMkc+s/nz5+v999/X33//ratXryopKSndSpT16tVT8eLFbY8jIiJ06dIlHT9+XJUqVbKr3b17twzDUI0aNey2JyYmqkyZMpn2cfXqVbvpijdat26dYmJiVKxYMe3YsUMVK1ZMV+Pj46MrV65k93YBoFAikAEAsjR06FA9/vjjevvtt7Vw4UJVqlRJbdu2lSTNmjVLb7zxhmbPnq06derI19dXY8aMSXeN0s0B7Wbbtm3TAw88oKlTp6pDhw4ym82KiorSrFmzsnxeajC6MSClSr2O65tvvlGFChXs9mW2mIiPj0+Wr2cYRrrXMv5/Omfq9q5duyolJUXffPON7r77bm3evFmvv/66rX78+PH69ttv9dprr6latWry8fFRr169cvyZffHFF3ryySc1a9YsRUREqGTJkpo5c2a66aKZyewzc3Nz065du2wBMlXqtM2MlC1bVufPn0+3/fz58xo2bJgmT54sDw8PjRw5Ui1btlTZsmXt6s6dO6dy5co51DcAFDYEMgBAlvr06aPRo0fr008/1UcfffR/7d1PSFRrGMfx7w3DAl3kQiQJEyZT0XRsEQhKmDggmDX4B0xUGqRhGINJceG/CVqIK0FQd9ksBCF0isiINsbRoTKogZj8NxgjiIghLiIKrLuQBufq3JtdYkJ+n+V73vc9z5zVeXjmPC/Nzc3hl3nDMKisrKS+vh7YeaFfXFwkKyvrQPeYmZkhLS2Nzs7O8Nh+3R1DoRCrq6ucPHkS2Gm/f+TIkT0VHYDs7Gzi4+MJhUJRK17/lJuby7dv33j+/Pm+Lf+zs7MZHx+PSMx8Ph+JiYnhpO/48eNYrVZGR0dZWloiIyOD8+fPh/cwDIOmpiauXr0K7HxT9uHDh5+KbzfDMCgsLMThcITHgsHgnnl+v5/Pnz+Hk80XL16QkJAQUWn8wWw2s729zfr6OkVFRT8di9lsJhAI7BlvaWkhOTmZrq6ucBMXp9PJ2NhYxLx3795FrVqKiBx2auohIiL/KiEhgdraWjo6OlhdXaWpqSl8zWQy8ezZM3w+H+/fv+fGjRusra0d+B4mk4lQKMTY2BjBYJCBgQG8Xu+eeceOHaOxsRG/349hGNy8eZOampo9f1eEnSYhbW1tuFwuPB4PwWCQN2/eMDg4iMfj2TeO06dP09jYyPXr13nw4AHLy8tMTU2FG2U4HA5WVlZoaWlhbm6Ohw8f4na7uXXrVriNO+y0cn/8+DF3794NJ6u7f+vExARv377F7/dTV1d3oMOUd+/z+vVrnj59ysLCAt3d3czOzu6Z9/XrV2w2G4FAgCdPnuB2u3E6nRHx/pCRkcG1a9doaGhgYmKC5eVlZmdn6evrY3JyMmosFouF6enpiDGv18v9+/fxeDwcPXqUuLg47t27h9frZXx8PGKuYRiUlZUd+BmIiBwGSshEROQ/2Ww2Njc3KS0tjfgGqLu7m4KCAiwWCxcvXiQlJYUrV64ceP/KykpcLhdOp5P8/Hx8Pt++nQVNJhNWq5Xy8nLKysrIyclhaGgo6r537tyhp6eH3t5esrKysFgsPHr0iPT09KhrhoeHqaqqwuFwkJmZSXNzM58+fQIgNTWVyclJXr16RV5eHna7HZvNRldXV8QeJSUlJCUlMT8/T11dXcS1/v5+Tpw4QWFhIRUVFVgsll86z81ut2O1WqmtreXChQt8/Pgxolr2w6VLlzhz5gzFxcXU1NRQUVHB7du3o+47MjJCQ0MDra2tnD17lsuXL/Py5UtOnToVdU19fT2BQID5+XkANjY2sNvtuN1uzp07F56Xk5OD2+3G4XCwsbEB7FQ5t7a2qKqqOvAzEBE5DP76/n1XL2MRERGRX9De3s7W1lbUYw2iqa6uxmw209HR8ZsiExH5s6lCJiIiIv9bZ2cnaWlpbG9v//SaL1++kJeXh8vl+o2RiYj82VQhExERERERiRFVyERERERERGJECZmIiIiIiEiMKCETERERERGJESVkIiIiIiIiMaKETEREREREJEaUkImIiIiIiMSIEjIREREREZEYUUImIiIiIiISI0rIREREREREYuRvdYlyqIBTsLAAAAAASUVORK5CYII=\n",
      "text/plain": [
       "<Figure size 1000x600 with 1 Axes>"
      ]
     },
     "metadata": {},
     "output_type": "display_data"
    }
   ],
   "source": [
    "import matplotlib.pyplot as plt\n",
    "\n",
    "# Tracer le graphe des valeurs prédites par rapport à la variable covariable\n",
    "plt.figure(figsize=(10, 6))\n",
    "plt.scatter(X_test, y_test, color='blue', label='Données réelles')\n",
    "plt.plot(X_test, y_pred, color='red', linewidth=2, label='Prédiction')\n",
    "plt.title('Régression linéaire - Prédiction de Annual_Premium')\n",
    "plt.xlabel('Variable covariable (X)')\n",
    "plt.ylabel('Annual_Premium')\n",
    "plt.legend()\n",
    "plt.show()\n"
   ]
  },
  {
   "cell_type": "markdown",
   "id": "b822c409",
   "metadata": {},
   "source": [
    "<h3> On va s'intéresser à la mise en place de nouveaux modèles pour l'étude du montant de la prime : </h3>"
   ]
  },
  {
   "cell_type": "code",
   "execution_count": null,
   "id": "133053a9",
   "metadata": {},
   "outputs": [],
   "source": []
  },
  {
   "cell_type": "code",
   "execution_count": null,
   "id": "97e2976e",
   "metadata": {},
   "outputs": [],
   "source": []
  },
  {
   "cell_type": "markdown",
   "id": "5067ded1",
   "metadata": {},
   "source": [
    "<h3> Modèle de Deep Learning : </h3>"
=======
   "id": "6b5525e1",
   "metadata": {},
   "outputs": [],
   "source": [
    "print(\"deuxième test\")"
>>>>>>> d60c0c8a3fa618573b6cb5d4a13b1f1c90df9fe3
   ]
  }
 ],
 "metadata": {
  "kernelspec": {
   "display_name": "Python 3 (ipykernel)",
   "language": "python",
   "name": "python3"
  },
  "language_info": {
   "codemirror_mode": {
    "name": "ipython",
    "version": 3
   },
   "file_extension": ".py",
   "mimetype": "text/x-python",
   "name": "python",
   "nbconvert_exporter": "python",
   "pygments_lexer": "ipython3",
   "version": "3.11.8"
  }
 },
 "nbformat": 4,
 "nbformat_minor": 5
}
