{
 "cells": [
  {
   "cell_type": "markdown",
   "metadata": {
    "papermill": {
     "duration": 0.021046,
     "end_time": "2020-09-21T08:22:44.267661",
     "exception": false,
     "start_time": "2020-09-21T08:22:44.246615",
     "status": "completed"
    },
    "tags": []
   },
   "source": [
    "This work tries to build a model to predict whether the policyholders (customers) from the past year will also be interested in Vehicle Insurance provided by the company.\n",
    "\n",
    "An insurance policy is an arrangement by which a company undertakes to provide a guarantee of compensation for specified loss, damage, illness, or death in return for the payment of a specified premium. A premium is a sum of money that the customer needs to pay regularly to an insurance company for this guarantee[[1](https://www.kaggle.com/anmolkumar/health-insurance-cross-sell-prediction)]."
   ]
  },
  {
   "cell_type": "markdown",
   "metadata": {
    "papermill": {
     "duration": 0.019437,
     "end_time": "2020-09-21T08:22:44.307158",
     "exception": false,
     "start_time": "2020-09-21T08:22:44.287721",
     "status": "completed"
    },
    "tags": []
   },
   "source": [
    "This work using the Random forest classification.\n",
    "Predictor variable :\n",
    "                  \n",
    "1. Gender                \n",
    "1. Age                   \n",
    "1. Driving_License       \n",
    "1. Region_Code           \n",
    "1. Previously_Insured   \n",
    "1. Vehicle_Age            \n",
    "1. Vehicle_Damage       \n",
    "1. Annual_Premium        \n",
    "1. Policy_Sales_Channel  \n",
    "1. Vintage               \n"
   ]
  },
  {
   "cell_type": "code",
   "execution_count": 2,
   "metadata": {
    "_cell_guid": "b1076dfc-b9ad-4769-8c92-a6c4dae69d19",
    "_uuid": "8f2839f25d086af736a60e9eeb907d3b93b6e0e5",
    "execution": {
     "iopub.execute_input": "2020-09-21T08:22:44.359515Z",
     "iopub.status.busy": "2020-09-21T08:22:44.358683Z",
     "iopub.status.idle": "2020-09-21T08:22:45.544169Z",
     "shell.execute_reply": "2020-09-21T08:22:45.543302Z"
    },
    "papermill": {
     "duration": 1.21736,
     "end_time": "2020-09-21T08:22:45.544377",
     "exception": false,
     "start_time": "2020-09-21T08:22:44.327017",
     "status": "completed"
    },
    "tags": []
   },
   "outputs": [],
   "source": [
    "import numpy as np\n",
    "import pylab as pl\n",
    "import pandas as pd\n",
    "import matplotlib.pyplot as plt \n",
    "%matplotlib inline\n",
    "import seaborn as sns\n",
    "from sklearn.utils import shuffle\n",
    "from sklearn.svm import SVC\n",
    "from sklearn.metrics import confusion_matrix,classification_report\n",
    "from sklearn.model_selection import cross_val_score, GridSearchCV\n",
    "# Input data files are available in the \"../input/\" directory.\n",
    "# For example, running this (by clicking run or pressing Shift+Enter) will list the files in the input directory\n",
    "\n",
    "import os\n",
    "# print(os.listdir(\"../input\"))\n",
    "\n",
    "# Any results you write to the current directory are saved as output."
   ]
  },
  {
   "cell_type": "markdown",
   "metadata": {
    "papermill": {
     "duration": 0.024044,
     "end_time": "2020-09-21T08:22:45.590789",
     "exception": false,
     "start_time": "2020-09-21T08:22:45.566745",
     "status": "completed"
    },
    "tags": []
   },
   "source": [
    "# Read Data"
   ]
  },
  {
   "cell_type": "code",
   "execution_count": 22,
   "metadata": {
    "_cell_guid": "79c7e3d0-c299-4dcb-8224-4455121ee9b0",
    "_uuid": "d629ff2d2480ee46fbb7e2d37f6b5fab8052498a",
    "execution": {
     "iopub.execute_input": "2020-09-21T08:22:45.643006Z",
     "iopub.status.busy": "2020-09-21T08:22:45.642231Z",
     "iopub.status.idle": "2020-09-21T08:22:46.411795Z",
     "shell.execute_reply": "2020-09-21T08:22:46.410930Z"
    },
    "papermill": {
     "duration": 0.800414,
     "end_time": "2020-09-21T08:22:46.411933",
     "exception": false,
     "start_time": "2020-09-21T08:22:45.611519",
     "status": "completed"
    },
    "tags": []
   },
   "outputs": [
    {
     "data": {
      "application/javascript": "\n        if (window._pyforest_update_imports_cell) { window._pyforest_update_imports_cell('import seaborn as sns\\nimport pandas as pd'); }\n    ",
      "text/plain": [
       "<IPython.core.display.Javascript object>"
      ]
     },
     "metadata": {},
     "output_type": "display_data"
    },
    {
     "data": {
      "application/javascript": "\n        if (window._pyforest_update_imports_cell) { window._pyforest_update_imports_cell('import seaborn as sns\\nimport pandas as pd'); }\n    ",
      "text/plain": [
       "<IPython.core.display.Javascript object>"
      ]
     },
     "metadata": {},
     "output_type": "display_data"
    }
   ],
   "source": [
    "train = pd.read_csv(\"train.csv\")\n",
    "test = pd.read_csv(\"test.csv\")"
   ]
  },
  {
   "cell_type": "code",
   "execution_count": 2,
   "metadata": {
    "execution": {
     "iopub.execute_input": "2020-09-21T08:22:46.497977Z",
     "iopub.status.busy": "2020-09-21T08:22:46.471994Z",
     "iopub.status.idle": "2020-09-21T08:22:46.774856Z",
     "shell.execute_reply": "2020-09-21T08:22:46.774114Z"
    },
    "papermill": {
     "duration": 0.341757,
     "end_time": "2020-09-21T08:22:46.774975",
     "exception": false,
     "start_time": "2020-09-21T08:22:46.433218",
     "status": "completed"
    },
    "tags": []
   },
   "outputs": [
    {
     "name": "stdout",
     "output_type": "stream",
     "text": [
      "            id  Gender  Age  Driving_License  Region_Code  Previously_Insured  \\\n",
      "0            1       1   44                1         28.0                   0   \n",
      "1            2       1   76                1          3.0                   0   \n",
      "2            3       1   47                1         28.0                   0   \n",
      "3            4       1   21                1         11.0                   1   \n",
      "4            5       0   29                1         41.0                   1   \n",
      "...        ...     ...  ...              ...          ...                 ...   \n",
      "381104  381105       1   74                1         26.0                   1   \n",
      "381105  381106       1   30                1         37.0                   1   \n",
      "381106  381107       1   21                1         30.0                   1   \n",
      "381107  381108       0   68                1         14.0                   0   \n",
      "381108  381109       1   46                1         29.0                   0   \n",
      "\n",
      "       Vehicle_Age Vehicle_Damage  Annual_Premium  Policy_Sales_Channel  \\\n",
      "0        > 2 Years            Yes         40454.0                  26.0   \n",
      "1         1-2 Year             No         33536.0                  26.0   \n",
      "2        > 2 Years            Yes         38294.0                  26.0   \n",
      "3         < 1 Year             No         28619.0                 152.0   \n",
      "4         < 1 Year             No         27496.0                 152.0   \n",
      "...            ...            ...             ...                   ...   \n",
      "381104    1-2 Year             No         30170.0                  26.0   \n",
      "381105    < 1 Year             No         40016.0                 152.0   \n",
      "381106    < 1 Year             No         35118.0                 160.0   \n",
      "381107   > 2 Years            Yes         44617.0                 124.0   \n",
      "381108    1-2 Year             No         41777.0                  26.0   \n",
      "\n",
      "        Vintage  Response  \n",
      "0           217         1  \n",
      "1           183         0  \n",
      "2            27         1  \n",
      "3           203         0  \n",
      "4            39         0  \n",
      "...         ...       ...  \n",
      "381104       88         0  \n",
      "381105      131         0  \n",
      "381106      161         0  \n",
      "381107       74         0  \n",
      "381108      237         0  \n",
      "\n",
      "[381109 rows x 12 columns]\n"
     ]
    }
   ],
   "source": [
    "#Select feature column names and target variable we are going to use for training\n",
    "Gender  = {'Male': 1,'Female': 0} \n",
    "  \n",
    "# traversing through dataframe \n",
    "# Gender column and writing \n",
    "# values where key matches \n",
    "train.Gender = [Gender[item] for item in train.Gender] \n",
    "print(train)"
   ]
  },
  {
   "cell_type": "code",
   "execution_count": 3,
   "metadata": {
    "execution": {
     "iopub.execute_input": "2020-09-21T08:22:46.827031Z",
     "iopub.status.busy": "2020-09-21T08:22:46.826293Z",
     "iopub.status.idle": "2020-09-21T08:22:47.129184Z",
     "shell.execute_reply": "2020-09-21T08:22:47.129752Z"
    },
    "papermill": {
     "duration": 0.333551,
     "end_time": "2020-09-21T08:22:47.129923",
     "exception": false,
     "start_time": "2020-09-21T08:22:46.796372",
     "status": "completed"
    },
    "tags": []
   },
   "outputs": [
    {
     "name": "stdout",
     "output_type": "stream",
     "text": [
      "            id  Gender  Age  Driving_License  Region_Code  Previously_Insured  \\\n",
      "0            1       1   44                1         28.0                   0   \n",
      "1            2       1   76                1          3.0                   0   \n",
      "2            3       1   47                1         28.0                   0   \n",
      "3            4       1   21                1         11.0                   1   \n",
      "4            5       0   29                1         41.0                   1   \n",
      "...        ...     ...  ...              ...          ...                 ...   \n",
      "381104  381105       1   74                1         26.0                   1   \n",
      "381105  381106       1   30                1         37.0                   1   \n",
      "381106  381107       1   21                1         30.0                   1   \n",
      "381107  381108       0   68                1         14.0                   0   \n",
      "381108  381109       1   46                1         29.0                   0   \n",
      "\n",
      "        Vehicle_Age Vehicle_Damage  Annual_Premium  Policy_Sales_Channel  \\\n",
      "0                 0            Yes         40454.0                  26.0   \n",
      "1                 1             No         33536.0                  26.0   \n",
      "2                 0            Yes         38294.0                  26.0   \n",
      "3                 2             No         28619.0                 152.0   \n",
      "4                 2             No         27496.0                 152.0   \n",
      "...             ...            ...             ...                   ...   \n",
      "381104            1             No         30170.0                  26.0   \n",
      "381105            2             No         40016.0                 152.0   \n",
      "381106            2             No         35118.0                 160.0   \n",
      "381107            0            Yes         44617.0                 124.0   \n",
      "381108            1             No         41777.0                  26.0   \n",
      "\n",
      "        Vintage  Response  \n",
      "0           217         1  \n",
      "1           183         0  \n",
      "2            27         1  \n",
      "3           203         0  \n",
      "4            39         0  \n",
      "...         ...       ...  \n",
      "381104       88         0  \n",
      "381105      131         0  \n",
      "381106      161         0  \n",
      "381107       74         0  \n",
      "381108      237         0  \n",
      "\n",
      "[381109 rows x 12 columns]\n"
     ]
    }
   ],
   "source": [
    "#Select feature column names and target variable we are going to use for training\n",
    "Vehicle_Age  = {'> 2 Years': 0,'1-2 Year': 1,'< 1 Year': 2} \n",
    "  \n",
    "# traversing through dataframe \n",
    "# Vehicle_Age column and writing \n",
    "# values where key matches \n",
    "train.Vehicle_Age = [Vehicle_Age[item] for item in train.Vehicle_Age] \n",
    "print(train)"
   ]
  },
  {
   "cell_type": "code",
   "execution_count": 4,
   "metadata": {
    "execution": {
     "iopub.execute_input": "2020-09-21T08:22:47.203792Z",
     "iopub.status.busy": "2020-09-21T08:22:47.198762Z",
     "iopub.status.idle": "2020-09-21T08:22:47.479103Z",
     "shell.execute_reply": "2020-09-21T08:22:47.478323Z"
    },
    "papermill": {
     "duration": 0.327204,
     "end_time": "2020-09-21T08:22:47.479228",
     "exception": false,
     "start_time": "2020-09-21T08:22:47.152024",
     "status": "completed"
    },
    "tags": []
   },
   "outputs": [
    {
     "name": "stdout",
     "output_type": "stream",
     "text": [
      "            id  Gender  Age  Driving_License  Region_Code  Previously_Insured  \\\n",
      "0            1       1   44                1         28.0                   0   \n",
      "1            2       1   76                1          3.0                   0   \n",
      "2            3       1   47                1         28.0                   0   \n",
      "3            4       1   21                1         11.0                   1   \n",
      "4            5       0   29                1         41.0                   1   \n",
      "...        ...     ...  ...              ...          ...                 ...   \n",
      "381104  381105       1   74                1         26.0                   1   \n",
      "381105  381106       1   30                1         37.0                   1   \n",
      "381106  381107       1   21                1         30.0                   1   \n",
      "381107  381108       0   68                1         14.0                   0   \n",
      "381108  381109       1   46                1         29.0                   0   \n",
      "\n",
      "        Vehicle_Age  Vehicle_Damage  Annual_Premium  Policy_Sales_Channel  \\\n",
      "0                 0               0         40454.0                  26.0   \n",
      "1                 1               1         33536.0                  26.0   \n",
      "2                 0               0         38294.0                  26.0   \n",
      "3                 2               1         28619.0                 152.0   \n",
      "4                 2               1         27496.0                 152.0   \n",
      "...             ...             ...             ...                   ...   \n",
      "381104            1               1         30170.0                  26.0   \n",
      "381105            2               1         40016.0                 152.0   \n",
      "381106            2               1         35118.0                 160.0   \n",
      "381107            0               0         44617.0                 124.0   \n",
      "381108            1               1         41777.0                  26.0   \n",
      "\n",
      "        Vintage  Response  \n",
      "0           217         1  \n",
      "1           183         0  \n",
      "2            27         1  \n",
      "3           203         0  \n",
      "4            39         0  \n",
      "...         ...       ...  \n",
      "381104       88         0  \n",
      "381105      131         0  \n",
      "381106      161         0  \n",
      "381107       74         0  \n",
      "381108      237         0  \n",
      "\n",
      "[381109 rows x 12 columns]\n"
     ]
    }
   ],
   "source": [
    "#Select feature column names and target variable we are going to use for training\n",
    "Vehicle_Damage  = {'Yes': 0,'No': 1} \n",
    "  \n",
    "# traversing through dataframe \n",
    "# Vehicle_Age column and writing \n",
    "# values where key matches \n",
    "train.Vehicle_Damage = [Vehicle_Damage[item] for item in train.Vehicle_Damage] \n",
    "print(train)"
   ]
  },
  {
   "cell_type": "code",
   "execution_count": 5,
   "metadata": {
    "execution": {
     "iopub.execute_input": "2020-09-21T08:22:47.532314Z",
     "iopub.status.busy": "2020-09-21T08:22:47.531213Z",
     "iopub.status.idle": "2020-09-21T08:22:47.607823Z",
     "shell.execute_reply": "2020-09-21T08:22:47.608473Z"
    },
    "papermill": {
     "duration": 0.106513,
     "end_time": "2020-09-21T08:22:47.608636",
     "exception": false,
     "start_time": "2020-09-21T08:22:47.502123",
     "status": "completed"
    },
    "tags": []
   },
   "outputs": [
    {
     "name": "stdout",
     "output_type": "stream",
     "text": [
      "<class 'pandas.core.frame.DataFrame'>\n",
      "RangeIndex: 381109 entries, 0 to 381108\n",
      "Data columns (total 12 columns):\n",
      " #   Column                Non-Null Count   Dtype  \n",
      "---  ------                --------------   -----  \n",
      " 0   id                    381109 non-null  int64  \n",
      " 1   Gender                381109 non-null  int64  \n",
      " 2   Age                   381109 non-null  int64  \n",
      " 3   Driving_License       381109 non-null  int64  \n",
      " 4   Region_Code           381109 non-null  float64\n",
      " 5   Previously_Insured    381109 non-null  int64  \n",
      " 6   Vehicle_Age           381109 non-null  int64  \n",
      " 7   Vehicle_Damage        381109 non-null  int64  \n",
      " 8   Annual_Premium        381109 non-null  float64\n",
      " 9   Policy_Sales_Channel  381109 non-null  float64\n",
      " 10  Vintage               381109 non-null  int64  \n",
      " 11  Response              381109 non-null  int64  \n",
      "dtypes: float64(3), int64(9)\n",
      "memory usage: 34.9 MB\n"
     ]
    },
    {
     "data": {
      "text/html": [
       "<div>\n",
       "<style scoped>\n",
       "    .dataframe tbody tr th:only-of-type {\n",
       "        vertical-align: middle;\n",
       "    }\n",
       "\n",
       "    .dataframe tbody tr th {\n",
       "        vertical-align: top;\n",
       "    }\n",
       "\n",
       "    .dataframe thead th {\n",
       "        text-align: right;\n",
       "    }\n",
       "</style>\n",
       "<table border=\"1\" class=\"dataframe\">\n",
       "  <thead>\n",
       "    <tr style=\"text-align: right;\">\n",
       "      <th></th>\n",
       "      <th>id</th>\n",
       "      <th>Gender</th>\n",
       "      <th>Age</th>\n",
       "      <th>Driving_License</th>\n",
       "      <th>Region_Code</th>\n",
       "      <th>Previously_Insured</th>\n",
       "      <th>Vehicle_Age</th>\n",
       "      <th>Vehicle_Damage</th>\n",
       "      <th>Annual_Premium</th>\n",
       "      <th>Policy_Sales_Channel</th>\n",
       "      <th>Vintage</th>\n",
       "      <th>Response</th>\n",
       "    </tr>\n",
       "  </thead>\n",
       "  <tbody>\n",
       "    <tr>\n",
       "      <th>0</th>\n",
       "      <td>1</td>\n",
       "      <td>1</td>\n",
       "      <td>44</td>\n",
       "      <td>1</td>\n",
       "      <td>28.0</td>\n",
       "      <td>0</td>\n",
       "      <td>0</td>\n",
       "      <td>0</td>\n",
       "      <td>40454.0</td>\n",
       "      <td>26.0</td>\n",
       "      <td>217</td>\n",
       "      <td>1</td>\n",
       "    </tr>\n",
       "    <tr>\n",
       "      <th>1</th>\n",
       "      <td>2</td>\n",
       "      <td>1</td>\n",
       "      <td>76</td>\n",
       "      <td>1</td>\n",
       "      <td>3.0</td>\n",
       "      <td>0</td>\n",
       "      <td>1</td>\n",
       "      <td>1</td>\n",
       "      <td>33536.0</td>\n",
       "      <td>26.0</td>\n",
       "      <td>183</td>\n",
       "      <td>0</td>\n",
       "    </tr>\n",
       "    <tr>\n",
       "      <th>2</th>\n",
       "      <td>3</td>\n",
       "      <td>1</td>\n",
       "      <td>47</td>\n",
       "      <td>1</td>\n",
       "      <td>28.0</td>\n",
       "      <td>0</td>\n",
       "      <td>0</td>\n",
       "      <td>0</td>\n",
       "      <td>38294.0</td>\n",
       "      <td>26.0</td>\n",
       "      <td>27</td>\n",
       "      <td>1</td>\n",
       "    </tr>\n",
       "    <tr>\n",
       "      <th>3</th>\n",
       "      <td>4</td>\n",
       "      <td>1</td>\n",
       "      <td>21</td>\n",
       "      <td>1</td>\n",
       "      <td>11.0</td>\n",
       "      <td>1</td>\n",
       "      <td>2</td>\n",
       "      <td>1</td>\n",
       "      <td>28619.0</td>\n",
       "      <td>152.0</td>\n",
       "      <td>203</td>\n",
       "      <td>0</td>\n",
       "    </tr>\n",
       "    <tr>\n",
       "      <th>4</th>\n",
       "      <td>5</td>\n",
       "      <td>0</td>\n",
       "      <td>29</td>\n",
       "      <td>1</td>\n",
       "      <td>41.0</td>\n",
       "      <td>1</td>\n",
       "      <td>2</td>\n",
       "      <td>1</td>\n",
       "      <td>27496.0</td>\n",
       "      <td>152.0</td>\n",
       "      <td>39</td>\n",
       "      <td>0</td>\n",
       "    </tr>\n",
       "    <tr>\n",
       "      <th>5</th>\n",
       "      <td>6</td>\n",
       "      <td>0</td>\n",
       "      <td>24</td>\n",
       "      <td>1</td>\n",
       "      <td>33.0</td>\n",
       "      <td>0</td>\n",
       "      <td>2</td>\n",
       "      <td>0</td>\n",
       "      <td>2630.0</td>\n",
       "      <td>160.0</td>\n",
       "      <td>176</td>\n",
       "      <td>0</td>\n",
       "    </tr>\n",
       "    <tr>\n",
       "      <th>6</th>\n",
       "      <td>7</td>\n",
       "      <td>1</td>\n",
       "      <td>23</td>\n",
       "      <td>1</td>\n",
       "      <td>11.0</td>\n",
       "      <td>0</td>\n",
       "      <td>2</td>\n",
       "      <td>0</td>\n",
       "      <td>23367.0</td>\n",
       "      <td>152.0</td>\n",
       "      <td>249</td>\n",
       "      <td>0</td>\n",
       "    </tr>\n",
       "    <tr>\n",
       "      <th>7</th>\n",
       "      <td>8</td>\n",
       "      <td>0</td>\n",
       "      <td>56</td>\n",
       "      <td>1</td>\n",
       "      <td>28.0</td>\n",
       "      <td>0</td>\n",
       "      <td>1</td>\n",
       "      <td>0</td>\n",
       "      <td>32031.0</td>\n",
       "      <td>26.0</td>\n",
       "      <td>72</td>\n",
       "      <td>1</td>\n",
       "    </tr>\n",
       "    <tr>\n",
       "      <th>8</th>\n",
       "      <td>9</td>\n",
       "      <td>0</td>\n",
       "      <td>24</td>\n",
       "      <td>1</td>\n",
       "      <td>3.0</td>\n",
       "      <td>1</td>\n",
       "      <td>2</td>\n",
       "      <td>1</td>\n",
       "      <td>27619.0</td>\n",
       "      <td>152.0</td>\n",
       "      <td>28</td>\n",
       "      <td>0</td>\n",
       "    </tr>\n",
       "    <tr>\n",
       "      <th>9</th>\n",
       "      <td>10</td>\n",
       "      <td>0</td>\n",
       "      <td>32</td>\n",
       "      <td>1</td>\n",
       "      <td>6.0</td>\n",
       "      <td>1</td>\n",
       "      <td>2</td>\n",
       "      <td>1</td>\n",
       "      <td>28771.0</td>\n",
       "      <td>152.0</td>\n",
       "      <td>80</td>\n",
       "      <td>0</td>\n",
       "    </tr>\n",
       "  </tbody>\n",
       "</table>\n",
       "</div>"
      ],
      "text/plain": [
       "   id  Gender  Age  Driving_License  Region_Code  Previously_Insured  \\\n",
       "0   1       1   44                1         28.0                   0   \n",
       "1   2       1   76                1          3.0                   0   \n",
       "2   3       1   47                1         28.0                   0   \n",
       "3   4       1   21                1         11.0                   1   \n",
       "4   5       0   29                1         41.0                   1   \n",
       "5   6       0   24                1         33.0                   0   \n",
       "6   7       1   23                1         11.0                   0   \n",
       "7   8       0   56                1         28.0                   0   \n",
       "8   9       0   24                1          3.0                   1   \n",
       "9  10       0   32                1          6.0                   1   \n",
       "\n",
       "   Vehicle_Age  Vehicle_Damage  Annual_Premium  Policy_Sales_Channel  Vintage  \\\n",
       "0            0               0         40454.0                  26.0      217   \n",
       "1            1               1         33536.0                  26.0      183   \n",
       "2            0               0         38294.0                  26.0       27   \n",
       "3            2               1         28619.0                 152.0      203   \n",
       "4            2               1         27496.0                 152.0       39   \n",
       "5            2               0          2630.0                 160.0      176   \n",
       "6            2               0         23367.0                 152.0      249   \n",
       "7            1               0         32031.0                  26.0       72   \n",
       "8            2               1         27619.0                 152.0       28   \n",
       "9            2               1         28771.0                 152.0       80   \n",
       "\n",
       "   Response  \n",
       "0         1  \n",
       "1         0  \n",
       "2         1  \n",
       "3         0  \n",
       "4         0  \n",
       "5         0  \n",
       "6         0  \n",
       "7         1  \n",
       "8         0  \n",
       "9         0  "
      ]
     },
     "execution_count": 5,
     "metadata": {},
     "output_type": "execute_result"
    }
   ],
   "source": [
    "train.info()\n",
    "train[0:10]"
   ]
  },
  {
   "cell_type": "code",
   "execution_count": 6,
   "metadata": {
    "execution": {
     "iopub.execute_input": "2020-09-21T08:22:47.683925Z",
     "iopub.status.busy": "2020-09-21T08:22:47.673460Z",
     "iopub.status.idle": "2020-09-21T08:22:47.776261Z",
     "shell.execute_reply": "2020-09-21T08:22:47.775516Z"
    },
    "papermill": {
     "duration": 0.143621,
     "end_time": "2020-09-21T08:22:47.776440",
     "exception": false,
     "start_time": "2020-09-21T08:22:47.632819",
     "status": "completed"
    },
    "tags": []
   },
   "outputs": [
    {
     "name": "stdout",
     "output_type": "stream",
     "text": [
      "            id  Gender  Age  Driving_License  Region_Code  Previously_Insured  \\\n",
      "0       381110       1   25                1         11.0                   1   \n",
      "1       381111       1   40                1         28.0                   0   \n",
      "2       381112       1   47                1         28.0                   0   \n",
      "3       381113       1   24                1         27.0                   1   \n",
      "4       381114       1   27                1         28.0                   1   \n",
      "...        ...     ...  ...              ...          ...                 ...   \n",
      "127032  508142       0   26                1         37.0                   1   \n",
      "127033  508143       0   38                1         28.0                   0   \n",
      "127034  508144       1   21                1         46.0                   1   \n",
      "127035  508145       1   71                1         28.0                   1   \n",
      "127036  508146       1   41                1         29.0                   1   \n",
      "\n",
      "       Vehicle_Age Vehicle_Damage  Annual_Premium  Policy_Sales_Channel  \\\n",
      "0         < 1 Year             No         35786.0                 152.0   \n",
      "1         1-2 Year            Yes         33762.0                   7.0   \n",
      "2         1-2 Year            Yes         40050.0                 124.0   \n",
      "3         < 1 Year            Yes         37356.0                 152.0   \n",
      "4         < 1 Year             No         59097.0                 152.0   \n",
      "...            ...            ...             ...                   ...   \n",
      "127032    < 1 Year             No         30867.0                 152.0   \n",
      "127033    1-2 Year            Yes         28700.0                 122.0   \n",
      "127034    < 1 Year             No         29802.0                 152.0   \n",
      "127035    1-2 Year             No         62875.0                  26.0   \n",
      "127036    1-2 Year             No         27927.0                 124.0   \n",
      "\n",
      "        Vintage  \n",
      "0            53  \n",
      "1           111  \n",
      "2           199  \n",
      "3           187  \n",
      "4           297  \n",
      "...         ...  \n",
      "127032       56  \n",
      "127033      165  \n",
      "127034       74  \n",
      "127035      265  \n",
      "127036      231  \n",
      "\n",
      "[127037 rows x 11 columns]\n"
     ]
    }
   ],
   "source": [
    "#Select feature column names and target variable we are going to use for training\n",
    "Gender  = {'Male': 1,'Female': 0} \n",
    "  \n",
    "# traversing through dataframe \n",
    "# Gender column and writing \n",
    "# values where key matches \n",
    "test.Gender = [Gender[item] for item in test.Gender] \n",
    "print(test)"
   ]
  },
  {
   "cell_type": "code",
   "execution_count": 7,
   "metadata": {
    "execution": {
     "iopub.execute_input": "2020-09-21T08:22:47.856721Z",
     "iopub.status.busy": "2020-09-21T08:22:47.835819Z",
     "iopub.status.idle": "2020-09-21T08:22:47.945125Z",
     "shell.execute_reply": "2020-09-21T08:22:47.944238Z"
    },
    "papermill": {
     "duration": 0.142991,
     "end_time": "2020-09-21T08:22:47.945309",
     "exception": false,
     "start_time": "2020-09-21T08:22:47.802318",
     "status": "completed"
    },
    "tags": []
   },
   "outputs": [
    {
     "name": "stdout",
     "output_type": "stream",
     "text": [
      "            id  Gender  Age  Driving_License  Region_Code  Previously_Insured  \\\n",
      "0       381110       1   25                1         11.0                   1   \n",
      "1       381111       1   40                1         28.0                   0   \n",
      "2       381112       1   47                1         28.0                   0   \n",
      "3       381113       1   24                1         27.0                   1   \n",
      "4       381114       1   27                1         28.0                   1   \n",
      "...        ...     ...  ...              ...          ...                 ...   \n",
      "127032  508142       0   26                1         37.0                   1   \n",
      "127033  508143       0   38                1         28.0                   0   \n",
      "127034  508144       1   21                1         46.0                   1   \n",
      "127035  508145       1   71                1         28.0                   1   \n",
      "127036  508146       1   41                1         29.0                   1   \n",
      "\n",
      "       Vehicle_Age  Vehicle_Damage  Annual_Premium  Policy_Sales_Channel  \\\n",
      "0         < 1 Year               0         35786.0                 152.0   \n",
      "1         1-2 Year               1         33762.0                   7.0   \n",
      "2         1-2 Year               1         40050.0                 124.0   \n",
      "3         < 1 Year               1         37356.0                 152.0   \n",
      "4         < 1 Year               0         59097.0                 152.0   \n",
      "...            ...             ...             ...                   ...   \n",
      "127032    < 1 Year               0         30867.0                 152.0   \n",
      "127033    1-2 Year               1         28700.0                 122.0   \n",
      "127034    < 1 Year               0         29802.0                 152.0   \n",
      "127035    1-2 Year               0         62875.0                  26.0   \n",
      "127036    1-2 Year               0         27927.0                 124.0   \n",
      "\n",
      "        Vintage  \n",
      "0            53  \n",
      "1           111  \n",
      "2           199  \n",
      "3           187  \n",
      "4           297  \n",
      "...         ...  \n",
      "127032       56  \n",
      "127033      165  \n",
      "127034       74  \n",
      "127035      265  \n",
      "127036      231  \n",
      "\n",
      "[127037 rows x 11 columns]\n"
     ]
    }
   ],
   "source": [
    "#Select feature column names and target variable we are going to use for training\n",
    "Vehicle_Damage  = {'Yes': 1,'No':0} \n",
    "  \n",
    "# traversing through dataframe \n",
    "# Vehicle_Age column and writing \n",
    "# values where key matches \n",
    "test.Vehicle_Damage = [Vehicle_Damage[item] for item in test.Vehicle_Damage] \n",
    "print(test)"
   ]
  },
  {
   "cell_type": "code",
   "execution_count": 8,
   "metadata": {
    "execution": {
     "iopub.execute_input": "2020-09-21T08:22:48.032782Z",
     "iopub.status.busy": "2020-09-21T08:22:48.016873Z",
     "iopub.status.idle": "2020-09-21T08:22:48.113681Z",
     "shell.execute_reply": "2020-09-21T08:22:48.114302Z"
    },
    "papermill": {
     "duration": 0.143129,
     "end_time": "2020-09-21T08:22:48.114458",
     "exception": false,
     "start_time": "2020-09-21T08:22:47.971329",
     "status": "completed"
    },
    "tags": []
   },
   "outputs": [
    {
     "name": "stdout",
     "output_type": "stream",
     "text": [
      "            id  Gender  Age  Driving_License  Region_Code  Previously_Insured  \\\n",
      "0       381110       1   25                1         11.0                   1   \n",
      "1       381111       1   40                1         28.0                   0   \n",
      "2       381112       1   47                1         28.0                   0   \n",
      "3       381113       1   24                1         27.0                   1   \n",
      "4       381114       1   27                1         28.0                   1   \n",
      "...        ...     ...  ...              ...          ...                 ...   \n",
      "127032  508142       0   26                1         37.0                   1   \n",
      "127033  508143       0   38                1         28.0                   0   \n",
      "127034  508144       1   21                1         46.0                   1   \n",
      "127035  508145       1   71                1         28.0                   1   \n",
      "127036  508146       1   41                1         29.0                   1   \n",
      "\n",
      "        Vehicle_Age  Vehicle_Damage  Annual_Premium  Policy_Sales_Channel  \\\n",
      "0                 2               0         35786.0                 152.0   \n",
      "1                 1               1         33762.0                   7.0   \n",
      "2                 1               1         40050.0                 124.0   \n",
      "3                 2               1         37356.0                 152.0   \n",
      "4                 2               0         59097.0                 152.0   \n",
      "...             ...             ...             ...                   ...   \n",
      "127032            2               0         30867.0                 152.0   \n",
      "127033            1               1         28700.0                 122.0   \n",
      "127034            2               0         29802.0                 152.0   \n",
      "127035            1               0         62875.0                  26.0   \n",
      "127036            1               0         27927.0                 124.0   \n",
      "\n",
      "        Vintage  \n",
      "0            53  \n",
      "1           111  \n",
      "2           199  \n",
      "3           187  \n",
      "4           297  \n",
      "...         ...  \n",
      "127032       56  \n",
      "127033      165  \n",
      "127034       74  \n",
      "127035      265  \n",
      "127036      231  \n",
      "\n",
      "[127037 rows x 11 columns]\n"
     ]
    }
   ],
   "source": [
    "#Select feature column names and target variable we are going to use for training\n",
    "Vehicle_Age  = {'> 2 Years': 0,'1-2 Year': 1,'< 1 Year': 2} \n",
    "  \n",
    "# traversing through dataframe \n",
    "# Vehicle_Age column and writing \n",
    "# values where key matches \n",
    "test.Vehicle_Age = [Vehicle_Age[item] for item in test.Vehicle_Age] \n",
    "print(test)"
   ]
  },
  {
   "cell_type": "code",
   "execution_count": 10,
   "metadata": {
    "execution": {
     "iopub.execute_input": "2020-09-21T08:22:48.173675Z",
     "iopub.status.busy": "2020-09-21T08:22:48.172833Z",
     "iopub.status.idle": "2020-09-21T08:22:48.205635Z",
     "shell.execute_reply": "2020-09-21T08:22:48.205019Z"
    },
    "papermill": {
     "duration": 0.065263,
     "end_time": "2020-09-21T08:22:48.205767",
     "exception": false,
     "start_time": "2020-09-21T08:22:48.140504",
     "status": "completed"
    },
    "tags": []
   },
   "outputs": [
    {
     "name": "stdout",
     "output_type": "stream",
     "text": [
      "<class 'pandas.core.frame.DataFrame'>\n",
      "RangeIndex: 127037 entries, 0 to 127036\n",
      "Data columns (total 11 columns):\n",
      " #   Column                Non-Null Count   Dtype  \n",
      "---  ------                --------------   -----  \n",
      " 0   id                    127037 non-null  int64  \n",
      " 1   Gender                127037 non-null  int64  \n",
      " 2   Age                   127037 non-null  int64  \n",
      " 3   Driving_License       127037 non-null  int64  \n",
      " 4   Region_Code           127037 non-null  float64\n",
      " 5   Previously_Insured    127037 non-null  int64  \n",
      " 6   Vehicle_Age           127037 non-null  int64  \n",
      " 7   Vehicle_Damage        127037 non-null  int64  \n",
      " 8   Annual_Premium        127037 non-null  float64\n",
      " 9   Policy_Sales_Channel  127037 non-null  float64\n",
      " 10  Vintage               127037 non-null  int64  \n",
      "dtypes: float64(3), int64(8)\n",
      "memory usage: 10.7 MB\n"
     ]
    },
    {
     "data": {
      "text/html": [
       "<div>\n",
       "<style scoped>\n",
       "    .dataframe tbody tr th:only-of-type {\n",
       "        vertical-align: middle;\n",
       "    }\n",
       "\n",
       "    .dataframe tbody tr th {\n",
       "        vertical-align: top;\n",
       "    }\n",
       "\n",
       "    .dataframe thead th {\n",
       "        text-align: right;\n",
       "    }\n",
       "</style>\n",
       "<table border=\"1\" class=\"dataframe\">\n",
       "  <thead>\n",
       "    <tr style=\"text-align: right;\">\n",
       "      <th></th>\n",
       "      <th>id</th>\n",
       "      <th>Gender</th>\n",
       "      <th>Age</th>\n",
       "      <th>Driving_License</th>\n",
       "      <th>Region_Code</th>\n",
       "      <th>Previously_Insured</th>\n",
       "      <th>Vehicle_Age</th>\n",
       "      <th>Vehicle_Damage</th>\n",
       "      <th>Annual_Premium</th>\n",
       "      <th>Policy_Sales_Channel</th>\n",
       "      <th>Vintage</th>\n",
       "    </tr>\n",
       "  </thead>\n",
       "  <tbody>\n",
       "    <tr>\n",
       "      <th>0</th>\n",
       "      <td>381110</td>\n",
       "      <td>1</td>\n",
       "      <td>25</td>\n",
       "      <td>1</td>\n",
       "      <td>11.0</td>\n",
       "      <td>1</td>\n",
       "      <td>2</td>\n",
       "      <td>0</td>\n",
       "      <td>35786.0</td>\n",
       "      <td>152.0</td>\n",
       "      <td>53</td>\n",
       "    </tr>\n",
       "    <tr>\n",
       "      <th>1</th>\n",
       "      <td>381111</td>\n",
       "      <td>1</td>\n",
       "      <td>40</td>\n",
       "      <td>1</td>\n",
       "      <td>28.0</td>\n",
       "      <td>0</td>\n",
       "      <td>1</td>\n",
       "      <td>1</td>\n",
       "      <td>33762.0</td>\n",
       "      <td>7.0</td>\n",
       "      <td>111</td>\n",
       "    </tr>\n",
       "    <tr>\n",
       "      <th>2</th>\n",
       "      <td>381112</td>\n",
       "      <td>1</td>\n",
       "      <td>47</td>\n",
       "      <td>1</td>\n",
       "      <td>28.0</td>\n",
       "      <td>0</td>\n",
       "      <td>1</td>\n",
       "      <td>1</td>\n",
       "      <td>40050.0</td>\n",
       "      <td>124.0</td>\n",
       "      <td>199</td>\n",
       "    </tr>\n",
       "    <tr>\n",
       "      <th>3</th>\n",
       "      <td>381113</td>\n",
       "      <td>1</td>\n",
       "      <td>24</td>\n",
       "      <td>1</td>\n",
       "      <td>27.0</td>\n",
       "      <td>1</td>\n",
       "      <td>2</td>\n",
       "      <td>1</td>\n",
       "      <td>37356.0</td>\n",
       "      <td>152.0</td>\n",
       "      <td>187</td>\n",
       "    </tr>\n",
       "    <tr>\n",
       "      <th>4</th>\n",
       "      <td>381114</td>\n",
       "      <td>1</td>\n",
       "      <td>27</td>\n",
       "      <td>1</td>\n",
       "      <td>28.0</td>\n",
       "      <td>1</td>\n",
       "      <td>2</td>\n",
       "      <td>0</td>\n",
       "      <td>59097.0</td>\n",
       "      <td>152.0</td>\n",
       "      <td>297</td>\n",
       "    </tr>\n",
       "    <tr>\n",
       "      <th>5</th>\n",
       "      <td>381115</td>\n",
       "      <td>1</td>\n",
       "      <td>22</td>\n",
       "      <td>1</td>\n",
       "      <td>30.0</td>\n",
       "      <td>1</td>\n",
       "      <td>2</td>\n",
       "      <td>0</td>\n",
       "      <td>40207.0</td>\n",
       "      <td>152.0</td>\n",
       "      <td>266</td>\n",
       "    </tr>\n",
       "    <tr>\n",
       "      <th>6</th>\n",
       "      <td>381116</td>\n",
       "      <td>0</td>\n",
       "      <td>51</td>\n",
       "      <td>1</td>\n",
       "      <td>37.0</td>\n",
       "      <td>1</td>\n",
       "      <td>1</td>\n",
       "      <td>0</td>\n",
       "      <td>40118.0</td>\n",
       "      <td>26.0</td>\n",
       "      <td>107</td>\n",
       "    </tr>\n",
       "    <tr>\n",
       "      <th>7</th>\n",
       "      <td>381117</td>\n",
       "      <td>1</td>\n",
       "      <td>25</td>\n",
       "      <td>1</td>\n",
       "      <td>41.0</td>\n",
       "      <td>1</td>\n",
       "      <td>2</td>\n",
       "      <td>0</td>\n",
       "      <td>23375.0</td>\n",
       "      <td>152.0</td>\n",
       "      <td>232</td>\n",
       "    </tr>\n",
       "    <tr>\n",
       "      <th>8</th>\n",
       "      <td>381118</td>\n",
       "      <td>1</td>\n",
       "      <td>42</td>\n",
       "      <td>1</td>\n",
       "      <td>41.0</td>\n",
       "      <td>0</td>\n",
       "      <td>1</td>\n",
       "      <td>1</td>\n",
       "      <td>2630.0</td>\n",
       "      <td>26.0</td>\n",
       "      <td>277</td>\n",
       "    </tr>\n",
       "    <tr>\n",
       "      <th>9</th>\n",
       "      <td>381119</td>\n",
       "      <td>0</td>\n",
       "      <td>37</td>\n",
       "      <td>1</td>\n",
       "      <td>12.0</td>\n",
       "      <td>1</td>\n",
       "      <td>1</td>\n",
       "      <td>0</td>\n",
       "      <td>27124.0</td>\n",
       "      <td>124.0</td>\n",
       "      <td>133</td>\n",
       "    </tr>\n",
       "  </tbody>\n",
       "</table>\n",
       "</div>"
      ],
      "text/plain": [
       "       id  Gender  Age  Driving_License  Region_Code  Previously_Insured  \\\n",
       "0  381110       1   25                1         11.0                   1   \n",
       "1  381111       1   40                1         28.0                   0   \n",
       "2  381112       1   47                1         28.0                   0   \n",
       "3  381113       1   24                1         27.0                   1   \n",
       "4  381114       1   27                1         28.0                   1   \n",
       "5  381115       1   22                1         30.0                   1   \n",
       "6  381116       0   51                1         37.0                   1   \n",
       "7  381117       1   25                1         41.0                   1   \n",
       "8  381118       1   42                1         41.0                   0   \n",
       "9  381119       0   37                1         12.0                   1   \n",
       "\n",
       "   Vehicle_Age  Vehicle_Damage  Annual_Premium  Policy_Sales_Channel  Vintage  \n",
       "0            2               0         35786.0                 152.0       53  \n",
       "1            1               1         33762.0                   7.0      111  \n",
       "2            1               1         40050.0                 124.0      199  \n",
       "3            2               1         37356.0                 152.0      187  \n",
       "4            2               0         59097.0                 152.0      297  \n",
       "5            2               0         40207.0                 152.0      266  \n",
       "6            1               0         40118.0                  26.0      107  \n",
       "7            2               0         23375.0                 152.0      232  \n",
       "8            1               1          2630.0                  26.0      277  \n",
       "9            1               0         27124.0                 124.0      133  "
      ]
     },
     "execution_count": 10,
     "metadata": {},
     "output_type": "execute_result"
    }
   ],
   "source": [
    "test.info()\n",
    "test[0:10]"
   ]
  },
  {
   "cell_type": "code",
   "execution_count": 11,
   "metadata": {
    "execution": {
     "iopub.execute_input": "2020-09-21T08:22:48.267808Z",
     "iopub.status.busy": "2020-09-21T08:22:48.266982Z",
     "iopub.status.idle": "2020-09-21T08:22:48.277577Z",
     "shell.execute_reply": "2020-09-21T08:22:48.278154Z"
    },
    "papermill": {
     "duration": 0.044729,
     "end_time": "2020-09-21T08:22:48.278346",
     "exception": false,
     "start_time": "2020-09-21T08:22:48.233617",
     "status": "completed"
    },
    "tags": []
   },
   "outputs": [
    {
     "name": "stdout",
     "output_type": "stream",
     "text": [
      "Any missing sample in training set: False\n",
      "Any missing sample in test set: False \n",
      "\n"
     ]
    }
   ],
   "source": [
    "print(\"Any missing sample in training set:\",train.isnull().values.any())\n",
    "print(\"Any missing sample in test set:\",test.isnull().values.any(), \"\\n\")"
   ]
  },
  {
   "cell_type": "code",
   "execution_count": 9,
   "metadata": {
    "execution": {
     "iopub.execute_input": "2020-09-21T08:22:48.342377Z",
     "iopub.status.busy": "2020-09-21T08:22:48.341583Z",
     "iopub.status.idle": "2020-09-21T08:22:48.476715Z",
     "shell.execute_reply": "2020-09-21T08:22:48.477558Z"
    },
    "papermill": {
     "duration": 0.171225,
     "end_time": "2020-09-21T08:22:48.477784",
     "exception": false,
     "start_time": "2020-09-21T08:22:48.306559",
     "status": "completed"
    },
    "tags": []
   },
   "outputs": [
    {
     "data": {
      "application/javascript": "\n        if (window._pyforest_update_imports_cell) { window._pyforest_update_imports_cell('import pandas as pd'); }\n    ",
      "text/plain": [
       "<IPython.core.display.Javascript object>"
      ]
     },
     "metadata": {},
     "output_type": "display_data"
    },
    {
     "data": {
      "text/html": [
       "<div>\n",
       "<style scoped>\n",
       "    .dataframe tbody tr th:only-of-type {\n",
       "        vertical-align: middle;\n",
       "    }\n",
       "\n",
       "    .dataframe tbody tr th {\n",
       "        vertical-align: top;\n",
       "    }\n",
       "\n",
       "    .dataframe thead th {\n",
       "        text-align: right;\n",
       "    }\n",
       "</style>\n",
       "<table border=\"1\" class=\"dataframe\">\n",
       "  <thead>\n",
       "    <tr style=\"text-align: right;\">\n",
       "      <th>col_0</th>\n",
       "      <th>count</th>\n",
       "    </tr>\n",
       "    <tr>\n",
       "      <th>Response</th>\n",
       "      <th></th>\n",
       "    </tr>\n",
       "  </thead>\n",
       "  <tbody>\n",
       "    <tr>\n",
       "      <th>0</th>\n",
       "      <td>334399</td>\n",
       "    </tr>\n",
       "    <tr>\n",
       "      <th>1</th>\n",
       "      <td>46710</td>\n",
       "    </tr>\n",
       "  </tbody>\n",
       "</table>\n",
       "</div>"
      ],
      "text/plain": [
       "col_0      count\n",
       "Response        \n",
       "0         334399\n",
       "1          46710"
      ]
     },
     "execution_count": 9,
     "metadata": {},
     "output_type": "execute_result"
    }
   ],
   "source": [
    "#Frequency distribution of classes\"\n",
    "train_outcome = pd.crosstab(index=train[\"Response\"],  # Make a crosstab\n",
    "                              columns=\"count\")      # Name the count column\n",
    "\n",
    "train_outcome"
   ]
  },
  {
   "cell_type": "markdown",
   "metadata": {
    "papermill": {
     "duration": 0.035548,
     "end_time": "2020-09-21T08:22:48.550214",
     "exception": false,
     "start_time": "2020-09-21T08:22:48.514666",
     "status": "completed"
    },
    "tags": []
   },
   "source": [
    "# Plotting Heatmap\n"
   ]
  },
  {
   "cell_type": "markdown",
   "metadata": {
    "papermill": {
     "duration": 0.028885,
     "end_time": "2020-09-21T08:22:48.608436",
     "exception": false,
     "start_time": "2020-09-21T08:22:48.579551",
     "status": "completed"
    },
    "tags": []
   },
   "source": [
    "Heatmap can be defined as a method of graphically representing numerical data where individual data points contained in the matrix are represented using different colors. The colors in the heatmap can denote the frequency of an event, the performance of various metrics in the data set, and so on. Different color schemes are selected by varying businesses to present the data they want to be plotted on a heatmap [2]."
   ]
  },
  {
   "cell_type": "code",
   "execution_count": 10,
   "metadata": {
    "execution": {
     "iopub.execute_input": "2020-09-21T08:22:48.685210Z",
     "iopub.status.busy": "2020-09-21T08:22:48.683776Z",
     "iopub.status.idle": "2020-09-21T08:22:49.196205Z",
     "shell.execute_reply": "2020-09-21T08:22:49.195458Z"
    },
    "papermill": {
     "duration": 0.558341,
     "end_time": "2020-09-21T08:22:49.196346",
     "exception": false,
     "start_time": "2020-09-21T08:22:48.638005",
     "status": "completed"
    },
    "tags": []
   },
   "outputs": [
    {
     "data": {
      "application/javascript": "\n        if (window._pyforest_update_imports_cell) { window._pyforest_update_imports_cell('import seaborn as sns\\nimport pandas as pd'); }\n    ",
      "text/plain": [
       "<IPython.core.display.Javascript object>"
      ]
     },
     "metadata": {},
     "output_type": "display_data"
    },
    {
     "data": {
      "text/plain": [
       "<Axes: >"
      ]
     },
     "execution_count": 10,
     "metadata": {},
     "output_type": "execute_result"
    },
    {
     "data": {
      "image/png": "[encoded data removed]",
      "text/plain": [
       "<Figure size 640x480 with 2 Axes>"
      ]
     },
     "metadata": {},
     "output_type": "display_data"
    }
   ],
   "source": [
    "train = train[['Gender','Age','Driving_License','Region_Code','Previously_Insured','Vehicle_Age','Vehicle_Damage','Annual_Premium',\n",
    "'Policy_Sales_Channel','Vintage','Response']] #Subsetting the data\n",
    "cor = train.corr() #Calculate the correlation of the above variables\n",
    "sns.heatmap(cor, square = True) #Plot the correlation as heat map"
   ]
  },
  {
   "cell_type": "markdown",
   "metadata": {
    "papermill": {
     "duration": 0.030307,
     "end_time": "2020-09-21T08:22:49.257393",
     "exception": false,
     "start_time": "2020-09-21T08:22:49.227086",
     "status": "completed"
    },
    "tags": []
   },
   "source": [
    "As you can see above, we obtain the heatmap of correlation among the variables. The color palette in the side represents the amount of correlation among the variables. The lighter shade represents a high correlation."
   ]
  },
  {
   "cell_type": "code",
   "execution_count": 11,
   "metadata": {
    "execution": {
     "iopub.execute_input": "2020-09-21T08:22:49.324964Z",
     "iopub.status.busy": "2020-09-21T08:22:49.323905Z",
     "iopub.status.idle": "2020-09-21T08:22:49.327626Z",
     "shell.execute_reply": "2020-09-21T08:22:49.326977Z"
    },
    "papermill": {
     "duration": 0.039952,
     "end_time": "2020-09-21T08:22:49.327751",
     "exception": false,
     "start_time": "2020-09-21T08:22:49.287799",
     "status": "completed"
    },
    "tags": []
   },
   "outputs": [],
   "source": [
    "#Select feature column names and target variable we are going to use for training\n",
    "features=['Gender','Age','Driving_License','Region_Code','Previously_Insured','Vehicle_Age','Vehicle_Damage','Annual_Premium',\n",
    "'Policy_Sales_Channel','Vintage']\n",
    "target = 'Response'"
   ]
  },
  {
   "cell_type": "code",
   "execution_count": 12,
   "metadata": {
    "execution": {
     "iopub.execute_input": "2020-09-21T08:22:49.423027Z",
     "iopub.status.busy": "2020-09-21T08:22:49.421871Z",
     "iopub.status.idle": "2020-09-21T08:22:49.426900Z",
     "shell.execute_reply": "2020-09-21T08:22:49.426295Z"
    },
    "papermill": {
     "duration": 0.067637,
     "end_time": "2020-09-21T08:22:49.427031",
     "exception": false,
     "start_time": "2020-09-21T08:22:49.359394",
     "status": "completed"
    },
    "tags": []
   },
   "outputs": [
    {
     "data": {
      "text/html": [
       "<div>\n",
       "<style scoped>\n",
       "    .dataframe tbody tr th:only-of-type {\n",
       "        vertical-align: middle;\n",
       "    }\n",
       "\n",
       "    .dataframe tbody tr th {\n",
       "        vertical-align: top;\n",
       "    }\n",
       "\n",
       "    .dataframe thead th {\n",
       "        text-align: right;\n",
       "    }\n",
       "</style>\n",
       "<table border=\"1\" class=\"dataframe\">\n",
       "  <thead>\n",
       "    <tr style=\"text-align: right;\">\n",
       "      <th></th>\n",
       "      <th>Gender</th>\n",
       "      <th>Age</th>\n",
       "      <th>Driving_License</th>\n",
       "      <th>Region_Code</th>\n",
       "      <th>Previously_Insured</th>\n",
       "      <th>Vehicle_Age</th>\n",
       "      <th>Vehicle_Damage</th>\n",
       "      <th>Annual_Premium</th>\n",
       "      <th>Policy_Sales_Channel</th>\n",
       "      <th>Vintage</th>\n",
       "    </tr>\n",
       "  </thead>\n",
       "  <tbody>\n",
       "    <tr>\n",
       "      <th>0</th>\n",
       "      <td>1</td>\n",
       "      <td>44</td>\n",
       "      <td>1</td>\n",
       "      <td>28.0</td>\n",
       "      <td>0</td>\n",
       "      <td>0</td>\n",
       "      <td>0</td>\n",
       "      <td>40454.0</td>\n",
       "      <td>26.0</td>\n",
       "      <td>217</td>\n",
       "    </tr>\n",
       "    <tr>\n",
       "      <th>1</th>\n",
       "      <td>1</td>\n",
       "      <td>76</td>\n",
       "      <td>1</td>\n",
       "      <td>3.0</td>\n",
       "      <td>0</td>\n",
       "      <td>1</td>\n",
       "      <td>1</td>\n",
       "      <td>33536.0</td>\n",
       "      <td>26.0</td>\n",
       "      <td>183</td>\n",
       "    </tr>\n",
       "    <tr>\n",
       "      <th>2</th>\n",
       "      <td>1</td>\n",
       "      <td>47</td>\n",
       "      <td>1</td>\n",
       "      <td>28.0</td>\n",
       "      <td>0</td>\n",
       "      <td>0</td>\n",
       "      <td>0</td>\n",
       "      <td>38294.0</td>\n",
       "      <td>26.0</td>\n",
       "      <td>27</td>\n",
       "    </tr>\n",
       "    <tr>\n",
       "      <th>3</th>\n",
       "      <td>1</td>\n",
       "      <td>21</td>\n",
       "      <td>1</td>\n",
       "      <td>11.0</td>\n",
       "      <td>1</td>\n",
       "      <td>2</td>\n",
       "      <td>1</td>\n",
       "      <td>28619.0</td>\n",
       "      <td>152.0</td>\n",
       "      <td>203</td>\n",
       "    </tr>\n",
       "    <tr>\n",
       "      <th>4</th>\n",
       "      <td>0</td>\n",
       "      <td>29</td>\n",
       "      <td>1</td>\n",
       "      <td>41.0</td>\n",
       "      <td>1</td>\n",
       "      <td>2</td>\n",
       "      <td>1</td>\n",
       "      <td>27496.0</td>\n",
       "      <td>152.0</td>\n",
       "      <td>39</td>\n",
       "    </tr>\n",
       "    <tr>\n",
       "      <th>5</th>\n",
       "      <td>0</td>\n",
       "      <td>24</td>\n",
       "      <td>1</td>\n",
       "      <td>33.0</td>\n",
       "      <td>0</td>\n",
       "      <td>2</td>\n",
       "      <td>0</td>\n",
       "      <td>2630.0</td>\n",
       "      <td>160.0</td>\n",
       "      <td>176</td>\n",
       "    </tr>\n",
       "    <tr>\n",
       "      <th>6</th>\n",
       "      <td>1</td>\n",
       "      <td>23</td>\n",
       "      <td>1</td>\n",
       "      <td>11.0</td>\n",
       "      <td>0</td>\n",
       "      <td>2</td>\n",
       "      <td>0</td>\n",
       "      <td>23367.0</td>\n",
       "      <td>152.0</td>\n",
       "      <td>249</td>\n",
       "    </tr>\n",
       "    <tr>\n",
       "      <th>7</th>\n",
       "      <td>0</td>\n",
       "      <td>56</td>\n",
       "      <td>1</td>\n",
       "      <td>28.0</td>\n",
       "      <td>0</td>\n",
       "      <td>1</td>\n",
       "      <td>0</td>\n",
       "      <td>32031.0</td>\n",
       "      <td>26.0</td>\n",
       "      <td>72</td>\n",
       "    </tr>\n",
       "    <tr>\n",
       "      <th>8</th>\n",
       "      <td>0</td>\n",
       "      <td>24</td>\n",
       "      <td>1</td>\n",
       "      <td>3.0</td>\n",
       "      <td>1</td>\n",
       "      <td>2</td>\n",
       "      <td>1</td>\n",
       "      <td>27619.0</td>\n",
       "      <td>152.0</td>\n",
       "      <td>28</td>\n",
       "    </tr>\n",
       "    <tr>\n",
       "      <th>9</th>\n",
       "      <td>0</td>\n",
       "      <td>32</td>\n",
       "      <td>1</td>\n",
       "      <td>6.0</td>\n",
       "      <td>1</td>\n",
       "      <td>2</td>\n",
       "      <td>1</td>\n",
       "      <td>28771.0</td>\n",
       "      <td>152.0</td>\n",
       "      <td>80</td>\n",
       "    </tr>\n",
       "  </tbody>\n",
       "</table>\n",
       "</div>"
      ],
      "text/plain": [
       "   Gender  Age  Driving_License  Region_Code  Previously_Insured  Vehicle_Age  \\\n",
       "0       1   44                1         28.0                   0            0   \n",
       "1       1   76                1          3.0                   0            1   \n",
       "2       1   47                1         28.0                   0            0   \n",
       "3       1   21                1         11.0                   1            2   \n",
       "4       0   29                1         41.0                   1            2   \n",
       "5       0   24                1         33.0                   0            2   \n",
       "6       1   23                1         11.0                   0            2   \n",
       "7       0   56                1         28.0                   0            1   \n",
       "8       0   24                1          3.0                   1            2   \n",
       "9       0   32                1          6.0                   1            2   \n",
       "\n",
       "   Vehicle_Damage  Annual_Premium  Policy_Sales_Channel  Vintage  \n",
       "0               0         40454.0                  26.0      217  \n",
       "1               1         33536.0                  26.0      183  \n",
       "2               0         38294.0                  26.0       27  \n",
       "3               1         28619.0                 152.0      203  \n",
       "4               1         27496.0                 152.0       39  \n",
       "5               0          2630.0                 160.0      176  \n",
       "6               0         23367.0                 152.0      249  \n",
       "7               0         32031.0                  26.0       72  \n",
       "8               1         27619.0                 152.0       28  \n",
       "9               1         28771.0                 152.0       80  "
      ]
     },
     "execution_count": 12,
     "metadata": {},
     "output_type": "execute_result"
    }
   ],
   "source": [
    "#This is input which our classifier will use as an input.\n",
    "train[features].head(10)"
   ]
  },
  {
   "cell_type": "code",
   "execution_count": 13,
   "metadata": {
    "execution": {
     "iopub.execute_input": "2020-09-21T08:22:49.496400Z",
     "iopub.status.busy": "2020-09-21T08:22:49.495590Z",
     "iopub.status.idle": "2020-09-21T08:22:49.500576Z",
     "shell.execute_reply": "2020-09-21T08:22:49.499950Z"
    },
    "papermill": {
     "duration": 0.04197,
     "end_time": "2020-09-21T08:22:49.500700",
     "exception": false,
     "start_time": "2020-09-21T08:22:49.458730",
     "status": "completed"
    },
    "tags": []
   },
   "outputs": [
    {
     "data": {
      "text/plain": [
       "array([1, 0, 1, 0, 0, 0, 0, 1, 0, 0], dtype=int64)"
      ]
     },
     "execution_count": 13,
     "metadata": {},
     "output_type": "execute_result"
    }
   ],
   "source": [
    "#Display first 10 target variables\n",
    "train[target].head(10).values"
   ]
  },
  {
   "cell_type": "markdown",
   "metadata": {
    "papermill": {
     "duration": 0.031954,
     "end_time": "2020-09-21T08:22:49.565057",
     "exception": false,
     "start_time": "2020-09-21T08:22:49.533103",
     "status": "completed"
    },
    "tags": []
   },
   "source": [
    "## Random forest classification\n",
    "\n",
    "Based on the previous classification method, random forest is a supervised learning algorithm that creates a forest randomly. This forest, is a set of decision trees, most of the times trained with the bagging method. The essential idea of bagging is to average many noisy but approximately impartial models, and therefore reduce the variation. Each tree is constructed using the following algorithm:\n",
    "\n",
    "* Let $N$ be the number of test cases, $M$ is the number of variables in the classifier.\n",
    "* Let $m$ be the number of input variables to be used to determine the decision in a given node; $m<M$.\n",
    "* Choose a training set for this tree and use the rest of the test cases to estimate the error.\n",
    "* For each node of the tree, randomly choose $m$ variables on which to base the decision. Calculate the best partition of the training set from the $m$ variables.\n",
    "\n",
    "For prediction a new case is pushed down the tree. Then it is assigned the label of the terminal node where it ends. This process is iterated by all the trees in the assembly, and the label that gets the most incidents is reported as the prediction. We define the number of trees in the forest in 100. "
   ]
  },
  {
   "cell_type": "code",
   "execution_count": 26,
   "metadata": {},
   "outputs": [],
   "source": [
    "X=train[features]\n",
    "y=train[target]"
   ]
  },
  {
   "cell_type": "code",
   "execution_count": 27,
   "metadata": {},
   "outputs": [
    {
     "data": {
      "application/javascript": "\n        if (window._pyforest_update_imports_cell) { window._pyforest_update_imports_cell('from sklearn.model_selection import train_test_split\\nimport seaborn as sns\\nimport pandas as pd'); }\n    ",
      "text/plain": [
       "<IPython.core.display.Javascript object>"
      ]
     },
     "metadata": {},
     "output_type": "display_data"
    }
   ],
   "source": [
    "X_train, X_test, y_train, y_test = train_test_split(X, y, test_size=0.2, random_state=42)"
   ]
  },
  {
   "cell_type": "code",
   "execution_count": 29,
   "metadata": {
    "execution": {
     "iopub.execute_input": "2020-09-21T08:22:49.636175Z",
     "iopub.status.busy": "2020-09-21T08:22:49.635414Z",
     "iopub.status.idle": "2020-09-21T08:23:23.626023Z",
     "shell.execute_reply": "2020-09-21T08:23:23.626636Z"
    },
    "papermill": {
     "duration": 34.029559,
     "end_time": "2020-09-21T08:23:23.626795",
     "exception": false,
     "start_time": "2020-09-21T08:22:49.597236",
     "status": "completed"
    },
    "tags": []
   },
   "outputs": [
    {
     "ename": "ValueError",
     "evalue": "could not convert string to float: 'Female'",
     "output_type": "error",
     "traceback": [
      "\u001b[1;31m---------------------------------------------------------------------------\u001b[0m",
      "\u001b[1;31mValueError\u001b[0m                                Traceback (most recent call last)",
      "Cell \u001b[1;32mIn[29], line 7\u001b[0m\n\u001b[0;32m      4\u001b[0m rfcla \u001b[38;5;241m=\u001b[39m RandomForestClassifier(n_estimators\u001b[38;5;241m=\u001b[39m\u001b[38;5;241m100\u001b[39m,random_state\u001b[38;5;241m=\u001b[39m\u001b[38;5;241m9\u001b[39m,n_jobs\u001b[38;5;241m=\u001b[39m\u001b[38;5;241m-\u001b[39m\u001b[38;5;241m1\u001b[39m)\n\u001b[0;32m      6\u001b[0m \u001b[38;5;66;03m# We train model\u001b[39;00m\n\u001b[1;32m----> 7\u001b[0m \u001b[43mrfcla\u001b[49m\u001b[38;5;241;43m.\u001b[39;49m\u001b[43mfit\u001b[49m\u001b[43m(\u001b[49m\u001b[43mX_train\u001b[49m\u001b[43m,\u001b[49m\u001b[43my_train\u001b[49m\u001b[43m)\u001b[49m\n",
      "File \u001b[1;32mc:\\Users\\samym\\anaconda3\\lib\\site-packages\\sklearn\\base.py:1152\u001b[0m, in \u001b[0;36m_fit_context.<locals>.decorator.<locals>.wrapper\u001b[1;34m(estimator, *args, **kwargs)\u001b[0m\n\u001b[0;32m   1145\u001b[0m     estimator\u001b[38;5;241m.\u001b[39m_validate_params()\n\u001b[0;32m   1147\u001b[0m \u001b[38;5;28;01mwith\u001b[39;00m config_context(\n\u001b[0;32m   1148\u001b[0m     skip_parameter_validation\u001b[38;5;241m=\u001b[39m(\n\u001b[0;32m   1149\u001b[0m         prefer_skip_nested_validation \u001b[38;5;129;01mor\u001b[39;00m global_skip_validation\n\u001b[0;32m   1150\u001b[0m     )\n\u001b[0;32m   1151\u001b[0m ):\n\u001b[1;32m-> 1152\u001b[0m     \u001b[38;5;28;01mreturn\u001b[39;00m fit_method(estimator, \u001b[38;5;241m*\u001b[39margs, \u001b[38;5;241m*\u001b[39m\u001b[38;5;241m*\u001b[39mkwargs)\n",
      "File \u001b[1;32mc:\\Users\\samym\\anaconda3\\lib\\site-packages\\sklearn\\ensemble\\_forest.py:348\u001b[0m, in \u001b[0;36mBaseForest.fit\u001b[1;34m(self, X, y, sample_weight)\u001b[0m\n\u001b[0;32m    346\u001b[0m \u001b[38;5;28;01mif\u001b[39;00m issparse(y):\n\u001b[0;32m    347\u001b[0m     \u001b[38;5;28;01mraise\u001b[39;00m \u001b[38;5;167;01mValueError\u001b[39;00m(\u001b[38;5;124m\"\u001b[39m\u001b[38;5;124msparse multilabel-indicator for y is not supported.\u001b[39m\u001b[38;5;124m\"\u001b[39m)\n\u001b[1;32m--> 348\u001b[0m X, y \u001b[38;5;241m=\u001b[39m \u001b[38;5;28;43mself\u001b[39;49m\u001b[38;5;241;43m.\u001b[39;49m\u001b[43m_validate_data\u001b[49m\u001b[43m(\u001b[49m\n\u001b[0;32m    349\u001b[0m \u001b[43m    \u001b[49m\u001b[43mX\u001b[49m\u001b[43m,\u001b[49m\u001b[43m \u001b[49m\u001b[43my\u001b[49m\u001b[43m,\u001b[49m\u001b[43m \u001b[49m\u001b[43mmulti_output\u001b[49m\u001b[38;5;241;43m=\u001b[39;49m\u001b[38;5;28;43;01mTrue\u001b[39;49;00m\u001b[43m,\u001b[49m\u001b[43m \u001b[49m\u001b[43maccept_sparse\u001b[49m\u001b[38;5;241;43m=\u001b[39;49m\u001b[38;5;124;43m\"\u001b[39;49m\u001b[38;5;124;43mcsc\u001b[39;49m\u001b[38;5;124;43m\"\u001b[39;49m\u001b[43m,\u001b[49m\u001b[43m \u001b[49m\u001b[43mdtype\u001b[49m\u001b[38;5;241;43m=\u001b[39;49m\u001b[43mDTYPE\u001b[49m\n\u001b[0;32m    350\u001b[0m \u001b[43m\u001b[49m\u001b[43m)\u001b[49m\n\u001b[0;32m    351\u001b[0m \u001b[38;5;28;01mif\u001b[39;00m sample_weight \u001b[38;5;129;01mis\u001b[39;00m \u001b[38;5;129;01mnot\u001b[39;00m \u001b[38;5;28;01mNone\u001b[39;00m:\n\u001b[0;32m    352\u001b[0m     sample_weight \u001b[38;5;241m=\u001b[39m _check_sample_weight(sample_weight, X)\n",
      "File \u001b[1;32mc:\\Users\\samym\\anaconda3\\lib\\site-packages\\sklearn\\base.py:622\u001b[0m, in \u001b[0;36mBaseEstimator._validate_data\u001b[1;34m(self, X, y, reset, validate_separately, cast_to_ndarray, **check_params)\u001b[0m\n\u001b[0;32m    620\u001b[0m         y \u001b[38;5;241m=\u001b[39m check_array(y, input_name\u001b[38;5;241m=\u001b[39m\u001b[38;5;124m\"\u001b[39m\u001b[38;5;124my\u001b[39m\u001b[38;5;124m\"\u001b[39m, \u001b[38;5;241m*\u001b[39m\u001b[38;5;241m*\u001b[39mcheck_y_params)\n\u001b[0;32m    621\u001b[0m     \u001b[38;5;28;01melse\u001b[39;00m:\n\u001b[1;32m--> 622\u001b[0m         X, y \u001b[38;5;241m=\u001b[39m check_X_y(X, y, \u001b[38;5;241m*\u001b[39m\u001b[38;5;241m*\u001b[39mcheck_params)\n\u001b[0;32m    623\u001b[0m     out \u001b[38;5;241m=\u001b[39m X, y\n\u001b[0;32m    625\u001b[0m \u001b[38;5;28;01mif\u001b[39;00m \u001b[38;5;129;01mnot\u001b[39;00m no_val_X \u001b[38;5;129;01mand\u001b[39;00m check_params\u001b[38;5;241m.\u001b[39mget(\u001b[38;5;124m\"\u001b[39m\u001b[38;5;124mensure_2d\u001b[39m\u001b[38;5;124m\"\u001b[39m, \u001b[38;5;28;01mTrue\u001b[39;00m):\n",
      "File \u001b[1;32mc:\\Users\\samym\\anaconda3\\lib\\site-packages\\sklearn\\utils\\validation.py:1146\u001b[0m, in \u001b[0;36mcheck_X_y\u001b[1;34m(X, y, accept_sparse, accept_large_sparse, dtype, order, copy, force_all_finite, ensure_2d, allow_nd, multi_output, ensure_min_samples, ensure_min_features, y_numeric, estimator)\u001b[0m\n\u001b[0;32m   1141\u001b[0m         estimator_name \u001b[38;5;241m=\u001b[39m _check_estimator_name(estimator)\n\u001b[0;32m   1142\u001b[0m     \u001b[38;5;28;01mraise\u001b[39;00m \u001b[38;5;167;01mValueError\u001b[39;00m(\n\u001b[0;32m   1143\u001b[0m         \u001b[38;5;124mf\u001b[39m\u001b[38;5;124m\"\u001b[39m\u001b[38;5;132;01m{\u001b[39;00mestimator_name\u001b[38;5;132;01m}\u001b[39;00m\u001b[38;5;124m requires y to be passed, but the target y is None\u001b[39m\u001b[38;5;124m\"\u001b[39m\n\u001b[0;32m   1144\u001b[0m     )\n\u001b[1;32m-> 1146\u001b[0m X \u001b[38;5;241m=\u001b[39m \u001b[43mcheck_array\u001b[49m\u001b[43m(\u001b[49m\n\u001b[0;32m   1147\u001b[0m \u001b[43m    \u001b[49m\u001b[43mX\u001b[49m\u001b[43m,\u001b[49m\n\u001b[0;32m   1148\u001b[0m \u001b[43m    \u001b[49m\u001b[43maccept_sparse\u001b[49m\u001b[38;5;241;43m=\u001b[39;49m\u001b[43maccept_sparse\u001b[49m\u001b[43m,\u001b[49m\n\u001b[0;32m   1149\u001b[0m \u001b[43m    \u001b[49m\u001b[43maccept_large_sparse\u001b[49m\u001b[38;5;241;43m=\u001b[39;49m\u001b[43maccept_large_sparse\u001b[49m\u001b[43m,\u001b[49m\n\u001b[0;32m   1150\u001b[0m \u001b[43m    \u001b[49m\u001b[43mdtype\u001b[49m\u001b[38;5;241;43m=\u001b[39;49m\u001b[43mdtype\u001b[49m\u001b[43m,\u001b[49m\n\u001b[0;32m   1151\u001b[0m \u001b[43m    \u001b[49m\u001b[43morder\u001b[49m\u001b[38;5;241;43m=\u001b[39;49m\u001b[43morder\u001b[49m\u001b[43m,\u001b[49m\n\u001b[0;32m   1152\u001b[0m \u001b[43m    \u001b[49m\u001b[43mcopy\u001b[49m\u001b[38;5;241;43m=\u001b[39;49m\u001b[43mcopy\u001b[49m\u001b[43m,\u001b[49m\n\u001b[0;32m   1153\u001b[0m \u001b[43m    \u001b[49m\u001b[43mforce_all_finite\u001b[49m\u001b[38;5;241;43m=\u001b[39;49m\u001b[43mforce_all_finite\u001b[49m\u001b[43m,\u001b[49m\n\u001b[0;32m   1154\u001b[0m \u001b[43m    \u001b[49m\u001b[43mensure_2d\u001b[49m\u001b[38;5;241;43m=\u001b[39;49m\u001b[43mensure_2d\u001b[49m\u001b[43m,\u001b[49m\n\u001b[0;32m   1155\u001b[0m \u001b[43m    \u001b[49m\u001b[43mallow_nd\u001b[49m\u001b[38;5;241;43m=\u001b[39;49m\u001b[43mallow_nd\u001b[49m\u001b[43m,\u001b[49m\n\u001b[0;32m   1156\u001b[0m \u001b[43m    \u001b[49m\u001b[43mensure_min_samples\u001b[49m\u001b[38;5;241;43m=\u001b[39;49m\u001b[43mensure_min_samples\u001b[49m\u001b[43m,\u001b[49m\n\u001b[0;32m   1157\u001b[0m \u001b[43m    \u001b[49m\u001b[43mensure_min_features\u001b[49m\u001b[38;5;241;43m=\u001b[39;49m\u001b[43mensure_min_features\u001b[49m\u001b[43m,\u001b[49m\n\u001b[0;32m   1158\u001b[0m \u001b[43m    \u001b[49m\u001b[43mestimator\u001b[49m\u001b[38;5;241;43m=\u001b[39;49m\u001b[43mestimator\u001b[49m\u001b[43m,\u001b[49m\n\u001b[0;32m   1159\u001b[0m \u001b[43m    \u001b[49m\u001b[43minput_name\u001b[49m\u001b[38;5;241;43m=\u001b[39;49m\u001b[38;5;124;43m\"\u001b[39;49m\u001b[38;5;124;43mX\u001b[39;49m\u001b[38;5;124;43m\"\u001b[39;49m\u001b[43m,\u001b[49m\n\u001b[0;32m   1160\u001b[0m \u001b[43m\u001b[49m\u001b[43m)\u001b[49m\n\u001b[0;32m   1162\u001b[0m y \u001b[38;5;241m=\u001b[39m _check_y(y, multi_output\u001b[38;5;241m=\u001b[39mmulti_output, y_numeric\u001b[38;5;241m=\u001b[39my_numeric, estimator\u001b[38;5;241m=\u001b[39mestimator)\n\u001b[0;32m   1164\u001b[0m check_consistent_length(X, y)\n",
      "File \u001b[1;32mc:\\Users\\samym\\anaconda3\\lib\\site-packages\\sklearn\\utils\\validation.py:915\u001b[0m, in \u001b[0;36mcheck_array\u001b[1;34m(array, accept_sparse, accept_large_sparse, dtype, order, copy, force_all_finite, ensure_2d, allow_nd, ensure_min_samples, ensure_min_features, estimator, input_name)\u001b[0m\n\u001b[0;32m    913\u001b[0m         array \u001b[38;5;241m=\u001b[39m xp\u001b[38;5;241m.\u001b[39mastype(array, dtype, copy\u001b[38;5;241m=\u001b[39m\u001b[38;5;28;01mFalse\u001b[39;00m)\n\u001b[0;32m    914\u001b[0m     \u001b[38;5;28;01melse\u001b[39;00m:\n\u001b[1;32m--> 915\u001b[0m         array \u001b[38;5;241m=\u001b[39m \u001b[43m_asarray_with_order\u001b[49m\u001b[43m(\u001b[49m\u001b[43marray\u001b[49m\u001b[43m,\u001b[49m\u001b[43m \u001b[49m\u001b[43morder\u001b[49m\u001b[38;5;241;43m=\u001b[39;49m\u001b[43morder\u001b[49m\u001b[43m,\u001b[49m\u001b[43m \u001b[49m\u001b[43mdtype\u001b[49m\u001b[38;5;241;43m=\u001b[39;49m\u001b[43mdtype\u001b[49m\u001b[43m,\u001b[49m\u001b[43m \u001b[49m\u001b[43mxp\u001b[49m\u001b[38;5;241;43m=\u001b[39;49m\u001b[43mxp\u001b[49m\u001b[43m)\u001b[49m\n\u001b[0;32m    916\u001b[0m \u001b[38;5;28;01mexcept\u001b[39;00m ComplexWarning \u001b[38;5;28;01mas\u001b[39;00m complex_warning:\n\u001b[0;32m    917\u001b[0m     \u001b[38;5;28;01mraise\u001b[39;00m \u001b[38;5;167;01mValueError\u001b[39;00m(\n\u001b[0;32m    918\u001b[0m         \u001b[38;5;124m\"\u001b[39m\u001b[38;5;124mComplex data not supported\u001b[39m\u001b[38;5;130;01m\\n\u001b[39;00m\u001b[38;5;132;01m{}\u001b[39;00m\u001b[38;5;130;01m\\n\u001b[39;00m\u001b[38;5;124m\"\u001b[39m\u001b[38;5;241m.\u001b[39mformat(array)\n\u001b[0;32m    919\u001b[0m     ) \u001b[38;5;28;01mfrom\u001b[39;00m \u001b[38;5;21;01mcomplex_warning\u001b[39;00m\n",
      "File \u001b[1;32mc:\\Users\\samym\\anaconda3\\lib\\site-packages\\sklearn\\utils\\_array_api.py:380\u001b[0m, in \u001b[0;36m_asarray_with_order\u001b[1;34m(array, dtype, order, copy, xp)\u001b[0m\n\u001b[0;32m    378\u001b[0m     array \u001b[38;5;241m=\u001b[39m numpy\u001b[38;5;241m.\u001b[39marray(array, order\u001b[38;5;241m=\u001b[39morder, dtype\u001b[38;5;241m=\u001b[39mdtype)\n\u001b[0;32m    379\u001b[0m \u001b[38;5;28;01melse\u001b[39;00m:\n\u001b[1;32m--> 380\u001b[0m     array \u001b[38;5;241m=\u001b[39m \u001b[43mnumpy\u001b[49m\u001b[38;5;241;43m.\u001b[39;49m\u001b[43masarray\u001b[49m\u001b[43m(\u001b[49m\u001b[43marray\u001b[49m\u001b[43m,\u001b[49m\u001b[43m \u001b[49m\u001b[43morder\u001b[49m\u001b[38;5;241;43m=\u001b[39;49m\u001b[43morder\u001b[49m\u001b[43m,\u001b[49m\u001b[43m \u001b[49m\u001b[43mdtype\u001b[49m\u001b[38;5;241;43m=\u001b[39;49m\u001b[43mdtype\u001b[49m\u001b[43m)\u001b[49m\n\u001b[0;32m    382\u001b[0m \u001b[38;5;66;03m# At this point array is a NumPy ndarray. We convert it to an array\u001b[39;00m\n\u001b[0;32m    383\u001b[0m \u001b[38;5;66;03m# container that is consistent with the input's namespace.\u001b[39;00m\n\u001b[0;32m    384\u001b[0m \u001b[38;5;28;01mreturn\u001b[39;00m xp\u001b[38;5;241m.\u001b[39masarray(array)\n",
      "File \u001b[1;32mc:\\Users\\samym\\anaconda3\\lib\\site-packages\\pandas\\core\\generic.py:2070\u001b[0m, in \u001b[0;36mNDFrame.__array__\u001b[1;34m(self, dtype)\u001b[0m\n\u001b[0;32m   2069\u001b[0m \u001b[38;5;28;01mdef\u001b[39;00m \u001b[38;5;21m__array__\u001b[39m(\u001b[38;5;28mself\u001b[39m, dtype: npt\u001b[38;5;241m.\u001b[39mDTypeLike \u001b[38;5;241m|\u001b[39m \u001b[38;5;28;01mNone\u001b[39;00m \u001b[38;5;241m=\u001b[39m \u001b[38;5;28;01mNone\u001b[39;00m) \u001b[38;5;241m-\u001b[39m\u001b[38;5;241m>\u001b[39m np\u001b[38;5;241m.\u001b[39mndarray:\n\u001b[1;32m-> 2070\u001b[0m     \u001b[38;5;28;01mreturn\u001b[39;00m \u001b[43mnp\u001b[49m\u001b[38;5;241;43m.\u001b[39;49m\u001b[43masarray\u001b[49m\u001b[43m(\u001b[49m\u001b[38;5;28;43mself\u001b[39;49m\u001b[38;5;241;43m.\u001b[39;49m\u001b[43m_values\u001b[49m\u001b[43m,\u001b[49m\u001b[43m \u001b[49m\u001b[43mdtype\u001b[49m\u001b[38;5;241;43m=\u001b[39;49m\u001b[43mdtype\u001b[49m\u001b[43m)\u001b[49m\n",
      "\u001b[1;31mValueError\u001b[0m: could not convert string to float: 'Female'"
     ]
    }
   ],
   "source": [
    "from sklearn.ensemble import RandomForestClassifier\n",
    "\n",
    "# We define the RF model\n",
    "rfcla = RandomForestClassifier(n_estimators=100,random_state=9,n_jobs=-1)\n",
    "\n",
    "# We train model\n",
    "rfcla.fit(X_train,y_train) \n",
    "\n"
   ]
  },
  {
   "cell_type": "code",
   "execution_count": 15,
   "metadata": {
    "execution": {
     "iopub.execute_input": "2020-09-21T08:23:23.703522Z",
     "iopub.status.busy": "2020-09-21T08:23:23.702690Z",
     "iopub.status.idle": "2020-09-21T08:23:24.618411Z",
     "shell.execute_reply": "2020-09-21T08:23:24.617632Z"
    },
    "papermill": {
     "duration": 0.959205,
     "end_time": "2020-09-21T08:23:24.618578",
     "exception": false,
     "start_time": "2020-09-21T08:23:23.659373",
     "status": "completed"
    },
    "tags": []
   },
   "outputs": [
    {
     "data": {
      "text/plain": [
       "array([0, 0, 0, ..., 0, 0, 0], dtype=int64)"
      ]
     },
     "execution_count": 15,
     "metadata": {},
     "output_type": "execute_result"
    }
   ],
   "source": [
    "#Make predictions using the features from the test data set\n",
    "predictions = rfcla .predict(test[features])\n",
    "\n",
    "#Display our predictions\n",
    "predictions"
   ]
  },
  {
   "cell_type": "code",
   "execution_count": 21,
   "metadata": {},
   "outputs": [
    {
     "data": {
      "text/html": [
       "<div>\n",
       "<style scoped>\n",
       "    .dataframe tbody tr th:only-of-type {\n",
       "        vertical-align: middle;\n",
       "    }\n",
       "\n",
       "    .dataframe tbody tr th {\n",
       "        vertical-align: top;\n",
       "    }\n",
       "\n",
       "    .dataframe thead th {\n",
       "        text-align: right;\n",
       "    }\n",
       "</style>\n",
       "<table border=\"1\" class=\"dataframe\">\n",
       "  <thead>\n",
       "    <tr style=\"text-align: right;\">\n",
       "      <th></th>\n",
       "      <th>id</th>\n",
       "      <th>Gender</th>\n",
       "      <th>Age</th>\n",
       "      <th>Driving_License</th>\n",
       "      <th>Region_Code</th>\n",
       "      <th>Previously_Insured</th>\n",
       "      <th>Vehicle_Age</th>\n",
       "      <th>Vehicle_Damage</th>\n",
       "      <th>Annual_Premium</th>\n",
       "      <th>Policy_Sales_Channel</th>\n",
       "      <th>Vintage</th>\n",
       "    </tr>\n",
       "  </thead>\n",
       "  <tbody>\n",
       "    <tr>\n",
       "      <th>0</th>\n",
       "      <td>381110</td>\n",
       "      <td>1</td>\n",
       "      <td>25</td>\n",
       "      <td>1</td>\n",
       "      <td>11.0</td>\n",
       "      <td>1</td>\n",
       "      <td>2</td>\n",
       "      <td>0</td>\n",
       "      <td>35786.0</td>\n",
       "      <td>152.0</td>\n",
       "      <td>53</td>\n",
       "    </tr>\n",
       "    <tr>\n",
       "      <th>1</th>\n",
       "      <td>381111</td>\n",
       "      <td>1</td>\n",
       "      <td>40</td>\n",
       "      <td>1</td>\n",
       "      <td>28.0</td>\n",
       "      <td>0</td>\n",
       "      <td>1</td>\n",
       "      <td>1</td>\n",
       "      <td>33762.0</td>\n",
       "      <td>7.0</td>\n",
       "      <td>111</td>\n",
       "    </tr>\n",
       "    <tr>\n",
       "      <th>2</th>\n",
       "      <td>381112</td>\n",
       "      <td>1</td>\n",
       "      <td>47</td>\n",
       "      <td>1</td>\n",
       "      <td>28.0</td>\n",
       "      <td>0</td>\n",
       "      <td>1</td>\n",
       "      <td>1</td>\n",
       "      <td>40050.0</td>\n",
       "      <td>124.0</td>\n",
       "      <td>199</td>\n",
       "    </tr>\n",
       "    <tr>\n",
       "      <th>3</th>\n",
       "      <td>381113</td>\n",
       "      <td>1</td>\n",
       "      <td>24</td>\n",
       "      <td>1</td>\n",
       "      <td>27.0</td>\n",
       "      <td>1</td>\n",
       "      <td>2</td>\n",
       "      <td>1</td>\n",
       "      <td>37356.0</td>\n",
       "      <td>152.0</td>\n",
       "      <td>187</td>\n",
       "    </tr>\n",
       "    <tr>\n",
       "      <th>4</th>\n",
       "      <td>381114</td>\n",
       "      <td>1</td>\n",
       "      <td>27</td>\n",
       "      <td>1</td>\n",
       "      <td>28.0</td>\n",
       "      <td>1</td>\n",
       "      <td>2</td>\n",
       "      <td>0</td>\n",
       "      <td>59097.0</td>\n",
       "      <td>152.0</td>\n",
       "      <td>297</td>\n",
       "    </tr>\n",
       "    <tr>\n",
       "      <th>...</th>\n",
       "      <td>...</td>\n",
       "      <td>...</td>\n",
       "      <td>...</td>\n",
       "      <td>...</td>\n",
       "      <td>...</td>\n",
       "      <td>...</td>\n",
       "      <td>...</td>\n",
       "      <td>...</td>\n",
       "      <td>...</td>\n",
       "      <td>...</td>\n",
       "      <td>...</td>\n",
       "    </tr>\n",
       "    <tr>\n",
       "      <th>127032</th>\n",
       "      <td>508142</td>\n",
       "      <td>0</td>\n",
       "      <td>26</td>\n",
       "      <td>1</td>\n",
       "      <td>37.0</td>\n",
       "      <td>1</td>\n",
       "      <td>2</td>\n",
       "      <td>0</td>\n",
       "      <td>30867.0</td>\n",
       "      <td>152.0</td>\n",
       "      <td>56</td>\n",
       "    </tr>\n",
       "    <tr>\n",
       "      <th>127033</th>\n",
       "      <td>508143</td>\n",
       "      <td>0</td>\n",
       "      <td>38</td>\n",
       "      <td>1</td>\n",
       "      <td>28.0</td>\n",
       "      <td>0</td>\n",
       "      <td>1</td>\n",
       "      <td>1</td>\n",
       "      <td>28700.0</td>\n",
       "      <td>122.0</td>\n",
       "      <td>165</td>\n",
       "    </tr>\n",
       "    <tr>\n",
       "      <th>127034</th>\n",
       "      <td>508144</td>\n",
       "      <td>1</td>\n",
       "      <td>21</td>\n",
       "      <td>1</td>\n",
       "      <td>46.0</td>\n",
       "      <td>1</td>\n",
       "      <td>2</td>\n",
       "      <td>0</td>\n",
       "      <td>29802.0</td>\n",
       "      <td>152.0</td>\n",
       "      <td>74</td>\n",
       "    </tr>\n",
       "    <tr>\n",
       "      <th>127035</th>\n",
       "      <td>508145</td>\n",
       "      <td>1</td>\n",
       "      <td>71</td>\n",
       "      <td>1</td>\n",
       "      <td>28.0</td>\n",
       "      <td>1</td>\n",
       "      <td>1</td>\n",
       "      <td>0</td>\n",
       "      <td>62875.0</td>\n",
       "      <td>26.0</td>\n",
       "      <td>265</td>\n",
       "    </tr>\n",
       "    <tr>\n",
       "      <th>127036</th>\n",
       "      <td>508146</td>\n",
       "      <td>1</td>\n",
       "      <td>41</td>\n",
       "      <td>1</td>\n",
       "      <td>29.0</td>\n",
       "      <td>1</td>\n",
       "      <td>1</td>\n",
       "      <td>0</td>\n",
       "      <td>27927.0</td>\n",
       "      <td>124.0</td>\n",
       "      <td>231</td>\n",
       "    </tr>\n",
       "  </tbody>\n",
       "</table>\n",
       "<p>127037 rows × 11 columns</p>\n",
       "</div>"
      ],
      "text/plain": [
       "            id  Gender  Age  Driving_License  Region_Code  Previously_Insured  \\\n",
       "0       381110       1   25                1         11.0                   1   \n",
       "1       381111       1   40                1         28.0                   0   \n",
       "2       381112       1   47                1         28.0                   0   \n",
       "3       381113       1   24                1         27.0                   1   \n",
       "4       381114       1   27                1         28.0                   1   \n",
       "...        ...     ...  ...              ...          ...                 ...   \n",
       "127032  508142       0   26                1         37.0                   1   \n",
       "127033  508143       0   38                1         28.0                   0   \n",
       "127034  508144       1   21                1         46.0                   1   \n",
       "127035  508145       1   71                1         28.0                   1   \n",
       "127036  508146       1   41                1         29.0                   1   \n",
       "\n",
       "        Vehicle_Age  Vehicle_Damage  Annual_Premium  Policy_Sales_Channel  \\\n",
       "0                 2               0         35786.0                 152.0   \n",
       "1                 1               1         33762.0                   7.0   \n",
       "2                 1               1         40050.0                 124.0   \n",
       "3                 2               1         37356.0                 152.0   \n",
       "4                 2               0         59097.0                 152.0   \n",
       "...             ...             ...             ...                   ...   \n",
       "127032            2               0         30867.0                 152.0   \n",
       "127033            1               1         28700.0                 122.0   \n",
       "127034            2               0         29802.0                 152.0   \n",
       "127035            1               0         62875.0                  26.0   \n",
       "127036            1               0         27927.0                 124.0   \n",
       "\n",
       "        Vintage  \n",
       "0            53  \n",
       "1           111  \n",
       "2           199  \n",
       "3           187  \n",
       "4           297  \n",
       "...         ...  \n",
       "127032       56  \n",
       "127033      165  \n",
       "127034       74  \n",
       "127035      265  \n",
       "127036      231  \n",
       "\n",
       "[127037 rows x 11 columns]"
      ]
     },
     "execution_count": 21,
     "metadata": {},
     "output_type": "execute_result"
    }
   ],
   "source": [
    "test"
   ]
  },
  {
   "cell_type": "code",
   "execution_count": null,
   "metadata": {},
   "outputs": [],
   "source": []
  },
  {
   "cell_type": "code",
   "execution_count": null,
   "metadata": {},
   "outputs": [],
   "source": [
    "y_pred = rf_classifier.predict(X_test)\n",
    "accuracy = accuracy_score(y_test, y_pred)\n",
    "print(\"Accuracy:\", accuracy)"
   ]
  },
  {
   "cell_type": "code",
   "execution_count": 19,
   "metadata": {
    "execution": {
     "iopub.execute_input": "2020-09-21T08:23:24.692716Z",
     "iopub.status.busy": "2020-09-21T08:23:24.691960Z",
     "iopub.status.idle": "2020-09-21T08:23:24.701002Z",
     "shell.execute_reply": "2020-09-21T08:23:24.701557Z"
    },
    "papermill": {
     "duration": 0.04927,
     "end_time": "2020-09-21T08:23:24.701716",
     "exception": false,
     "start_time": "2020-09-21T08:23:24.652446",
     "status": "completed"
    },
    "tags": []
   },
   "outputs": [
    {
     "data": {
      "text/html": [
       "<div>\n",
       "<style scoped>\n",
       "    .dataframe tbody tr th:only-of-type {\n",
       "        vertical-align: middle;\n",
       "    }\n",
       "\n",
       "    .dataframe tbody tr th {\n",
       "        vertical-align: top;\n",
       "    }\n",
       "\n",
       "    .dataframe thead th {\n",
       "        text-align: right;\n",
       "    }\n",
       "</style>\n",
       "<table border=\"1\" class=\"dataframe\">\n",
       "  <thead>\n",
       "    <tr style=\"text-align: right;\">\n",
       "      <th></th>\n",
       "      <th>id</th>\n",
       "      <th>Response</th>\n",
       "    </tr>\n",
       "  </thead>\n",
       "  <tbody>\n",
       "    <tr>\n",
       "      <th>0</th>\n",
       "      <td>381110</td>\n",
       "      <td>0</td>\n",
       "    </tr>\n",
       "    <tr>\n",
       "      <th>1</th>\n",
       "      <td>381111</td>\n",
       "      <td>0</td>\n",
       "    </tr>\n",
       "    <tr>\n",
       "      <th>2</th>\n",
       "      <td>381112</td>\n",
       "      <td>0</td>\n",
       "    </tr>\n",
       "    <tr>\n",
       "      <th>3</th>\n",
       "      <td>381113</td>\n",
       "      <td>0</td>\n",
       "    </tr>\n",
       "    <tr>\n",
       "      <th>4</th>\n",
       "      <td>381114</td>\n",
       "      <td>0</td>\n",
       "    </tr>\n",
       "  </tbody>\n",
       "</table>\n",
       "</div>"
      ],
      "text/plain": [
       "       id  Response\n",
       "0  381110         0\n",
       "1  381111         0\n",
       "2  381112         0\n",
       "3  381113         0\n",
       "4  381114         0"
      ]
     },
     "execution_count": 19,
     "metadata": {},
     "output_type": "execute_result"
    }
   ],
   "source": [
    "#Create a  DataFrame\n",
    "submission = pd.DataFrame({'id':test['id'],'Response':predictions})\n",
    "\n",
    "#Visualize the first 5 rows\n",
    "submission.head()"
   ]
  },
  {
   "cell_type": "code",
   "execution_count": 20,
   "metadata": {
    "execution": {
     "iopub.execute_input": "2020-09-21T08:23:24.776445Z",
     "iopub.status.busy": "2020-09-21T08:23:24.775665Z",
     "iopub.status.idle": "2020-09-21T08:23:25.426109Z",
     "shell.execute_reply": "2020-09-21T08:23:25.426700Z"
    },
    "papermill": {
     "duration": 0.691118,
     "end_time": "2020-09-21T08:23:25.426870",
     "exception": false,
     "start_time": "2020-09-21T08:23:24.735752",
     "status": "completed"
    },
    "tags": []
   },
   "outputs": [
    {
     "name": "stdout",
     "output_type": "stream",
     "text": [
      "Saved file: submission.csv\n"
     ]
    }
   ],
   "source": [
    "#Convert DataFrame to a csv file that can be uploaded\n",
    "#This is saved in the same directory as your notebook\n",
    "filename = 'submission.csv'\n",
    "\n",
    "submission.to_csv(filename,index=False)\n",
    "\n",
    "print('Saved file: ' + filename)"
   ]
  }
 ],
 "metadata": {
  "kernelspec": {
   "display_name": "Python 3",
   "language": "python",
   "name": "python3"
  },
  "language_info": {
   "codemirror_mode": {
    "name": "ipython",
    "version": 3
   },
   "file_extension": ".py",
   "mimetype": "text/x-python",
   "name": "python",
   "nbconvert_exporter": "python",
   "pygments_lexer": "ipython3",
   "version": "3.10.9"
  },
  "papermill": {
   "duration": 46.070802,
   "end_time": "2020-09-21T08:23:25.570062",
   "environment_variables": {},
   "exception": null,
   "input_path": "__notebook__.ipynb",
   "output_path": "__notebook__.ipynb",
   "parameters": {},
   "start_time": "2020-09-21T08:22:39.499260",
   "version": "2.1.0"
  }
 },
 "nbformat": 4,
 "nbformat_minor": 4
}
